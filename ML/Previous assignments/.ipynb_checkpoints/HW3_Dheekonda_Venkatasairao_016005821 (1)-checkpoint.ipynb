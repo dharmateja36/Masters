{
 "cells": [
  {
   "cell_type": "markdown",
   "id": "815ca932",
   "metadata": {},
   "source": [
    "#### Import Libraries"
   ]
  },
  {
   "cell_type": "code",
   "execution_count": 1,
   "id": "5da91f56",
   "metadata": {},
   "outputs": [],
   "source": [
    "import pandas as pd\n",
    "import numpy as np\n",
    "from scipy.spatial import distance\n",
    "from math import sqrt\n",
    "import matplotlib.pyplot as plt\n",
    "from sklearn import datasets\n",
    "from sklearn.model_selection import train_test_split\n",
    "from scipy.stats import mode\n",
    "from sklearn.neighbors import KNeighborsClassifier\n",
    "from numpy.random import randint\n",
    "from sklearn.metrics import confusion_matrix, accuracy_score"
   ]
  },
  {
   "cell_type": "markdown",
   "id": "97663690",
   "metadata": {},
   "source": [
    "#### Chapter 5 Exercie 2"
   ]
  },
  {
   "cell_type": "markdown",
   "id": "ec9bd572",
   "metadata": {},
   "source": [
    "#### 2 (A)"
   ]
  },
  {
   "cell_type": "code",
   "execution_count": 2,
   "id": "d06ff70e",
   "metadata": {},
   "outputs": [],
   "source": [
    "a = np.array((0,1,1,0,0,1,1))\n",
    "ID1 = np.array((3,0,0,0,0,0,0))\n",
    "ID2 = np.array((1,2,1,1,1,0,0))\n",
    "ID3 = np.array((0,0,1,1,1,0,0))\n",
    "ID4 = np.array((0,0,1,0,3,1,1))\n",
    "ID5 = np.array((0,1,0,0,0,1,1))"
   ]
  },
  {
   "cell_type": "code",
   "execution_count": 3,
   "id": "3e532f38",
   "metadata": {},
   "outputs": [],
   "source": [
    "ED_1=np.sqrt(np.square(3-0) + np.square(0-1) + np.square(0-1) + np.square(0-0) + np.square(0-0)+ np.square(0-1) + np.square(0-1))\n",
    "ED_2=np.sqrt(np.square(1-0) + np.square(2-1) + np.square(1-1) + np.square(1-0) + np.square(1-0)+ np.square(0-1) + np.square(0-1))\n",
    "ED_3=np.sqrt(np.square(0-0) + np.square(0-1) + np.square(1-1) + np.square(1-0) + np.square(1-0)+ np.square(0-1) + np.square(0-1))\n",
    "ED_4=np.sqrt(np.square(0-0) + np.square(0-1) + np.square(1-1) + np.square(0-0) + np.square(3-0)+ np.square(1-1) + np.square(1-1))\n",
    "ED_5=np.sqrt(np.square(0-0) + np.square(1-1) + np.square(0-1) + np.square(0-0) + np.square(0-0)+ np.square(1-1) + np.square(1-1))"
   ]
  },
  {
   "cell_type": "code",
   "execution_count": 4,
   "id": "dd8da187",
   "metadata": {},
   "outputs": [
    {
     "name": "stdout",
     "output_type": "stream",
     "text": [
      "Eculidean Distance or ID_1  3.6056\n",
      "Eculidean Distance or ID_2  2.4495\n",
      "Eculidean Distance or ID_3  2.2361\n",
      "Eculidean Distance or ID_4  3.1623\n",
      "Eculidean Distance or ID_5  1.0\n"
     ]
    }
   ],
   "source": [
    "print('Eculidean Distance or ID_1 ' , round(ED_1,4))\n",
    "print('Eculidean Distance or ID_2 ' , round(ED_2,4))\n",
    "print('Eculidean Distance or ID_3 ' , round(ED_3,4))\n",
    "print('Eculidean Distance or ID_4 ' , round(ED_4,4))\n",
    "print('Eculidean Distance or ID_5 ' , round(ED_5,4))"
   ]
  },
  {
   "cell_type": "markdown",
   "id": "dcaa3a8d",
   "metadata": {},
   "source": [
    "Based on these Eculidean distance calculations, the nearest neighbor to the query is ID5,for which SPAM = false. The model will give a prediction of **SPAM = false** for this query."
   ]
  },
  {
   "cell_type": "code",
   "execution_count": 5,
   "id": "32cac763",
   "metadata": {},
   "outputs": [
    {
     "name": "stdout",
     "output_type": "stream",
     "text": [
      "5.196152422706632\n"
     ]
    }
   ],
   "source": [
    "x = (1, 2, 3)\n",
    "y = (4, 5, 6)\n",
    "distance=distance.euclidean(x, y)\n",
    "print(distance)"
   ]
  },
  {
   "cell_type": "markdown",
   "id": "0b9e56b3",
   "metadata": {},
   "source": [
    "#### 2 (B)"
   ]
  },
  {
   "cell_type": "markdown",
   "id": "369aa8e7",
   "metadata": {},
   "source": [
    "Based on the distances calculated above, we can see that the nearest neighbors for our query will be ID_5 (False), ID_3(True), ID_2(True). The majority of these three neighbors have atarget value of SPAM = true. Consequently, the 3-NN model will return a prediction of **SPAM = true.**"
   ]
  },
  {
   "cell_type": "markdown",
   "id": "da047c55",
   "metadata": {},
   "source": [
    "#### 2 (C)"
   ]
  },
  {
   "cell_type": "code",
   "execution_count": 6,
   "id": "fce30318",
   "metadata": {},
   "outputs": [],
   "source": [
    "ID_1=1/3.6056**2\n",
    "ID_2=1/2.4495**2\n",
    "ID_3=1/2.2361**2\n",
    "ID_4=1/3.1623**2\n",
    "ID_5=1/1**2"
   ]
  },
  {
   "cell_type": "code",
   "execution_count": 7,
   "id": "fb3cefe3",
   "metadata": {},
   "outputs": [
    {
     "name": "stdout",
     "output_type": "stream",
     "text": [
      "Weighted Eculidean Distance for\n",
      "\n",
      "\n",
      "ID_1: 0.0769\n",
      "ID_2: 0.1667\n",
      "ID_3: 0.2\n",
      "ID_4: 0.1\n",
      "ID_5: 1.0\n"
     ]
    }
   ],
   "source": [
    "print('Weighted Eculidean Distance for')\n",
    "print('\\n')\n",
    "print('ID_1:',round(ID_1,4))\n",
    "print('ID_2:',round(ID_2,4))\n",
    "print('ID_3:',round(ID_3,4))\n",
    "print('ID_4:',round(ID_4,4))\n",
    "print('ID_5:',round(ID_5,4))"
   ]
  },
  {
   "cell_type": "code",
   "execution_count": 8,
   "id": "586710b4",
   "metadata": {},
   "outputs": [
    {
     "name": "stdout",
     "output_type": "stream",
     "text": [
      "Total weight for spam as True  0.4436\n",
      "Total weight for spam as False  1.1\n"
     ]
    }
   ],
   "source": [
    "print('Total weight for spam as True ',round((ID_1+ID_2+ID_3),4))\n",
    "print('Total weight for spam as False ',round((ID_4+ID_5),4))"
   ]
  },
  {
   "cell_type": "markdown",
   "id": "1099ce65",
   "metadata": {},
   "source": [
    "The SPAM = false has the maximum weight.<br>\n",
    "Hence, the model gives prediction as **SPAM = false**"
   ]
  },
  {
   "cell_type": "markdown",
   "id": "9658b16a",
   "metadata": {},
   "source": [
    "#### 2 (D)"
   ]
  },
  {
   "cell_type": "code",
   "execution_count": 9,
   "id": "5c06dea5",
   "metadata": {},
   "outputs": [],
   "source": [
    "a = np.array((0,1,1,0,0,1,1))\n",
    "ID1 = np.array((3,0,0,0,0,0,0))\n",
    "ID2 = np.array((1,2,1,1,1,0,0))\n",
    "ID3 = np.array((0,0,1,1,1,0,0))\n",
    "ID4 = np.array((0,0,1,0,3,1,1))\n",
    "ID5 = np.array((0,1,0,0,0,1,1))"
   ]
  },
  {
   "cell_type": "code",
   "execution_count": 10,
   "id": "d2ebf14b",
   "metadata": {},
   "outputs": [],
   "source": [
    "MD_1=np.absolute(3-0) + np.absolute(0-1) + np.absolute(0-1) + np.absolute(0-0) + np.absolute(0-0) + np.absolute(0-1) + np.absolute(0-1)\n",
    "MD_2=np.absolute(1-0) + np.absolute(2-1) + np.absolute(1-1) + np.absolute(1-0) + np.absolute(1-0) + np.absolute(0-1) + np.absolute(0-1)\n",
    "MD_3=np.absolute(0-0) + np.absolute(0-1) + np.absolute(1-1) + np.absolute(1-0) + np.absolute(1-0) + np.absolute(0-1) + np.absolute(0-1)\n",
    "MD_4=np.absolute(0-0) + np.absolute(0-1) + np.absolute(1-1) + np.absolute(0-0) + np.absolute(3-0) + np.absolute(1-1) + np.absolute(1-1)\n",
    "MD_5=np.absolute(0-0) + np.absolute(1-1) + np.absolute(0-1) + np.absolute(0-0) + np.absolute(0-0) + np.absolute(1-1) + np.absolute(1-1)"
   ]
  },
  {
   "cell_type": "code",
   "execution_count": 11,
   "id": "daba3c8c",
   "metadata": {},
   "outputs": [
    {
     "name": "stdout",
     "output_type": "stream",
     "text": [
      "Manhattan Distance or ID_1  7\n",
      "Manhattan Distance or ID_2  6\n",
      "Manhattan Distance or ID_3  5\n",
      "Manhattan Distance or ID_4  4\n",
      "Manhattan Distance or ID_5  1\n"
     ]
    }
   ],
   "source": [
    "print('Manhattan Distance or ID_1 ' , round(MD_1,4))\n",
    "print('Manhattan Distance or ID_2 ' , round(MD_2,4))\n",
    "print('Manhattan Distance or ID_3 ' , round(MD_3,4))\n",
    "print('Manhattan Distance or ID_4 ' , round(MD_4,4))\n",
    "print('Manhattan Distance or ID_5 ' , round(MD_5,4))"
   ]
  },
  {
   "cell_type": "markdown",
   "id": "d4b29fce",
   "metadata": {},
   "source": [
    "For the KNN algorithm with k = 3, the nearest neighbors for this query will be ID_5, ID_4, ID_3 and have spam target values False, False, and True respectively. Since it is mostly False, the model for this query will return the value of Spam= False."
   ]
  },
  {
   "cell_type": "markdown",
   "id": "4595aa1e",
   "metadata": {},
   "source": [
    "#### 2 (E)"
   ]
  },
  {
   "cell_type": "markdown",
   "id": "cfaceae8",
   "metadata": {},
   "source": [
    "Calculating the cosine similarity between the query and each instance requires first determining their vector lengths.\n"
   ]
  },
  {
   "cell_type": "code",
   "execution_count": 12,
   "id": "20f140a5",
   "metadata": {},
   "outputs": [],
   "source": [
    "a= np.array((0,1,1,0,0,1,1))"
   ]
  },
  {
   "cell_type": "code",
   "execution_count": 13,
   "id": "a9c7cde9",
   "metadata": {},
   "outputs": [],
   "source": [
    "d1 = np.array((3,0,0,0,0,0,0))\n",
    "Num_ID_1=((0*3)+(0*1)+(0*1)+(0*0)+(0*0)+(0*1)+(0*1))\n",
    "Den_ID_1=((np.sqrt(np.square(0) + np.square(1) + np.square(1) + np.square(0) + np.square(0) + np.square(1)+ np.square(1)))*\n",
    "(np.sqrt(np.square(3) + np.square(0) + np.square(0) + np.square(0) + np.square(0) + np.square(0) + np.square(0))))\n",
    "cos_ID_1=Num_ID_1/Den_ID_1"
   ]
  },
  {
   "cell_type": "code",
   "execution_count": 14,
   "id": "8743db0d",
   "metadata": {},
   "outputs": [],
   "source": [
    "d2 = np.array((1,2,1,1,1,0,0))\n",
    "Num_ID_2=((1*0)+(2*1)+(1*1)+(1*0)+(1*0)+(0*1)+(0*1))\n",
    "Den_ID_2=((np.sqrt(np.square(0) + np.square(1) + np.square(1) + np.square(0) + np.square(0) + np.square(1)+ np.square(1)))*\n",
    "(np.sqrt(np.square(1) + np.square(2) + np.square(1) + np.square(1) + np.square(1) + np.square(0) + np.square(0))))\n",
    "cos_ID_2=Num_ID_2/Den_ID_2"
   ]
  },
  {
   "cell_type": "code",
   "execution_count": 15,
   "id": "46427a57",
   "metadata": {},
   "outputs": [],
   "source": [
    "d3 = np.array((0,0,1,1,1,0,0))\n",
    "Num_ID_3=((0*0)+(0*1)+(1*1)+(1*0)+(1*0)+(0*1)+(0*1))\n",
    "Den_ID_3=((np.sqrt(np.square(0) + np.square(1) + np.square(1) + np.square(0) + np.square(0) + np.square(1)+ np.square(1)))*\n",
    "(np.sqrt(np.square(0) + np.square(0) + np.square(1) + np.square(1) + np.square(1) + np.square(0) + np.square(0))))\n",
    "cos_ID_3=Num_ID_3/Den_ID_3"
   ]
  },
  {
   "cell_type": "code",
   "execution_count": 16,
   "id": "756c0a37",
   "metadata": {},
   "outputs": [],
   "source": [
    "d4 = np.array((0,0,1,0,3,1,1))\n",
    "Num_ID_4=((0*0)+(0*1)+(1*1)+(0*0)+(3*0)+(1*1)+(1*1))\n",
    "Den_ID_4=((np.sqrt(np.square(0) + np.square(1) + np.square(1) + np.square(0) + np.square(0) + np.square(1)+ np.square(1)))*\n",
    "(np.sqrt(np.square(0) + np.square(0) + np.square(1) + np.square(0) + np.square(3) + np.square(1) + np.square(1))))\n",
    "cos_ID_4=Num_ID_4/Den_ID_4"
   ]
  },
  {
   "cell_type": "code",
   "execution_count": 17,
   "id": "767bb3d0",
   "metadata": {},
   "outputs": [],
   "source": [
    "d5 = np.array((0,1,0,0,0,1,1))\n",
    "Num_ID_5=((0*0)+(1*1)+(0*1)+(0*0)+(0*0)+(1*1)+(1*1))\n",
    "Den_ID_5=((np.sqrt(np.square(0) + np.square(1) + np.square(1) + np.square(0) + np.square(0) + np.square(1)+ np.square(1)))*\n",
    "(np.sqrt(np.square(0) + np.square(1) + np.square(0) + np.square(0) + np.square(0) + np.square(1) + np.square(1))))\n",
    "cos_ID_5=Num_ID_5/Den_ID_5"
   ]
  },
  {
   "cell_type": "code",
   "execution_count": 18,
   "id": "50ea6fed",
   "metadata": {},
   "outputs": [
    {
     "name": "stdout",
     "output_type": "stream",
     "text": [
      "Cosine Similarity:\n",
      "ID_1  0.0\n",
      "ID_2  0.5303\n",
      "ID_3  0.2887\n",
      "ID_4  0.433\n",
      "ID_5  0.866\n"
     ]
    }
   ],
   "source": [
    "print('Cosine Similarity:')\n",
    "print('ID_1 ' , round(cos_ID_1,4))\n",
    "print('ID_2 ' , round(cos_ID_2,4))\n",
    "print('ID_3 ' , round(cos_ID_3,4))\n",
    "print('ID_4 ' , round(cos_ID_4,4))\n",
    "print('ID_5 ' , round(cos_ID_5,4))"
   ]
  },
  {
   "cell_type": "markdown",
   "id": "fe89427a",
   "metadata": {},
   "source": [
    "The three most similar instances in the dataset based on cosine similarity are instances d5, d2, and d4. The majority of these three neighbors have a target value of SPAM = false. <br>\n",
    "So, the 3-NN model will predict **SPAM =false.**"
   ]
  },
  {
   "cell_type": "markdown",
   "id": "6d4cd89c",
   "metadata": {},
   "source": [
    "#### Chapter 5 Exercise 3"
   ]
  },
  {
   "cell_type": "markdown",
   "id": "8460b86c",
   "metadata": {},
   "source": [
    "#### 3 (A)"
   ]
  },
  {
   "cell_type": "markdown",
   "id": "31c7d265",
   "metadata": {},
   "source": [
    "We need to calculate the euclidean distance in the first place, let us calculate the euclidean distance."
   ]
  },
  {
   "cell_type": "code",
   "execution_count": 19,
   "id": "18ecb6fa",
   "metadata": {},
   "outputs": [],
   "source": [
    "def euclid_dist(x,y):\n",
    "    dist = np.sqrt(np.sum((x-y)**2))\n",
    "    return round(dist,4)"
   ]
  },
  {
   "cell_type": "code",
   "execution_count": 20,
   "id": "a0df651b",
   "metadata": {},
   "outputs": [],
   "source": [
    "Russia = np.array((67.62,31.68,10.00,3.87,12.90))\n",
    "Afghanistan = np.array((59.61,23.21,74.30,4.44,0.40))\n",
    "Haiti = np.array((45.00,47.67,73.10,0.09,3.40))\n",
    "Nigeria = np.array((51.30,38.23,82.60,1.07,4.10))\n",
    "Egypt = np.array((70.48,26.58,19.60,1.86,5.30))\n",
    "Argentina = np.array((75.77,32.30,13.30,0.76,10.10))\n",
    "China = np.array((74.87,29.98,13.70,1.95,6.40))\n",
    "Brazil = np.array((73.12,42.93,14.50,1.43,7.20))\n",
    "Israel = np.array((81.30,28.80,3.60,6.77,12.50))\n",
    "U_S_A = np.array((78.51,29.85,6.30,4.72,13.70))\n",
    "Ireland = np.array((80.15,27.23,3.50,0.60,11.50))\n",
    "UK = np.array((80.09,28.49,4.40,2.59,13.00))\n",
    "Germany = np.array((80.24,22.07,3.50,1.31,12.00))\n",
    "Canada = np.array((80.99,24.79,4.90,1.42,14.20))\n",
    "Australia = np.array((82.09,25.40,4.20,1.86,11.50))\n",
    "Sweden = np.array((81.43,22.18,2.40,1.27,12.80))\n",
    "New_Zealand = np.array((80.67,27.81,4.90,1.13,12.30))"
   ]
  },
  {
   "cell_type": "code",
   "execution_count": 21,
   "id": "9df5e7a2",
   "metadata": {},
   "outputs": [
    {
     "name": "stdout",
     "output_type": "stream",
     "text": [
      "Euclidean Distance for Russia & Afghanistan : 66.5354\n",
      "Euclidean Distance for Russia & Haiti       : 69.667\n",
      "Euclidean Distance for Russia & Nigeria     : 75.2681\n",
      "Euclidean Distance for Russia & Egypt       : 13.7168\n",
      "Euclidean Distance for Russia & Argentina   : 9.7575\n",
      "Euclidean Distance for Russia & China       : 10.7275\n",
      "Euclidean Distance for Russia & Brazil      : 14.6801\n",
      "Euclidean Distance for Russia & Israel      : 15.6514\n",
      "Euclidean Distance for Russia & U.S.A       : 11.7044\n",
      "Euclidean Distance for Russia & Ireland     : 15.2219\n",
      "Euclidean Distance for Russia & UK          : 14.0956\n",
      "Euclidean Distance for Russia & Germany     : 17.356\n",
      "Euclidean Distance for Russia & Canada      : 16.1224\n",
      "Euclidean Distance for Russia & Australia   : 16.9841\n",
      "Euclidean Distance for Russia & Sweden      : 18.5875\n",
      "Euclidean Distance for Russia & New Zealand : 14.804\n"
     ]
    }
   ],
   "source": [
    "print('Euclidean Distance for Russia & Afghanistan :',euclid_dist(Russia, Afghanistan))\n",
    "print('Euclidean Distance for Russia & Haiti       :',euclid_dist(Russia, Haiti))\n",
    "print('Euclidean Distance for Russia & Nigeria     :',euclid_dist(Russia, Nigeria))\n",
    "print('Euclidean Distance for Russia & Egypt       :',euclid_dist(Russia, Egypt))\n",
    "print('Euclidean Distance for Russia & Argentina   :',euclid_dist(Russia, Argentina))\n",
    "print('Euclidean Distance for Russia & China       :',euclid_dist(Russia, China))\n",
    "print('Euclidean Distance for Russia & Brazil      :',euclid_dist(Russia, Brazil))\n",
    "print('Euclidean Distance for Russia & Israel      :',euclid_dist(Russia, Israel))\n",
    "print('Euclidean Distance for Russia & U.S.A       :',euclid_dist(Russia, U_S_A))\n",
    "print('Euclidean Distance for Russia & Ireland     :',euclid_dist(Russia, Ireland))\n",
    "print('Euclidean Distance for Russia & UK          :',euclid_dist(Russia, UK))\n",
    "print('Euclidean Distance for Russia & Germany     :',euclid_dist(Russia, Germany))\n",
    "print('Euclidean Distance for Russia & Canada      :',euclid_dist(Russia, Canada))\n",
    "print('Euclidean Distance for Russia & Australia   :',euclid_dist(Russia, Australia))\n",
    "print('Euclidean Distance for Russia & Sweden      :',euclid_dist(Russia, Sweden))\n",
    "print('Euclidean Distance for Russia & New Zealand :',euclid_dist(Russia, New_Zealand))"
   ]
  },
  {
   "cell_type": "markdown",
   "id": "76052fa3",
   "metadata": {},
   "source": [
    "The nearest three neighbors to Russia are Argentina, China, and U.S.A. The CPI value\n",
    "that will be returned by the model is the average CPI score for these three neighbors, which\n",
    "is (2.9961 +3.6356 + 7.1357)/3= 4.5891"
   ]
  },
  {
   "cell_type": "markdown",
   "id": "859c0f93",
   "metadata": {},
   "source": [
    "#### 3 (B)"
   ]
  },
  {
   "cell_type": "code",
   "execution_count": 22,
   "id": "17e3f0eb",
   "metadata": {},
   "outputs": [],
   "source": [
    "def weight_euclid_dist(x,y):\n",
    "    dist = np.sqrt(np.sum((x-y)**2))\n",
    "    dist=1/(dist**2)\n",
    "    list1.append(dist)\n",
    "    return round(dist,4)"
   ]
  },
  {
   "cell_type": "code",
   "execution_count": 23,
   "id": "dabcae3c",
   "metadata": {},
   "outputs": [
    {
     "name": "stdout",
     "output_type": "stream",
     "text": [
      "Weighted Euclidean Distance for Russia & Afghanistan : 0.0002\n",
      "Weighted Euclidean Distance for Russia & Haiti       : 0.0002\n",
      "Weighted Euclidean Distance for Russia & Nigeria     : 0.0002\n",
      "Weighted Euclidean Distance for Russia & Egypt       : 0.0053\n",
      "Weighted Euclidean Distance for Russia & Argentina   : 0.0105\n",
      "Weighted Euclidean Distance for Russia & China       : 0.0087\n",
      "Weighted Euclidean Distance for Russia & Brazil      : 0.0046\n",
      "Weighted Euclidean Distance for Russia & Israel      : 0.0041\n",
      "Weighted Euclidean Distance for Russia & U.S.A       : 0.0073\n",
      "Weighted Euclidean Distance for Russia & Ireland     : 0.0043\n",
      "Weighted Euclidean Distance for Russia & UK          : 0.005\n",
      "Weighted Euclidean Distance for Russia & Germany     : 0.0033\n",
      "Weighted Euclidean Distance for Russia & Canada      : 0.0038\n",
      "Weighted Euclidean Distance for Russia & Australia   : 0.0035\n",
      "Weighted Euclidean Distance for Russia & Sweden      : 0.0029\n",
      "Weighted Euclidean Distance for Russia & New Zealand : 0.0046\n"
     ]
    }
   ],
   "source": [
    "list1=[]\n",
    "print('Weighted Euclidean Distance for Russia & Afghanistan :',weight_euclid_dist(Russia, Afghanistan))\n",
    "print('Weighted Euclidean Distance for Russia & Haiti       :',weight_euclid_dist(Russia, Haiti))\n",
    "print('Weighted Euclidean Distance for Russia & Nigeria     :',weight_euclid_dist(Russia, Nigeria))\n",
    "print('Weighted Euclidean Distance for Russia & Egypt       :',weight_euclid_dist(Russia, Egypt))\n",
    "print('Weighted Euclidean Distance for Russia & Argentina   :',weight_euclid_dist(Russia, Argentina))\n",
    "print('Weighted Euclidean Distance for Russia & China       :',weight_euclid_dist(Russia, China))\n",
    "print('Weighted Euclidean Distance for Russia & Brazil      :',weight_euclid_dist(Russia, Brazil))\n",
    "print('Weighted Euclidean Distance for Russia & Israel      :',weight_euclid_dist(Russia, Israel))\n",
    "print('Weighted Euclidean Distance for Russia & U.S.A       :',weight_euclid_dist(Russia, U_S_A))\n",
    "print('Weighted Euclidean Distance for Russia & Ireland     :',weight_euclid_dist(Russia, Ireland))\n",
    "print('Weighted Euclidean Distance for Russia & UK          :',weight_euclid_dist(Russia, UK))\n",
    "print('Weighted Euclidean Distance for Russia & Germany     :',weight_euclid_dist(Russia, Germany))\n",
    "print('Weighted Euclidean Distance for Russia & Canada      :',weight_euclid_dist(Russia, Canada))\n",
    "print('Weighted Euclidean Distance for Russia & Australia   :',weight_euclid_dist(Russia, Australia))\n",
    "print('Weighted Euclidean Distance for Russia & Sweden      :',weight_euclid_dist(Russia, Sweden))\n",
    "print('Weighted Euclidean Distance for Russia & New Zealand :',weight_euclid_dist(Russia, New_Zealand))\n",
    "Total_weight=round(sum(list1),4)"
   ]
  },
  {
   "cell_type": "code",
   "execution_count": 24,
   "id": "b0d1efad",
   "metadata": {},
   "outputs": [
    {
     "name": "stdout",
     "output_type": "stream",
     "text": [
      "Sum of the weights 0.0686\n"
     ]
    }
   ],
   "source": [
    "print('Sum of the weights',Total_weight)"
   ]
  },
  {
   "cell_type": "code",
   "execution_count": 25,
   "id": "8dc42b7c",
   "metadata": {},
   "outputs": [],
   "source": [
    "CPI_data=[1.5171,1.7999,2.4493,2.8622,2.9961,3.6356,3.7741,5.8069,7.1357,7.5360,7.7751,8.0461,8.6725,8.8442,9.2985,9.4627]"
   ]
  },
  {
   "cell_type": "code",
   "execution_count": 26,
   "id": "8fd19b40",
   "metadata": {},
   "outputs": [
    {
     "name": "stdout",
     "output_type": "stream",
     "text": [
      "Euclidean weight*CPI for Afghanistan : 0.0003426952080204638\n",
      "Euclidean weight*CPI for Haiti       : 0.00037084632389181\n",
      "Euclidean weight*CPI for Nigeria     : 0.00043233483279896486\n",
      "Euclidean weight*CPI for Egypt       : 0.01521235484297875\n",
      "Euclidean weight*CPI for Argentina   : 0.0314686636767533\n",
      "Euclidean weight*CPI for China       : 0.03159223802104469\n",
      "Euclidean weight*CPI for Brazil      : 0.01751272933805586\n",
      "Euclidean weight*CPI for Israel      : 0.02370484490143156\n",
      "Euclidean weight*CPI for U.S.A       : 0.0520878727822853\n",
      "Euclidean weight*CPI for Ireland     : 0.03252393223662887\n",
      "Euclidean weight*CPI for UK          : 0.03913271936438209\n",
      "Euclidean weight*CPI for Germany     : 0.02671081010828601\n",
      "Euclidean weight*CPI for Canada      : 0.03336455950894758\n",
      "Euclidean weight*CPI for Australia   : 0.030660120627027596\n",
      "Euclidean weight*CPI for Sweden      : 0.026913473118799304\n",
      "Euclidean weight*CPI for New Zealand : 0.04317772190712596\n"
     ]
    }
   ],
   "source": [
    "print('Euclidean weight*CPI for Afghanistan :',list1[0]*CPI_data[0])\n",
    "print('Euclidean weight*CPI for Haiti       :',list1[1]*CPI_data[1])\n",
    "print('Euclidean weight*CPI for Nigeria     :',list1[2]*CPI_data[2])\n",
    "print('Euclidean weight*CPI for Egypt       :',list1[3]*CPI_data[3])\n",
    "print('Euclidean weight*CPI for Argentina   :',list1[4]*CPI_data[4])\n",
    "print('Euclidean weight*CPI for China       :',list1[5]*CPI_data[5])\n",
    "print('Euclidean weight*CPI for Brazil      :',list1[6]*CPI_data[6])\n",
    "print('Euclidean weight*CPI for Israel      :',list1[7]*CPI_data[7])\n",
    "print('Euclidean weight*CPI for U.S.A       :',list1[8]*CPI_data[8])\n",
    "print('Euclidean weight*CPI for Ireland     :',list1[9]*CPI_data[9])\n",
    "print('Euclidean weight*CPI for UK          :',list1[10]*CPI_data[10])\n",
    "print('Euclidean weight*CPI for Germany     :',list1[11]*CPI_data[11])\n",
    "print('Euclidean weight*CPI for Canada      :',list1[12]*CPI_data[12])\n",
    "print('Euclidean weight*CPI for Australia   :',list1[13]*CPI_data[13])\n",
    "print('Euclidean weight*CPI for Sweden      :',list1[14]*CPI_data[14])\n",
    "print('Euclidean weight*CPI for New Zealand :',list1[15]*CPI_data[15])"
   ]
  },
  {
   "cell_type": "code",
   "execution_count": 27,
   "id": "217220b7",
   "metadata": {},
   "outputs": [
    {
     "name": "stdout",
     "output_type": "stream",
     "text": [
      "sum of weights*CPI of all countries given is 0.40520791679845813\n"
     ]
    }
   ],
   "source": [
    "sum1=0\n",
    "for i in range(len(list1)):\n",
    "    sum1+=list1[i]*CPI_data[i]\n",
    "print('sum of weights*CPI of all countries given is',sum1)"
   ]
  },
  {
   "cell_type": "code",
   "execution_count": 28,
   "id": "2983024c",
   "metadata": {},
   "outputs": [
    {
     "name": "stdout",
     "output_type": "stream",
     "text": [
      "CPI for Russia is: 5.906820944583938\n"
     ]
    }
   ],
   "source": [
    "print('CPI for Russia is:',sum1/Total_weight)"
   ]
  },
  {
   "cell_type": "markdown",
   "id": "28d814c7",
   "metadata": {},
   "source": [
    "#### 3(C)"
   ]
  },
  {
   "cell_type": "code",
   "execution_count": 29,
   "id": "8c4272f8",
   "metadata": {},
   "outputs": [],
   "source": [
    "d = {'Country ID': ['Afghanistan','Haiti','Nigeria','Egypt','Argentina','China','Brazil','Israel','USA','Ireland','UK','Germany','Canada','Australia','Sweden','NewZealand','Russia'], \n",
    "     'Life Exp':[59.61,45.00,51.30,70.48,75.77,74.87,73.12,81.30,78.51,80.15,80.09,80.24,80.99,82.09,81.43,80.67,67.62],\n",
    "     'Top-10 Income' :[23.21,47.67,38.23,26.58,32.30,29.98,42.93,28.80,29.85,27.23,28.49,22.07,25.79,25.40,22.18,27.81,31.68],\n",
    "     'Infant Mort' : [74.30,73.10,82.60,19.60,13.30,13.70,14.50,3.60,6.30,3.50,4.40,3.50,4.90,4.20,2.40,4.90,10.00],\n",
    "     'MIL.Spend' : [4.44,0.09,1.07,1.86,0.76,1.95,1.43,6.77,4.72,0.60,2.59,1.31,1.42,1.86,1.27,1.13,3.87],\n",
    "     'School Years' :[0.40,3.40,4.10,5.30,10.10,6.40,7.20,12.50,13.70,11.50,13.00,12.00,14.20,11.50,12.80,12.30,12.90],\n",
    "     'CPI' : [1.5171,1.7999,2.4493,2.8622,2.9961,3.6356,3.7741,5.8069,7.1357,7.5360,7.7751,8.0461,8.6725,8.8442,9.2985,9.4627,'?']\n",
    "    }\n",
    "df = pd.DataFrame(data=d)"
   ]
  },
  {
   "cell_type": "code",
   "execution_count": 30,
   "id": "56833d6f",
   "metadata": {},
   "outputs": [
    {
     "data": {
      "text/html": [
       "<div>\n",
       "<style scoped>\n",
       "    .dataframe tbody tr th:only-of-type {\n",
       "        vertical-align: middle;\n",
       "    }\n",
       "\n",
       "    .dataframe tbody tr th {\n",
       "        vertical-align: top;\n",
       "    }\n",
       "\n",
       "    .dataframe thead th {\n",
       "        text-align: right;\n",
       "    }\n",
       "</style>\n",
       "<table border=\"1\" class=\"dataframe\">\n",
       "  <thead>\n",
       "    <tr style=\"text-align: right;\">\n",
       "      <th></th>\n",
       "      <th>Country ID</th>\n",
       "      <th>Life Exp.</th>\n",
       "      <th>Top-10 Income</th>\n",
       "      <th>Infant Mort</th>\n",
       "      <th>MIL.Spend</th>\n",
       "      <th>School Years</th>\n",
       "      <th>CPI</th>\n",
       "    </tr>\n",
       "  </thead>\n",
       "  <tbody>\n",
       "    <tr>\n",
       "      <th>0</th>\n",
       "      <td>Afghanistan</td>\n",
       "      <td>0.393907</td>\n",
       "      <td>0.044531</td>\n",
       "      <td>0.896509</td>\n",
       "      <td>0.651198</td>\n",
       "      <td>0.000000</td>\n",
       "      <td>1.5171</td>\n",
       "    </tr>\n",
       "    <tr>\n",
       "      <th>1</th>\n",
       "      <td>Haiti</td>\n",
       "      <td>0.000000</td>\n",
       "      <td>1.000000</td>\n",
       "      <td>0.881546</td>\n",
       "      <td>0.000000</td>\n",
       "      <td>0.217391</td>\n",
       "      <td>1.7999</td>\n",
       "    </tr>\n",
       "    <tr>\n",
       "      <th>2</th>\n",
       "      <td>Nigeria</td>\n",
       "      <td>0.169857</td>\n",
       "      <td>0.631250</td>\n",
       "      <td>1.000000</td>\n",
       "      <td>0.146707</td>\n",
       "      <td>0.268116</td>\n",
       "      <td>2.4493</td>\n",
       "    </tr>\n",
       "    <tr>\n",
       "      <th>3</th>\n",
       "      <td>Egypt</td>\n",
       "      <td>0.686978</td>\n",
       "      <td>0.176172</td>\n",
       "      <td>0.214464</td>\n",
       "      <td>0.264970</td>\n",
       "      <td>0.355072</td>\n",
       "      <td>2.8622</td>\n",
       "    </tr>\n",
       "    <tr>\n",
       "      <th>4</th>\n",
       "      <td>Argentina</td>\n",
       "      <td>0.829604</td>\n",
       "      <td>0.399609</td>\n",
       "      <td>0.135910</td>\n",
       "      <td>0.100299</td>\n",
       "      <td>0.702899</td>\n",
       "      <td>2.9961</td>\n",
       "    </tr>\n",
       "    <tr>\n",
       "      <th>5</th>\n",
       "      <td>China</td>\n",
       "      <td>0.805338</td>\n",
       "      <td>0.308984</td>\n",
       "      <td>0.140898</td>\n",
       "      <td>0.278443</td>\n",
       "      <td>0.434783</td>\n",
       "      <td>3.6356</td>\n",
       "    </tr>\n",
       "    <tr>\n",
       "      <th>6</th>\n",
       "      <td>Brazil</td>\n",
       "      <td>0.758156</td>\n",
       "      <td>0.814844</td>\n",
       "      <td>0.150873</td>\n",
       "      <td>0.200599</td>\n",
       "      <td>0.492754</td>\n",
       "      <td>3.7741</td>\n",
       "    </tr>\n",
       "    <tr>\n",
       "      <th>7</th>\n",
       "      <td>Israel</td>\n",
       "      <td>0.978700</td>\n",
       "      <td>0.262891</td>\n",
       "      <td>0.014963</td>\n",
       "      <td>1.000000</td>\n",
       "      <td>0.876812</td>\n",
       "      <td>5.8069</td>\n",
       "    </tr>\n",
       "    <tr>\n",
       "      <th>8</th>\n",
       "      <td>USA</td>\n",
       "      <td>0.903478</td>\n",
       "      <td>0.303906</td>\n",
       "      <td>0.048628</td>\n",
       "      <td>0.693114</td>\n",
       "      <td>0.963768</td>\n",
       "      <td>7.1357</td>\n",
       "    </tr>\n",
       "    <tr>\n",
       "      <th>9</th>\n",
       "      <td>Ireland</td>\n",
       "      <td>0.947695</td>\n",
       "      <td>0.201563</td>\n",
       "      <td>0.013716</td>\n",
       "      <td>0.076347</td>\n",
       "      <td>0.804348</td>\n",
       "      <td>7.536</td>\n",
       "    </tr>\n",
       "    <tr>\n",
       "      <th>10</th>\n",
       "      <td>UK</td>\n",
       "      <td>0.946077</td>\n",
       "      <td>0.250781</td>\n",
       "      <td>0.024938</td>\n",
       "      <td>0.374251</td>\n",
       "      <td>0.913043</td>\n",
       "      <td>7.7751</td>\n",
       "    </tr>\n",
       "    <tr>\n",
       "      <th>11</th>\n",
       "      <td>Germany</td>\n",
       "      <td>0.950121</td>\n",
       "      <td>0.000000</td>\n",
       "      <td>0.013716</td>\n",
       "      <td>0.182635</td>\n",
       "      <td>0.840580</td>\n",
       "      <td>8.0461</td>\n",
       "    </tr>\n",
       "    <tr>\n",
       "      <th>12</th>\n",
       "      <td>Canada</td>\n",
       "      <td>0.970342</td>\n",
       "      <td>0.145312</td>\n",
       "      <td>0.031172</td>\n",
       "      <td>0.199102</td>\n",
       "      <td>1.000000</td>\n",
       "      <td>8.6725</td>\n",
       "    </tr>\n",
       "    <tr>\n",
       "      <th>13</th>\n",
       "      <td>Australia</td>\n",
       "      <td>1.000000</td>\n",
       "      <td>0.130078</td>\n",
       "      <td>0.022444</td>\n",
       "      <td>0.264970</td>\n",
       "      <td>0.804348</td>\n",
       "      <td>8.8442</td>\n",
       "    </tr>\n",
       "    <tr>\n",
       "      <th>14</th>\n",
       "      <td>Sweden</td>\n",
       "      <td>0.982205</td>\n",
       "      <td>0.004297</td>\n",
       "      <td>0.000000</td>\n",
       "      <td>0.176647</td>\n",
       "      <td>0.898551</td>\n",
       "      <td>9.2985</td>\n",
       "    </tr>\n",
       "    <tr>\n",
       "      <th>15</th>\n",
       "      <td>NewZealand</td>\n",
       "      <td>0.961715</td>\n",
       "      <td>0.224219</td>\n",
       "      <td>0.031172</td>\n",
       "      <td>0.155689</td>\n",
       "      <td>0.862319</td>\n",
       "      <td>9.4627</td>\n",
       "    </tr>\n",
       "    <tr>\n",
       "      <th>16</th>\n",
       "      <td>Russia</td>\n",
       "      <td>0.609868</td>\n",
       "      <td>0.375391</td>\n",
       "      <td>0.094763</td>\n",
       "      <td>0.565868</td>\n",
       "      <td>0.905797</td>\n",
       "      <td>?</td>\n",
       "    </tr>\n",
       "  </tbody>\n",
       "</table>\n",
       "</div>"
      ],
      "text/plain": [
       "     Country ID  Life Exp.  Top-10 Income  Infant Mort  MIL.Spend  \\\n",
       "0   Afghanistan   0.393907       0.044531     0.896509   0.651198   \n",
       "1         Haiti   0.000000       1.000000     0.881546   0.000000   \n",
       "2       Nigeria   0.169857       0.631250     1.000000   0.146707   \n",
       "3         Egypt   0.686978       0.176172     0.214464   0.264970   \n",
       "4     Argentina   0.829604       0.399609     0.135910   0.100299   \n",
       "5         China   0.805338       0.308984     0.140898   0.278443   \n",
       "6        Brazil   0.758156       0.814844     0.150873   0.200599   \n",
       "7        Israel   0.978700       0.262891     0.014963   1.000000   \n",
       "8           USA   0.903478       0.303906     0.048628   0.693114   \n",
       "9       Ireland   0.947695       0.201563     0.013716   0.076347   \n",
       "10           UK   0.946077       0.250781     0.024938   0.374251   \n",
       "11      Germany   0.950121       0.000000     0.013716   0.182635   \n",
       "12       Canada   0.970342       0.145312     0.031172   0.199102   \n",
       "13    Australia   1.000000       0.130078     0.022444   0.264970   \n",
       "14       Sweden   0.982205       0.004297     0.000000   0.176647   \n",
       "15   NewZealand   0.961715       0.224219     0.031172   0.155689   \n",
       "16       Russia   0.609868       0.375391     0.094763   0.565868   \n",
       "\n",
       "    School Years     CPI  \n",
       "0       0.000000  1.5171  \n",
       "1       0.217391  1.7999  \n",
       "2       0.268116  2.4493  \n",
       "3       0.355072  2.8622  \n",
       "4       0.702899  2.9961  \n",
       "5       0.434783  3.6356  \n",
       "6       0.492754  3.7741  \n",
       "7       0.876812  5.8069  \n",
       "8       0.963768  7.1357  \n",
       "9       0.804348   7.536  \n",
       "10      0.913043  7.7751  \n",
       "11      0.840580  8.0461  \n",
       "12      1.000000  8.6725  \n",
       "13      0.804348  8.8442  \n",
       "14      0.898551  9.2985  \n",
       "15      0.862319  9.4627  \n",
       "16      0.905797       ?  "
      ]
     },
     "execution_count": 30,
     "metadata": {},
     "output_type": "execute_result"
    }
   ],
   "source": [
    "Country = ['Afghanistan','Haiti','Nigeria','Egypt','Argentina','China','Brazil','Israel','USA','Ireland','UK','Germany','Canada','Australia','Sweden','NewZealand','Russia']\n",
    "Normalized=pd.DataFrame(Country,columns=['Country ID'])\n",
    "high=1\n",
    "low=0\n",
    "normalized_life_data = []\n",
    "for i in df['Life Exp']:\n",
    "    normalized_Score = ((i - min(df['Life Exp']))/((max(df['Life Exp'])-min(df['Life Exp'])))*(high - low)) + low\n",
    "    normalized_life_data.append(normalized_Score)\n",
    "\n",
    "Normalized['Life Exp.'] = normalized_life_data\n",
    "normalized_Income_data = []\n",
    "for i in df['Top-10 Income']:\n",
    "    normalized_Score = ((i - min(df['Top-10 Income']))/((max(df['Top-10 Income'])-min(df['Top-10 Income'])))*(high - low)) + low\n",
    "    normalized_Income_data.append(normalized_Score)\n",
    "Normalized['Top-10 Income'] = normalized_Income_data\n",
    "normalized_Mort_data = []\n",
    "for i in df['Infant Mort']:\n",
    "    normalized_Score = ((i - min(df['Infant Mort']))/((max(df['Infant Mort'])-min(df['Infant Mort'])))*(high - low)) + low\n",
    "    normalized_Mort_data.append(normalized_Score)\n",
    "Normalized['Infant Mort'] = normalized_Mort_data\n",
    "normalized_spend_data = []\n",
    "for i in df['MIL.Spend']:\n",
    "    normalized_Score = ((i - min(df['MIL.Spend']))/((max(df['MIL.Spend'])-min(df['MIL.Spend'])))*(high - low)) + low\n",
    "    normalized_spend_data.append(normalized_Score)\n",
    "Normalized['MIL.Spend'] = normalized_spend_data\n",
    "normalized_school_data = []\n",
    "for i in df['School Years']:\n",
    "    normalized_Score = ((i - min(df['School Years']))/((max(df['School Years'])-min(df['School Years'])))*(high - low)) + low\n",
    "    normalized_school_data.append(normalized_Score)\n",
    "Normalized['School Years'] = normalized_school_data\n",
    "CPI=[1.5171,1.7999,2.4493,2.8622,2.9961,3.6356,3.7741,5.8069,7.1357,7.5360,7.7751,8.0461,8.6725,8.8442,9.2985,9.4627,'?']\n",
    "Normalized['CPI'] =CPI\n",
    "Normalized\n"
   ]
  },
  {
   "cell_type": "code",
   "execution_count": 31,
   "id": "81e4f449",
   "metadata": {},
   "outputs": [],
   "source": [
    "Russia = np.array((0.60,0.37,0.09,0.56,0.90))\n",
    "Afghanistan = np.array((0.31,0.04,0.89,0.65,0.00))\n",
    "Haiti = np.array((0.00,1.00,0.88,0.00,0.21))\n",
    "Nigeria = np.array((0.17,0.63,1.00,0.14,0.26))\n",
    "Egypt = np.array((0.68,0.17,0.21,0.26,0.35))\n",
    "Argentina = np.array((0.82,0.39,0.13,0.10,0.70))\n",
    "China = np.array((0.80,0.30,0.14,0.27,0.43))\n",
    "Brazil = np.array((0.75,0.81,0.15,0.20,0.49))\n",
    "Israel = np.array((0.97,0.26,0.014,1.00,0.87))\n",
    "USA = np.array((0.90,0.30,0.04,0.69,0.96))\n",
    "Ireland = np.array((0.94,0.20,0.013,0.07,0.80))\n",
    "UK = np.array((0.94,0.25,0.024,0.37,0.91))\n",
    "Germany = np.array((0.95,0.00,0.013,0.18,0.84))\n",
    "Canada = np.array((0.97,0.14,0.03,0.19,1.00))\n",
    "Australia = np.array((1.00,0.13,0.022,0.26,0.80))\n",
    "Sweden = np.array((0.98,0.004,0.00,0.17,0.89))\n",
    "Newzealand = np.array((0.96,0.22,0.03,0.15,0.86))"
   ]
  },
  {
   "cell_type": "code",
   "execution_count": 32,
   "id": "8eb29345",
   "metadata": {},
   "outputs": [
    {
     "name": "stdout",
     "output_type": "stream",
     "text": [
      "Euclidean Distance for Russia & Afghanistan : 1.285\n",
      "Euclidean Distance for Russia & Haiti       : 1.4733\n",
      "Euclidean Distance for Russia & Nigeria     : 1.291\n",
      "Euclidean Distance for Russia & Egypt       : 0.6733\n",
      "Euclidean Distance for Russia & Argentina   : 0.5495\n",
      "Euclidean Distance for Russia & China       : 0.5936\n",
      "Euclidean Distance for Russia & Brazil      : 0.7193\n",
      "Euclidean Distance for Russia & Israel      : 0.591\n",
      "Euclidean Distance for Russia & U.S.A       : 0.3434\n",
      "Euclidean Distance for Russia & Ireland     : 0.6329\n",
      "Euclidean Distance for Russia & UK          : 0.413\n",
      "Euclidean Distance for Russia & Germany     : 0.6429\n",
      "Euclidean Distance for Russia & Canada      : 0.5834\n",
      "Euclidean Distance for Russia & Australia   : 0.5676\n",
      "Euclidean Distance for Russia & Sweden      : 0.6623\n",
      "Euclidean Distance for Russia & New Zealand : 0.5704\n"
     ]
    }
   ],
   "source": [
    "print('Euclidean Distance for Russia & Afghanistan :',euclid_dist(Russia, Afghanistan))\n",
    "print('Euclidean Distance for Russia & Haiti       :',euclid_dist(Russia, Haiti))\n",
    "print('Euclidean Distance for Russia & Nigeria     :',euclid_dist(Russia, Nigeria))\n",
    "print('Euclidean Distance for Russia & Egypt       :',euclid_dist(Russia, Egypt))\n",
    "print('Euclidean Distance for Russia & Argentina   :',euclid_dist(Russia, Argentina))\n",
    "print('Euclidean Distance for Russia & China       :',euclid_dist(Russia, China))\n",
    "print('Euclidean Distance for Russia & Brazil      :',euclid_dist(Russia, Brazil))\n",
    "print('Euclidean Distance for Russia & Israel      :',euclid_dist(Russia, Israel))\n",
    "print('Euclidean Distance for Russia & U.S.A       :',euclid_dist(Russia, USA))\n",
    "print('Euclidean Distance for Russia & Ireland     :',euclid_dist(Russia, Ireland))\n",
    "print('Euclidean Distance for Russia & UK          :',euclid_dist(Russia, UK))\n",
    "print('Euclidean Distance for Russia & Germany     :',euclid_dist(Russia, Germany))\n",
    "print('Euclidean Distance for Russia & Canada      :',euclid_dist(Russia, Canada))\n",
    "print('Euclidean Distance for Russia & Australia   :',euclid_dist(Russia, Australia))\n",
    "print('Euclidean Distance for Russia & Sweden      :',euclid_dist(Russia, Sweden))\n",
    "print('Euclidean Distance for Russia & New Zealand :',euclid_dist(Russia, Newzealand))"
   ]
  },
  {
   "cell_type": "markdown",
   "id": "75424a20",
   "metadata": {},
   "source": [
    "The three nearest neighbors to Russia are  USA, UK, and Argentina. TheCPI value that will be returned by the model is the average CPI score for these three neighbors:<br>\n",
    " (7.1357+2.9961+7.7751)/3\n",
    "= 5.968"
   ]
  },
  {
   "cell_type": "markdown",
   "id": "a67a0e14",
   "metadata": {},
   "source": [
    "#### 3(D)"
   ]
  },
  {
   "cell_type": "code",
   "execution_count": 33,
   "id": "655ca229",
   "metadata": {},
   "outputs": [
    {
     "name": "stdout",
     "output_type": "stream",
     "text": [
      "Weighted Euclidean Distance for Russia & Afghanistan : 0.6057\n",
      "Weighted Euclidean Distance for Russia & Haiti       : 0.4607\n",
      "Weighted Euclidean Distance for Russia & Nigeria     : 0.6\n",
      "Weighted Euclidean Distance for Russia & Egypt       : 2.206\n",
      "Weighted Euclidean Distance for Russia & Argentina   : 3.3113\n",
      "Weighted Euclidean Distance for Russia & China       : 2.8377\n",
      "Weighted Euclidean Distance for Russia & Brazil      : 1.9327\n",
      "Weighted Euclidean Distance for Russia & Israel      : 2.8631\n",
      "Weighted Euclidean Distance for Russia & U.S.A       : 8.4818\n",
      "Weighted Euclidean Distance for Russia & Ireland     : 2.4967\n",
      "Weighted Euclidean Distance for Russia & UK          : 5.8632\n",
      "Weighted Euclidean Distance for Russia & Germany     : 2.4194\n",
      "Weighted Euclidean Distance for Russia & Canada      : 2.9386\n",
      "Weighted Euclidean Distance for Russia & Australia   : 3.1034\n",
      "Weighted Euclidean Distance for Russia & Sweden      : 2.2797\n",
      "Weighted Euclidean Distance for Russia & New Zealand : 3.0731\n",
      "Sum of the weights 45.473\n"
     ]
    }
   ],
   "source": [
    "list1=[]\n",
    "print('Weighted Euclidean Distance for Russia & Afghanistan :',weight_euclid_dist(Russia, Afghanistan))\n",
    "print('Weighted Euclidean Distance for Russia & Haiti       :',weight_euclid_dist(Russia, Haiti))\n",
    "print('Weighted Euclidean Distance for Russia & Nigeria     :',weight_euclid_dist(Russia, Nigeria))\n",
    "print('Weighted Euclidean Distance for Russia & Egypt       :',weight_euclid_dist(Russia, Egypt))\n",
    "print('Weighted Euclidean Distance for Russia & Argentina   :',weight_euclid_dist(Russia, Argentina))\n",
    "print('Weighted Euclidean Distance for Russia & China       :',weight_euclid_dist(Russia, China))\n",
    "print('Weighted Euclidean Distance for Russia & Brazil      :',weight_euclid_dist(Russia, Brazil))\n",
    "print('Weighted Euclidean Distance for Russia & Israel      :',weight_euclid_dist(Russia, Israel))\n",
    "print('Weighted Euclidean Distance for Russia & U.S.A       :',weight_euclid_dist(Russia, USA))\n",
    "print('Weighted Euclidean Distance for Russia & Ireland     :',weight_euclid_dist(Russia, Ireland))\n",
    "print('Weighted Euclidean Distance for Russia & UK          :',weight_euclid_dist(Russia, UK))\n",
    "print('Weighted Euclidean Distance for Russia & Germany     :',weight_euclid_dist(Russia, Germany))\n",
    "print('Weighted Euclidean Distance for Russia & Canada      :',weight_euclid_dist(Russia, Canada))\n",
    "print('Weighted Euclidean Distance for Russia & Australia   :',weight_euclid_dist(Russia, Australia))\n",
    "print('Weighted Euclidean Distance for Russia & Sweden      :',weight_euclid_dist(Russia, Sweden))\n",
    "print('Weighted Euclidean Distance for Russia & New Zealand :',weight_euclid_dist(Russia, Newzealand))\n",
    "Total_weight=round(sum(list1),4)\n",
    "print('Sum of the weights',Total_weight)"
   ]
  },
  {
   "cell_type": "code",
   "execution_count": 34,
   "id": "01ccf240",
   "metadata": {},
   "outputs": [
    {
     "name": "stdout",
     "output_type": "stream",
     "text": [
      "Euclidean weight*CPI for Afghanistan : 0.9188419841317907\n",
      "Euclidean weight*CPI for Haiti       : 0.8291795273414104\n",
      "Euclidean weight*CPI for Nigeria     : 1.4696387855514224\n",
      "Euclidean weight*CPI for Egypt       : 6.314140745643062\n",
      "Euclidean weight*CPI for Argentina   : 9.920860927152317\n",
      "Euclidean weight*CPI for China       : 10.316685584562993\n",
      "Euclidean weight*CPI for Brazil      : 7.294356397371472\n",
      "Euclidean weight*CPI for Israel      : 16.625533961680734\n",
      "Euclidean weight*CPI for U.S.A       : 60.52332485156913\n",
      "Euclidean weight*CPI for Ireland     : 18.815117007757234\n",
      "Euclidean weight*CPI for UK          : 45.58678674452966\n",
      "Euclidean weight*CPI for Germany     : 19.46657505280297\n",
      "Euclidean weight*CPI for Canada      : 25.48486629444607\n",
      "Euclidean weight*CPI for Australia   : 27.447365807636924\n",
      "Euclidean weight*CPI for Sweden      : 21.197703895535454\n",
      "Euclidean weight*CPI for New Zealand : 29.080208973570993\n"
     ]
    }
   ],
   "source": [
    "print('Euclidean weight*CPI for Afghanistan :',list1[0]*CPI_data[0])\n",
    "print('Euclidean weight*CPI for Haiti       :',list1[1]*CPI_data[1])\n",
    "print('Euclidean weight*CPI for Nigeria     :',list1[2]*CPI_data[2])\n",
    "print('Euclidean weight*CPI for Egypt       :',list1[3]*CPI_data[3])\n",
    "print('Euclidean weight*CPI for Argentina   :',list1[4]*CPI_data[4])\n",
    "print('Euclidean weight*CPI for China       :',list1[5]*CPI_data[5])\n",
    "print('Euclidean weight*CPI for Brazil      :',list1[6]*CPI_data[6])\n",
    "print('Euclidean weight*CPI for Israel      :',list1[7]*CPI_data[7])\n",
    "print('Euclidean weight*CPI for U.S.A       :',list1[8]*CPI_data[8])\n",
    "print('Euclidean weight*CPI for Ireland     :',list1[9]*CPI_data[9])\n",
    "print('Euclidean weight*CPI for UK          :',list1[10]*CPI_data[10])\n",
    "print('Euclidean weight*CPI for Germany     :',list1[11]*CPI_data[11])\n",
    "print('Euclidean weight*CPI for Canada      :',list1[12]*CPI_data[12])\n",
    "print('Euclidean weight*CPI for Australia   :',list1[13]*CPI_data[13])\n",
    "print('Euclidean weight*CPI for Sweden      :',list1[14]*CPI_data[14])\n",
    "print('Euclidean weight*CPI for New Zealand :',list1[15]*CPI_data[15])"
   ]
  },
  {
   "cell_type": "code",
   "execution_count": 35,
   "id": "633fa647",
   "metadata": {},
   "outputs": [
    {
     "name": "stdout",
     "output_type": "stream",
     "text": [
      "sum of weights*CPI of all countries given is 301.29118654128365\n",
      "CPI for Russia is: 6.63\n"
     ]
    }
   ],
   "source": [
    "sum1=0\n",
    "for i in range(len(list1)):\n",
    "    sum1+=list1[i]*CPI_data[i]\n",
    "print('sum of weights*CPI of all countries given is',sum1)\n",
    "print('CPI for Russia is:',round(sum1/Total_weight,2))"
   ]
  },
  {
   "cell_type": "markdown",
   "id": "704b31a3",
   "metadata": {},
   "source": [
    "#### 3(E)"
   ]
  },
  {
   "cell_type": "markdown",
   "id": "f4195c5d",
   "metadata": {},
   "source": [
    "Given the value of CPI Russia is 2.4488 \n",
    "\n",
    "Using the unnormalized KNN method, a prediction for a value of 4.58 came the closest in the computation above. If the k number is 3, it appears to be overfitting. Different datasets and smaller datasets produce the most accurate results, and normalized data is uniform and consistently reliable in its predictions. The calculation of the data is made better by using weighted distances at k = 16."
   ]
  },
  {
   "cell_type": "markdown",
   "id": "ddac0ed8",
   "metadata": {},
   "source": [
    "#### Chapter 5 Exercise 4"
   ]
  },
  {
   "cell_type": "markdown",
   "id": "372faf79",
   "metadata": {},
   "source": [
    "#### 4(A)"
   ]
  },
  {
   "cell_type": "markdown",
   "id": "9eb35b94",
   "metadata": {},
   "source": [
    "To develop a recommender system based on whether a customer has made a purchase, we can use the example dataset to demonstrate how to utilize the Jaccard similarity index to forecast whether a consumer will purchase a specific item. increase. The Jaccard similarity index is the best option because it does not take coexistence into account. In other words, it's feasible that the buyer is unaware of and hasn't bought the product. Therefore, removing this element actually aids in determining whether a consumer will buy a product in the future."
   ]
  },
  {
   "cell_type": "markdown",
   "id": "91fc65fc",
   "metadata": {},
   "source": [
    "When there are hundreds of thousands of items in a domain, co-absences are insignificant. You may be in a domain where most people haven't seen, heard, bought, or visited a lot of items so most features will be co-absences. The term **sparse data** refers to a dataset with most features having zero values. You should use a metric that ignores co-absences in these situations. The **Jaccard similarity index** is ideal for scenarios such as this one, where the features are binary."
   ]
  },
  {
   "cell_type": "markdown",
   "id": "627790db",
   "metadata": {},
   "source": [
    "#### 4 (B)"
   ]
  },
  {
   "attachments": {
    "4b.jpg": {
     "image/jpeg": "[encoded data removed]"
    }
   },
   "cell_type": "markdown",
   "id": "99f42d51",
   "metadata": {},
   "source": [
    "![4b.jpg](attachment:4b.jpg)"
   ]
  },
  {
   "cell_type": "markdown",
   "id": "3d23f9f2",
   "metadata": {},
   "source": [
    "Assuming you chose the Jaccard similarity index, then the query customer is moresimilar to customer d1 than to customer d2:\n"
   ]
  },
  {
   "cell_type": "markdown",
   "id": "ccb5e9a2",
   "metadata": {},
   "source": [
    "Jaccard(q,d1)=2/2+1=0.6667 <br>\n",
    "Jaccard(q,d2)=1/4=0.25\n",
    "\n",
    "There is one item, item 498, that customer d1 has purchased but the query customer has not. The system will consequently suggest item 498 to the question consumer."
   ]
  },
  {
   "cell_type": "markdown",
   "id": "8b1ecf1f",
   "metadata": {},
   "source": [
    "Customer d1 is actually more similar to the query customer than Customer d2 in this situation, regardless of which of the three similarity metrics we apply. In support of Russell-Rao and Sokal-Michener, the following computations were made:"
   ]
  },
  {
   "cell_type": "markdown",
   "id": "cccb668b",
   "metadata": {},
   "source": [
    "Russel-Rao(q,d1)=2/5=0.4 <br>\n",
    "Russel-Rao(q,d2)=1/5=0.2 <br>\n",
    "Sokal-Michener(q,d1)=4/5=0.8 <br>\n",
    "Sokal-Michener(q,d2)=2/5=0.4 <br>\n",
    "\n",
    "So, the system will recommend item 498 irrespective of the similarity metric used."
   ]
  },
  {
   "cell_type": "markdown",
   "id": "72a992e5",
   "metadata": {},
   "source": [
    "#### Chapter 5 Exercise 5"
   ]
  },
  {
   "cell_type": "markdown",
   "id": "7a201a92",
   "metadata": {},
   "source": [
    "#### 5 (A)"
   ]
  },
  {
   "cell_type": "markdown",
   "id": "7f363551",
   "metadata": {},
   "source": [
    "We can calculate the overlap metric between the query instance and each instance in the\n",
    "dataset by counting the number of feature values that are different.\n"
   ]
  },
  {
   "cell_type": "code",
   "execution_count": 36,
   "id": "7597885a",
   "metadata": {},
   "outputs": [],
   "source": [
    "d = {'ID': [1,2,3,4], \n",
    "     'CLASS':['mammal','amphibian','mammal','bird'],\n",
    "     'Overlap Metric' :['11110110=6','00001000=1','11110110=6','00010001=2']}"
   ]
  },
  {
   "cell_type": "code",
   "execution_count": 37,
   "id": "86f3f98e",
   "metadata": {},
   "outputs": [],
   "source": [
    "df=pd.DataFrame(data=d)"
   ]
  },
  {
   "cell_type": "code",
   "execution_count": 38,
   "id": "678761b9",
   "metadata": {},
   "outputs": [
    {
     "data": {
      "text/html": [
       "<div>\n",
       "<style scoped>\n",
       "    .dataframe tbody tr th:only-of-type {\n",
       "        vertical-align: middle;\n",
       "    }\n",
       "\n",
       "    .dataframe tbody tr th {\n",
       "        vertical-align: top;\n",
       "    }\n",
       "\n",
       "    .dataframe thead th {\n",
       "        text-align: right;\n",
       "    }\n",
       "</style>\n",
       "<table border=\"1\" class=\"dataframe\">\n",
       "  <thead>\n",
       "    <tr style=\"text-align: right;\">\n",
       "      <th></th>\n",
       "      <th>ID</th>\n",
       "      <th>CLASS</th>\n",
       "      <th>Overlap Metric</th>\n",
       "    </tr>\n",
       "  </thead>\n",
       "  <tbody>\n",
       "    <tr>\n",
       "      <th>0</th>\n",
       "      <td>1</td>\n",
       "      <td>mammal</td>\n",
       "      <td>11110110=6</td>\n",
       "    </tr>\n",
       "    <tr>\n",
       "      <th>1</th>\n",
       "      <td>2</td>\n",
       "      <td>amphibian</td>\n",
       "      <td>00001000=1</td>\n",
       "    </tr>\n",
       "    <tr>\n",
       "      <th>2</th>\n",
       "      <td>3</td>\n",
       "      <td>mammal</td>\n",
       "      <td>11110110=6</td>\n",
       "    </tr>\n",
       "    <tr>\n",
       "      <th>3</th>\n",
       "      <td>4</td>\n",
       "      <td>bird</td>\n",
       "      <td>00010001=2</td>\n",
       "    </tr>\n",
       "  </tbody>\n",
       "</table>\n",
       "</div>"
      ],
      "text/plain": [
       "   ID      CLASS Overlap Metric\n",
       "0   1     mammal     11110110=6\n",
       "1   2  amphibian     00001000=1\n",
       "2   3     mammal     11110110=6\n",
       "3   4       bird     00010001=2"
      ]
     },
     "execution_count": 38,
     "metadata": {},
     "output_type": "execute_result"
    }
   ],
   "source": [
    "df"
   ]
  },
  {
   "cell_type": "markdown",
   "id": "dd932c9b",
   "metadata": {},
   "source": [
    "#### 5 (B)"
   ]
  },
  {
   "cell_type": "markdown",
   "id": "501bf8a9",
   "metadata": {},
   "source": [
    "For the 1NN model, we need to calculate the first nearest neighbor of the specified query.ID2 is the mysterious animal's closest neighbor. As a result, the mystery creature would be categorized as an **amphibian.**"
   ]
  },
  {
   "cell_type": "markdown",
   "id": "b5642001",
   "metadata": {},
   "source": [
    "#### 5 (C)"
   ]
  },
  {
   "cell_type": "markdown",
   "id": "32ece9c3",
   "metadata": {},
   "source": [
    "The nearest four neighbors to the supplied query for the 4NN model must be determined. According to the specified distance, everything is below the closest query neighbors. The class Mammal is the answer to the query since the majority of instances have the desired characteristic of Mammal.\n",
    "Given that the model does not accurately suit the given value of k, this comparison of the models is not very useful. Additionally, because it results in misleading predictions, the comparison used to calculate the query's prediction is incorrect. **Hence, for this dataset, a 4-NN model would massively underfit the dataset.**"
   ]
  },
  {
   "cell_type": "markdown",
   "id": "dd8ac933",
   "metadata": {},
   "source": [
    "#### Chapter 5 Exercise 6"
   ]
  },
  {
   "cell_type": "markdown",
   "id": "d66b56a5",
   "metadata": {},
   "source": [
    "#### 6(A)"
   ]
  },
  {
   "cell_type": "markdown",
   "id": "7b929168",
   "metadata": {},
   "source": [
    "We have to follow these steps:<br>\n",
    "    First sort the rent values, <br>\n",
    "    select the median,<br>\n",
    "    split by the size of the second level of the tree.<br>"
   ]
  },
  {
   "attachments": {
    "6a.jpg": {
     "image/jpeg": "[encoded data removed]"
    }
   },
   "cell_type": "markdown",
   "id": "1526b1fc",
   "metadata": {},
   "source": [
    "![6a.jpg](attachment:6a.jpg)"
   ]
  },
  {
   "cell_type": "markdown",
   "id": "7390523b",
   "metadata": {},
   "source": [
    "#### 6 (B)"
   ]
  },
  {
   "cell_type": "markdown",
   "id": "e4cd5548",
   "metadata": {},
   "source": [
    "The significant and initial step of finding the nearest neighbour is to go down the tree to a leaf node. The node that contains instance d7 will be the point at which this descent comes to an end for this query. The instance saved at this node, d7, is now set as the current_best variable, and the Euclidean distance between the query and d7 is now the current_best_distance variable.\n",
    "\n",
    "Current_best  = d7<br>\n",
    "\tCurrent_best_distance = Euclidean (q,d7) = sqrt((1000-960)2+(2200-800)2)=1400.5713\n",
    "\n",
    "After then, the retrieval algorithm climbs the tree. The node that stores instance d3 is the starting node the algorithm will come across. The query's Euclidean distance from d3 is smaller than the current_best_distance. In order to reflect this, the current_best and current_best_distance are updated.\n",
    "\n",
    "\t\n",
    "Current_best  = d3<br>\n",
    "\tCurrent_best_distance = Euclidean (q,d3) =sqrt((1000-1050)2+(2200-1250)2)= 951.31\n",
    "\n",
    "The algorithm descends the opposite branch of the tree from this node because the difference between the feature value of splitting at the node where size =1050 and the query size = 1000 is smaller than the current_best_distance. This descent will come to an end at node d2. The query-to-d2 Euclidean distance is shorter than the current_best_distance. As a result, the current_best and current_best_distance are changed to reflect this.\n",
    "\n",
    "Current_best  = d2<br>\n",
    "\tCurrent_best_distance = Euclidean (q,d2) =sqrt((1000-1315)2+(2200-1800)2)= 509.14\n",
    "\n",
    "The method will then climb the tree; because it has previously visited all of the nodes on the way back to the root, it will not need to look for nodes that are closer than the current_best until it reaches the root. Because the Euclidean distance between the query and the instance recorded at the root node, d3, is larger than current_best_distance in this case, neither current_best nor current_best_distance is modified when we arrive at the root node. Additionally, the algorithm can trim the other branch from the k-d tree and return d2 as the nearest neighbour, indicating that the property is worth about $820,000 because the difference between the feature value of splitting at the node where RENT = 3800 and query RENT = 2200 is greater than the current_best_distance.\n",
    "\n",
    "The current best distance is D2 for which the price is **820,000**"
   ]
  },
  {
   "cell_type": "markdown",
   "id": "e75f4384",
   "metadata": {},
   "source": [
    "#### KNN from Scratch"
   ]
  },
  {
   "cell_type": "code",
   "execution_count": 39,
   "id": "4c9abdb0",
   "metadata": {},
   "outputs": [
    {
     "data": {
      "text/html": [
       "<div>\n",
       "<style scoped>\n",
       "    .dataframe tbody tr th:only-of-type {\n",
       "        vertical-align: middle;\n",
       "    }\n",
       "\n",
       "    .dataframe tbody tr th {\n",
       "        vertical-align: top;\n",
       "    }\n",
       "\n",
       "    .dataframe thead th {\n",
       "        text-align: right;\n",
       "    }\n",
       "</style>\n",
       "<table border=\"1\" class=\"dataframe\">\n",
       "  <thead>\n",
       "    <tr style=\"text-align: right;\">\n",
       "      <th></th>\n",
       "      <th>sepal length (cm)</th>\n",
       "      <th>sepal width (cm)</th>\n",
       "      <th>petal length (cm)</th>\n",
       "      <th>petal width (cm)</th>\n",
       "      <th>target</th>\n",
       "    </tr>\n",
       "  </thead>\n",
       "  <tbody>\n",
       "    <tr>\n",
       "      <th>0</th>\n",
       "      <td>5.1</td>\n",
       "      <td>3.5</td>\n",
       "      <td>1.4</td>\n",
       "      <td>0.2</td>\n",
       "      <td>0</td>\n",
       "    </tr>\n",
       "    <tr>\n",
       "      <th>1</th>\n",
       "      <td>4.9</td>\n",
       "      <td>3.0</td>\n",
       "      <td>1.4</td>\n",
       "      <td>0.2</td>\n",
       "      <td>0</td>\n",
       "    </tr>\n",
       "    <tr>\n",
       "      <th>2</th>\n",
       "      <td>4.7</td>\n",
       "      <td>3.2</td>\n",
       "      <td>1.3</td>\n",
       "      <td>0.2</td>\n",
       "      <td>0</td>\n",
       "    </tr>\n",
       "    <tr>\n",
       "      <th>3</th>\n",
       "      <td>4.6</td>\n",
       "      <td>3.1</td>\n",
       "      <td>1.5</td>\n",
       "      <td>0.2</td>\n",
       "      <td>0</td>\n",
       "    </tr>\n",
       "    <tr>\n",
       "      <th>4</th>\n",
       "      <td>5.0</td>\n",
       "      <td>3.6</td>\n",
       "      <td>1.4</td>\n",
       "      <td>0.2</td>\n",
       "      <td>0</td>\n",
       "    </tr>\n",
       "  </tbody>\n",
       "</table>\n",
       "</div>"
      ],
      "text/plain": [
       "   sepal length (cm)  sepal width (cm)  petal length (cm)  petal width (cm)  \\\n",
       "0                5.1               3.5                1.4               0.2   \n",
       "1                4.9               3.0                1.4               0.2   \n",
       "2                4.7               3.2                1.3               0.2   \n",
       "3                4.6               3.1                1.5               0.2   \n",
       "4                5.0               3.6                1.4               0.2   \n",
       "\n",
       "   target  \n",
       "0       0  \n",
       "1       0  \n",
       "2       0  \n",
       "3       0  \n",
       "4       0  "
      ]
     },
     "execution_count": 39,
     "metadata": {},
     "output_type": "execute_result"
    }
   ],
   "source": [
    "iris = datasets.load_iris()\n",
    "data = pd.DataFrame(data=iris.data, columns=iris.feature_names)\n",
    "data['target'] = iris.target\n",
    "data.head()"
   ]
  },
  {
   "cell_type": "code",
   "execution_count": 40,
   "id": "42b8d8f9",
   "metadata": {},
   "outputs": [],
   "source": [
    "x=data.iloc[:,:-1]\n",
    "y=data.iloc[:,-1]\n",
    "x_train,x_test,y_train,y_test=train_test_split(x,y,test_size=0.3,random_state=42)"
   ]
  },
  {
   "cell_type": "code",
   "execution_count": 41,
   "id": "4d8cfea9",
   "metadata": {},
   "outputs": [],
   "source": [
    "def dist_1(z1, z2):\n",
    "    z1 = np.array(z1) \n",
    "    z2 = np.array(z2)\n",
    "    dist=np.linalg.norm(z1 - z2)\n",
    "    return dist"
   ]
  },
  {
   "cell_type": "code",
   "execution_count": 42,
   "id": "51bbe4e3",
   "metadata": {},
   "outputs": [],
   "source": [
    "def Neighbors(data,k):\n",
    "        dists=[]\n",
    "        for index in range(len(x_train)):\n",
    "            d=dist_1(x_train.iloc[index],data)\n",
    "            dists.append((d,y_train.iloc[index]))\n",
    "        dists.sort(key=lambda x:x[0])\n",
    "        return dists[:k]"
   ]
  },
  {
   "cell_type": "code",
   "execution_count": 43,
   "id": "e3c634b8",
   "metadata": {},
   "outputs": [
    {
     "data": {
      "text/plain": [
       "1.0"
      ]
     },
     "execution_count": 43,
     "metadata": {},
     "output_type": "execute_result"
    }
   ],
   "source": [
    "y_predict=[]\n",
    "for i in range(len(x_test)):\n",
    "    data=x_test.iloc[i]\n",
    "    data=np.array(data)\n",
    "    n=Neighbors(data,3)\n",
    "    y_predict.append( mode( n )[0][0])\n",
    "for i in range(len(y_predict)):\n",
    "    y_predict[i]=y_predict[i][1]    \n",
    "y_prediction=np.array(y_predict).reshape(1,45)\n",
    "from sklearn.metrics import confusion_matrix, accuracy_score\n",
    "accuracy_score(y_test, y_predict)"
   ]
  },
  {
   "cell_type": "code",
   "execution_count": 44,
   "id": "07e42a0c",
   "metadata": {},
   "outputs": [
    {
     "name": "stdout",
     "output_type": "stream",
     "text": [
      "The accuracy score of KNN is: 1.0\n"
     ]
    }
   ],
   "source": [
    "print('The accuracy score of KNN is:',accuracy_score(y_test, y_predict))"
   ]
  },
  {
   "cell_type": "markdown",
   "id": "c8d563ab",
   "metadata": {},
   "source": [
    "#### Weighted KNN"
   ]
  },
  {
   "cell_type": "code",
   "execution_count": 45,
   "id": "b63016c9",
   "metadata": {},
   "outputs": [],
   "source": [
    "def Join(x, y):\n",
    "    data1 = [(x[i], y[i]) for i in range(0, len(x))]\n",
    "    return data1"
   ]
  },
  {
   "cell_type": "code",
   "execution_count": 46,
   "id": "eb1517e1",
   "metadata": {},
   "outputs": [],
   "source": [
    "def weight_knn_predict(x_train, y , x_test, k, w):\n",
    "    label = []\n",
    "    for i in x_test: \n",
    "        dist_p = []\n",
    "        for j in range(len(x_train)): \n",
    "            distances = dist_1(np.array(x_train[j,:]) , i)\n",
    "            dist_p.append(distances) \n",
    "        dist_p = np.array(dist_p) \n",
    "        dist = np.argsort(dist_p)[:k] \n",
    "        labels = y[dist]\n",
    "        l = mode(labels) \n",
    "        l = l.mode[0]\n",
    "        label.append(l)\n",
    "        joined=Join(dist, labels)\n",
    "        setosa = 0\n",
    "        Versicolor = 0\n",
    "        Virginica = 0\n",
    "        for d in joined: \n",
    "            if d[1] == 0: \n",
    "                setosa += (1 / d[0]) \n",
    "\n",
    "            elif d[1] == 1: \n",
    "                with np.errstate(divide='ignore'):\n",
    "                    Versicolor = Versicolor+(1/d[0]) \n",
    "            else:\n",
    "                Virginica +=  (1 /d[0])\n",
    "        if (Versicolor > setosa) and (Versicolor > Virginica):\n",
    "               n = 'versicolor'\n",
    "        elif (Virginica > Versicolor) and (Virginica > setosa):\n",
    "               n = 'virginica'\n",
    "        else:\n",
    "               n = 'setosa'\n",
    "            \n",
    "    return label"
   ]
  },
  {
   "cell_type": "code",
   "execution_count": 47,
   "id": "1bd08a40",
   "metadata": {},
   "outputs": [
    {
     "name": "stdout",
     "output_type": "stream",
     "text": [
      "The accuracy score of weighted KNN is: 1.0\n"
     ]
    }
   ],
   "source": [
    "x= iris.data\n",
    "y= iris.target\n",
    "xtrain,xtest,ytrain,ytest=train_test_split(x,y,test_size=0.3,random_state=42)\n",
    "y_pred = weight_knn_predict(xtrain,ytrain,xtest ,10, 'distance')\n",
    "print('The accuracy score of weighted KNN is:',accuracy_score(y_test, y_pred))"
   ]
  },
  {
   "cell_type": "markdown",
   "id": "5bd0c668",
   "metadata": {},
   "source": [
    "#### KNN using Scikit-Learn"
   ]
  },
  {
   "cell_type": "code",
   "execution_count": 48,
   "id": "ea9700c0",
   "metadata": {},
   "outputs": [],
   "source": [
    "x=iris.data\n",
    "y=iris.target"
   ]
  },
  {
   "cell_type": "code",
   "execution_count": 49,
   "id": "78d7197c",
   "metadata": {},
   "outputs": [
    {
     "name": "stdout",
     "output_type": "stream",
     "text": [
      "The accuracy of the KNN using sklearn is 1.0\n"
     ]
    }
   ],
   "source": [
    "x_train,x_test,y_train,y_test=train_test_split(x,y,test_size=0.3,random_state=42)\n",
    "model=KNeighborsClassifier(n_neighbors=3)\n",
    "model.fit(x_train,y_train)\n",
    "predict=model.predict(x_test)\n",
    "print('The accuracy of the KNN using sklearn is',accuracy_score(predict,y_test))"
   ]
  },
  {
   "cell_type": "markdown",
   "id": "9446e867",
   "metadata": {},
   "source": [
    "We can clearly see that the accuracy score for KNN, weighted KNN using Python code and KNN using sklearn is same."
   ]
  }
 ],
 "metadata": {
  "kernelspec": {
   "display_name": "Python 3 (ipykernel)",
   "language": "python",
   "name": "python3"
  },
  "language_info": {
   "codemirror_mode": {
    "name": "ipython",
    "version": 3
   },
   "file_extension": ".py",
   "mimetype": "text/x-python",
   "name": "python",
   "nbconvert_exporter": "python",
   "pygments_lexer": "ipython3",
   "version": "3.9.13"
  }
 },
 "nbformat": 4,
 "nbformat_minor": 5
}
