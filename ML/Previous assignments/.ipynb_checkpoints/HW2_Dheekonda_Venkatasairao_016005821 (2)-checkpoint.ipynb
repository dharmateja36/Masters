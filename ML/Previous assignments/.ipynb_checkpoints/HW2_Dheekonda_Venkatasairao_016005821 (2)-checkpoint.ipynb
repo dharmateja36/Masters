{
 "cells": [
  {
   "cell_type": "code",
   "execution_count": 1,
   "id": "ad57c95b",
   "metadata": {},
   "outputs": [],
   "source": [
    "import pandas as pd\n",
    "import numpy as np"
   ]
  },
  {
   "cell_type": "markdown",
   "id": "efbf697e",
   "metadata": {},
   "source": [
    "#### Question 3"
   ]
  },
  {
   "cell_type": "markdown",
   "id": "e4200ebd",
   "metadata": {},
   "source": [
    "**3(a)**<br>\n",
    "There are 4 descriptive features(AGE,EDUCATION ,MARITAL STATUS, OCCUPATION), and 1 target feature(ANNUAL INCOME) in the dataset. \n",
    "We have to calculate entropy of the data set Annual Income as the Target feature. ANNUAL INCOME, the target feature with 3 levels (<25K, 25K–50K,>50K)\n",
    "<25k:2/8, 25K–50K: 5/8, >50K:1/8"
   ]
  },
  {
   "cell_type": "code",
   "execution_count": 2,
   "id": "c1cad77f",
   "metadata": {},
   "outputs": [
    {
     "name": "stdout",
     "output_type": "stream",
     "text": [
      "Entropy of the data set Annual Income = 1.2988  bits\n"
     ]
    }
   ],
   "source": [
    "Entropy= -((2/8 *np.log2(2/8)) +(5/8*np.log2(5/8)) +(1/8*np.log2(1/8)))\n",
    "print('Entropy of the data set Annual Income =' ,round(Entropy,4),' bits')"
   ]
  },
  {
   "cell_type": "markdown",
   "id": "fea581f6",
   "metadata": {},
   "source": [
    "**3(b)** Gini Index with Annual Income as target feature\n"
   ]
  },
  {
   "cell_type": "code",
   "execution_count": 3,
   "id": "002be63d",
   "metadata": {},
   "outputs": [
    {
     "name": "stdout",
     "output_type": "stream",
     "text": [
      "0.53125\n"
     ]
    }
   ],
   "source": [
    "Gini_Index= 1-((2/8)**2 +(5/8) **2 + (1/8)**2)\n",
    "print(Gini_Index)"
   ]
  },
  {
   "cell_type": "markdown",
   "id": "b9be4a2f",
   "metadata": {},
   "source": [
    "If we round the Gini Index, Gini Index with Annual Income as target feature is **0.5313**"
   ]
  },
  {
   "cell_type": "markdown",
   "id": "dcd3959c",
   "metadata": {},
   "source": [
    "**3(c)**<br>\n",
    "The best way to split a continuous variable like age is to consider the threshold. First, sort the datasets in ascending order of age.\n",
    "\n",
    "ID AGE ANNUAL INCOME\n",
    "\n",
    "3  18       25K\n",
    "\n",
    "6  24       25K\n",
    "\n",
    "4  28       25K–50K\n",
    "\n",
    "5  37       25K–50K\n",
    "\n",
    "1  39       25K–50K\n",
    "\n",
    "8  40       50K\n",
    "\n",
    "2  50       25K–50K+\n",
    "\n",
    "7  52       25K–50K\n",
    "\n",
    "we can split it into three threshold ranges : \n",
    "First threshold : Age (24+28)/2= >26 <br>\n",
    "Second threshold : Age 40+39)= >39.5 <br>\n",
    "Third threshold : Age 40-50= >45 <br>\n",
    "\n",
    "From the observation of info gain values, we can see that Age bracket (>26) has the highest info gain and hence the highest and best threshold."
   ]
  },
  {
   "cell_type": "code",
   "execution_count": 4,
   "id": "d025d217",
   "metadata": {},
   "outputs": [
    {
     "name": "stdout",
     "output_type": "stream",
     "text": [
      "Calculation of Entropy\n",
      "Entropy of D1 =0 0\n",
      "Entropy of D2 = 0.65 bits\n",
      "Entropy of D3 =  0.971 bits\n",
      "Entropy of D4 =  0.9183 bits\n",
      "Entropy of D5 =  1.4591 bits\n",
      "Entropy of D6 = 0\n"
     ]
    }
   ],
   "source": [
    "##As we have already calculated in 3(a), the overall entropy for the dataset which is 1.2988 bits\n",
    "\n",
    "print('Calculation of Entropy')\n",
    "ED1=0\n",
    "print('Entropy of D1 =0',ED1)\n",
    "ED2=-((5/6 *np.log2(5/6)) +(1/6*np.log2(1/6)))\n",
    "print('Entropy of D2 =' ,round(ED2,4),'bits')\n",
    "ED3=-((2/5 *np.log2(2/5)) +(3/5*np.log2(3/5)))\n",
    "print('Entropy of D3 = ' ,round(ED3,4),'bits')\n",
    "ED4=-((2/3 *np.log2(2/3)) +(1/3*np.log2(1/3)))\n",
    "print('Entropy of D4 = ' ,round(ED4,4),'bits')\n",
    "ED5=-((2/6 *np.log2(2/6)) +(3/6*np.log2(3/6))+(1/6 *np.log2(1/6)))\n",
    "print('Entropy of D5 = ' ,round(ED5,4),'bits')\n",
    "ED6=0\n",
    "print('Entropy of D6 =',ED6)"
   ]
  },
  {
   "cell_type": "code",
   "execution_count": 5,
   "id": "99739db8",
   "metadata": {},
   "outputs": [
    {
     "name": "stdout",
     "output_type": "stream",
     "text": [
      "Calculation of Remainder\n",
      "Remainder of D1 & D2 =  0.4875 bits\n",
      "Remainder of D3 & D4= 0.9512 bits\n",
      "Remainder of D5 & D6= 1.0944 bits\n"
     ]
    }
   ],
   "source": [
    "print('Calculation of Remainder')\n",
    "rem_of_D1_D2=((6/8)*(ED2) + (2/8)*(ED1))\n",
    "print('Remainder of D1 & D2 = ' ,round(rem_of_D1_D2,4),'bits')\n",
    "rem_of_D3_D4=((3/8)*(ED4) + (5/8)*(ED3))\n",
    "print('Remainder of D3 & D4=' ,round(rem_of_D3_D4,4),'bits')\n",
    "rem_of_D5_D6=((2/8)*(ED6) + (6/8)*(ED5))\n",
    "print('Remainder of D5 & D6=' ,round(rem_of_D5_D6,4),'bits')"
   ]
  },
  {
   "cell_type": "code",
   "execution_count": 6,
   "id": "771f063b",
   "metadata": {},
   "outputs": [
    {
     "name": "stdout",
     "output_type": "stream",
     "text": [
      "Information Gain of D1 & D2= 0.8113  bits\n",
      "Information Gain of D3 & D4= 0.3476  bits\n",
      "Information Gain of D5 & D6= 0.2044  bits\n"
     ]
    }
   ],
   "source": [
    "#Information Gain\n",
    "InfGain_D1_D2 = 1.2988-rem_of_D1_D2\n",
    "print('Information Gain of D1 & D2=' ,round(InfGain_D1_D2,4),' bits')\n",
    "InfGain_D3_D4 = 1.2988-rem_of_D3_D4\n",
    "print('Information Gain of D3 & D4=' ,round(InfGain_D3_D4,4),' bits')\n",
    "InfGain_D5_D6 = 1.2988-rem_of_D5_D6\n",
    "print('Information Gain of D5 & D6=' ,round(InfGain_D5_D6,4),' bits')"
   ]
  },
  {
   "cell_type": "markdown",
   "id": "98e75d42",
   "metadata": {},
   "source": [
    "From the observation of info gain values, **we can see that Age bracket (>26) has the highest info gain and hence the highest and best threshold.**"
   ]
  },
  {
   "cell_type": "markdown",
   "id": "dd723d23",
   "metadata": {},
   "source": [
    "**3(d)** <br>\n",
    "Calculate information gain (based on entropy) for the EDUCATION,\n",
    "MARITAL STATUS, and OCCUPATION features."
   ]
  },
  {
   "cell_type": "code",
   "execution_count": 7,
   "id": "a093497c",
   "metadata": {},
   "outputs": [
    {
     "name": "stdout",
     "output_type": "stream",
     "text": [
      "Entropy  of Education\n",
      "Entropy of Bachelor= 0\n",
      "Entropy of HighSchool={E_highschool:.4f} bits\n",
      "Entropy of Doctrate= 0\n"
     ]
    }
   ],
   "source": [
    "print('Entropy  of Education')\n",
    "E_Bachelor=0\n",
    "print('Entropy of Bachelor=',E_Bachelor)\n",
    "E_highschool=-((2/4 *np.log2(2/4)) +(2/4*np.log2(2/4)))\n",
    "print('Entropy of HighSchool={E_highschool:.4f} bits')\n",
    "E_Doctrate=0\n",
    "print('Entropy of Doctrate=',E_Doctrate)"
   ]
  },
  {
   "cell_type": "code",
   "execution_count": 8,
   "id": "c8ec40ec",
   "metadata": {},
   "outputs": [
    {
     "name": "stdout",
     "output_type": "stream",
     "text": [
      "Entropy  of Marital Status\n",
      "Entropy of Never_Married= 0.9183  bits\n",
      "Entropy of Married= 0.9183  bits\n",
      "Entropy of Divorced= 0\n"
     ]
    }
   ],
   "source": [
    "print('Entropy  of Marital Status')\n",
    "E_Never_Married=-((2/3 *np.log2(2/3)) +(1/3*np.log2(1/3)))\n",
    "print('Entropy of Never_Married=' ,round(E_Never_Married,4),' bits')\n",
    "E_Married=-((3/4 *np.log2(3/4)) +(1/4*np.log2(1/4)))\n",
    "print('Entropy of Married=' ,round(E_Never_Married,4),' bits')\n",
    "E_Divorced=0\n",
    "print('Entropy of Divorced=',E_Divorced)"
   ]
  },
  {
   "cell_type": "code",
   "execution_count": 9,
   "id": "9c009d75",
   "metadata": {},
   "outputs": [
    {
     "name": "stdout",
     "output_type": "stream",
     "text": [
      "Entropy  of Occupation\n",
      "Entropy of transport= 0\n",
      "Entropy of Professional= 0.9183  bits\n",
      "Entropy of Agriculture= 1.0  bits\n",
      "Entropy of Armed Force= 0\n"
     ]
    }
   ],
   "source": [
    "print('Entropy  of Occupation')\n",
    "E_transport=0\n",
    "print('Entropy of transport=',E_transport)\n",
    "E_Professional=-((2/3 *np.log2(2/3)) +(1/3*np.log2(1/3)))\n",
    "print('Entropy of Professional=' ,round(E_Professional,4),' bits')\n",
    "E_Agriculture=-((1/2 *np.log2(1/2)) +(1/2*np.log2(1/2)))\n",
    "print('Entropy of Agriculture=' ,round(E_Agriculture,4),' bits')\n",
    "E_ArmedForce=0\n",
    "print('Entropy of Armed Force=',E_ArmedForce)"
   ]
  },
  {
   "cell_type": "code",
   "execution_count": 10,
   "id": "aeb707b8",
   "metadata": {},
   "outputs": [
    {
     "name": "stdout",
     "output_type": "stream",
     "text": [
      "Remainder  of EDUCATION, MARITAL STATUS, and OCCUPATION\n",
      "Remainder of Education= 0.5  bits\n",
      "Remainder of marital status= 0.75  bits\n",
      "Remainder of occupation= 0.5944  bits\n"
     ]
    }
   ],
   "source": [
    "print('Remainder  of EDUCATION, MARITAL STATUS, and OCCUPATION')\n",
    "Rem_Education=((4/8)*(E_highschool) + (3/8)*(E_Bachelor)+(1/8)*(E_Doctrate))\n",
    "print('Remainder of Education=' ,round(Rem_Education,4),' bits')\n",
    "Rem_marital_status=((3/8)*(E_Never_Married)+(4/8)*(E_Married)+(1/8)*(E_Divorced))\n",
    "print('Remainder of marital status=' ,round(Rem_marital_status,4),' bits')\n",
    "Rem_occupation=((2/8)*(E_transport) + (3/8)*(E_Professional)+(2/8)*(E_Agriculture)+(1/8)*(E_ArmedForce))\n",
    "print('Remainder of occupation=' ,round(Rem_occupation,4),' bits')"
   ]
  },
  {
   "cell_type": "code",
   "execution_count": 11,
   "id": "60e4a223",
   "metadata": {},
   "outputs": [
    {
     "name": "stdout",
     "output_type": "stream",
     "text": [
      "Information Gain\n",
      "Information Gain of Education= 0.7988  bits\n",
      "Information Gain of marital status= 0.5488  bits\n",
      "Information Gain of occupation= 0.7044  bits\n"
     ]
    }
   ],
   "source": [
    "print('Information Gain')\n",
    "IG_Education = 1.2988-Rem_Education\n",
    "print('Information Gain of Education=' ,round(IG_Education,4),' bits')\n",
    "IG_marital_status = 1.2988-Rem_marital_status\n",
    "print('Information Gain of marital status=' ,round(IG_marital_status,4),' bits')\n",
    "IG_occupation = 1.2988-Rem_occupation\n",
    "print('Information Gain of occupation=' ,round(IG_occupation,4),' bits')"
   ]
  },
  {
   "cell_type": "markdown",
   "id": "4eba603f",
   "metadata": {},
   "source": [
    "**3(e)** Information Gain ratio : Information gain /Entropy"
   ]
  },
  {
   "cell_type": "code",
   "execution_count": 12,
   "id": "58aaa458",
   "metadata": {},
   "outputs": [
    {
     "name": "stdout",
     "output_type": "stream",
     "text": [
      "Entropy for Education = 1.4056   bits\n",
      "Entropy for Marital Status= 1.4056   bits\n",
      "Entropy for Occupation = 1.9056   bits\n"
     ]
    }
   ],
   "source": [
    "#we can use the above calculated information gain to calculate the Information Gain Ratio\n",
    "#We have to calculate the Entropy of the whole feature.\n",
    "\n",
    "E_education= -((4/8 *np.log2(4/8)) +(3/8*np.log2(3/8)) +(1/8*np.log2(1/8)))\n",
    "print('Entropy for Education =' ,round(E_education,4),'  bits')\n",
    "E_marital_status= -((4/8 *np.log2(4/8)) +(3/8*np.log2(3/8)) +(1/8*np.log2(1/8)))\n",
    "print('Entropy for Marital Status=' ,round(E_marital_status,4),'  bits')\n",
    "E_occupation= -((2/8 *np.log2(2/8)) +(3/8*np.log2(3/8)) +(1/8*np.log2(1/8))+(2/8*np.log2(2/8)))\n",
    "print('Entropy for Occupation =' ,round(E_occupation,4),'  bits')\n"
   ]
  },
  {
   "cell_type": "code",
   "execution_count": 13,
   "id": "e05f444c",
   "metadata": {},
   "outputs": [
    {
     "name": "stdout",
     "output_type": "stream",
     "text": [
      "Information Gain Ratio of Education = 0.5683\n",
      "Information Gain Ratio of Marital Status = 0.3904\n",
      "Information Gain Ratio of Occupation = 0.3696\n"
     ]
    }
   ],
   "source": [
    "IGR_edu=round(IG_Education,4)/E_education\n",
    "IGR_mar=round(IG_marital_status,4)/E_marital_status\n",
    "IGR_occ=round(IG_occupation,4)/E_occupation\n",
    "print('Information Gain Ratio of Education =' ,round(IGR_edu,4))\n",
    "print('Information Gain Ratio of Marital Status =' ,round(IGR_mar,4))\n",
    "print('Information Gain Ratio of Occupation =' ,round(IGR_occ,4))"
   ]
  },
  {
   "cell_type": "markdown",
   "id": "ca3b2a3c",
   "metadata": {},
   "source": [
    "**3(f)** Information Gain using Gini Index"
   ]
  },
  {
   "cell_type": "code",
   "execution_count": 14,
   "id": "20eb2d88",
   "metadata": {},
   "outputs": [
    {
     "name": "stdout",
     "output_type": "stream",
     "text": [
      "Gini Index of Bachelor=0\n",
      "Gini Index of HighSchool= 0.5   bits\n",
      "Gini Index of Doctrate=0\n",
      "Gini Index of Never_Married= 0.4444   bits\n",
      "Gini Index of Married= 0.375   bits\n",
      "Gini Index of Divorced=0\n",
      "Gini Index of transport=0\n",
      "Gini Index of Professional= 0.4444   bits\n",
      "Gini Index of Agriculture= 0.5   bits\n",
      "Gini Index of Armed Force=0\n"
     ]
    }
   ],
   "source": [
    "# Gini Index for the whole dataset is 0.5312\n",
    "print('Gini Index of Bachelor=0')\n",
    "GI_highschool= 1-((2/4)**2 +(2/4) **2)\n",
    "print('Gini Index of HighSchool=' ,round(GI_highschool,4),'  bits')\n",
    "print('Gini Index of Doctrate=0')\n",
    "GI_Never_Married=1-((1/3)**2 +(2/3) **2)\n",
    "print('Gini Index of Never_Married=' ,round(GI_Never_Married,4),'  bits')\n",
    "GI_Married=1-((3/4)**2 +(1/4) **2)\n",
    "print('Gini Index of Married=' ,round(GI_Married,4),'  bits')\n",
    "print('Gini Index of Divorced=0')\n",
    "print('Gini Index of transport=0')\n",
    "GI_Professional=1-((1/3)**2 +(2/3) **2)\n",
    "print('Gini Index of Professional=' ,round(GI_Professional,4),'  bits')\n",
    "GI_Agriculture= 1-((2/4)**2 +(2/4) **2)\n",
    "print('Gini Index of Agriculture=' ,round(GI_Agriculture,4),'  bits')\n",
    "print('Gini Index of Armed Force=0')"
   ]
  },
  {
   "cell_type": "code",
   "execution_count": 15,
   "id": "2f9c176e",
   "metadata": {},
   "outputs": [
    {
     "name": "stdout",
     "output_type": "stream",
     "text": [
      "Remainder of Education= 0.5  bits\n",
      "Remainder of marital status= 0.5  bits\n",
      "Remainder of occupation= 0.5  bits\n"
     ]
    }
   ],
   "source": [
    "##Remainder\n",
    "Rem_Education=((4/8)*(GI_highschool) + (3/8)*(0)+(1/8)*(0))\n",
    "print('Remainder of Education=' ,round(GI_Agriculture,4),' bits')\n",
    "Rem_marital_status=((3/8)*(GI_Never_Married)+(4/8)*(GI_Married)+(1/8)*(0))\n",
    "print('Remainder of marital status=' ,round(GI_Agriculture,4),' bits')\n",
    "Rem_occupation=((2/8)*(0) + (3/8)*(GI_Professional)+(2/8)*(GI_Agriculture)+(1/8)*(0))\n",
    "print('Remainder of occupation=' ,round(GI_Agriculture,4),' bits')"
   ]
  },
  {
   "cell_type": "code",
   "execution_count": 16,
   "id": "835301a0",
   "metadata": {},
   "outputs": [
    {
     "name": "stdout",
     "output_type": "stream",
     "text": [
      "Information Gain of Education= 0.2812  bits\n",
      "Information Gain of marital status= 0.177  bits\n",
      "Information Gain of occupation= 0.2395  bits\n"
     ]
    }
   ],
   "source": [
    "##Information Gain\n",
    "IG_Education = 0.5312-Rem_Education\n",
    "print('Information Gain of Education=' ,round(IG_Education,4),' bits')\n",
    "IG_marital_status = 0.5312-Rem_marital_status\n",
    "print('Information Gain of marital status=' ,round(IG_marital_status,4),' bits')\n",
    "IG_occupation = 0.5312-Rem_occupation\n",
    "print('Information Gain of occupation=' ,round(IG_occupation,4),' bits')"
   ]
  },
  {
   "cell_type": "markdown",
   "id": "5f05ea1c",
   "metadata": {},
   "source": [
    "#### Question 4"
   ]
  },
  {
   "cell_type": "markdown",
   "id": "5b78ee1e",
   "metadata": {},
   "source": [
    "In machine learning and data mining, pruning is a technique associated with decision trees. Pruning reduces the size of decision trees by removing parts of the tree that do not provide power to classify instances."
   ]
  },
  {
   "cell_type": "markdown",
   "id": "6c7fd79d",
   "metadata": {},
   "source": [
    "A decision tree is given for heart disease prediction task. The binary target feature is HEART DISEASE. This is  a bottom-up, left-to-right process as mentioned in the question.\n",
    "\n",
    "The subtree beneath the blood pressure node is the first one that the algorithm will take into account for pruning. The black nodes in the image below show how large this subtree is. The amount enclosed in square brackets represents the majority for each node, goal level was returned at that node, and the number enclosed in round brackets represents the number of errors in the pruning set produced as a result of the predictions this node returned."
   ]
  },
  {
   "cell_type": "markdown",
   "id": "7a2aa99e",
   "metadata": {},
   "source": [
    "The root node of this subtree returns false, resulting in zero errors in the pruning set. For the two leaf nodes of this subtree, Sum of the errors is two(2). The algorithm will prune this subtree as the number of errors resulting from the leaf nodes is more than the number of errors resulting from the root node. In other words, number of errors resulting from root node is less than leaf nodes, so, the algorithm will prune this subtree."
   ]
  },
  {
   "cell_type": "markdown",
   "id": "f88ba877",
   "metadata": {},
   "source": [
    "The structure of the tree as shown in the next cell after the subtree under the BLOOD PRESSURE node is removed from the main tree. "
   ]
  },
  {
   "cell_type": "markdown",
   "id": "01942611",
   "metadata": {},
   "source": [
    "As shown in the above figure, the subtree considered for pruning in the next iteration is highlighted in black color.<br>\n",
    "\n",
    "The root node of this tree returns true as a prediction, and consequently, it results in 3 errors on the pruning set. On the other hand, the number of errors made at each of the leaf nodes of this tree is 0. We will not prune this tree as the number of errors at the leaf nodes is less than the number of errors at the root node. At this point all the non-leaf nodes in\n",
    "the tree have been traversed, the pruning algorithm will stop and the above shown decision tree will be returned by the pruning algorithm."
   ]
  },
  {
   "cell_type": "markdown",
   "id": "ca9bd014",
   "metadata": {},
   "source": [
    "#### Questin 5"
   ]
  },
  {
   "cell_type": "markdown",
   "id": "66efe9d4",
   "metadata": {},
   "source": [
    "##### A) Entropy Calculation for Bootstrap Sample A(EXERCISE, FAMILY)"
   ]
  },
  {
   "cell_type": "code",
   "execution_count": 17,
   "id": "ec37687a",
   "metadata": {},
   "outputs": [
    {
     "name": "stdout",
     "output_type": "stream",
     "text": [
      "Entropy of the data set for target feature Risk = 0.7219  bits\n",
      "Remainder of the Exercise = 0 bits\n",
      "Information gain of Exercise = 0.7219\n",
      "Entropy of the Family = 0.9183  bits\n",
      "Remainder of the Family = 0.551  bits\n",
      "Information gain of Family = 0.17095 ~= 0.171\n"
     ]
    }
   ],
   "source": [
    "Ent_Risk= -((1/5 *np.log2(1/5)) +(4/5*np.log2(4/5)))\n",
    "print(f'Entropy of the data set for target feature Risk =' ,round(Ent_Risk,4),' bits')\n",
    "#Entropy(Exercise) = 0 \n",
    "#As splitting on exercise for daily, weekly ,and rarely generate equal sets, Entropy for exercise is 0.\n",
    "#Rem(Exercise) = 0\n",
    "Ent_Exercise=0\n",
    "Rem_Exercise=0\n",
    "print(f'Remainder of the Exercise = 0 bits')\n",
    "IG_exercise = Ent_Risk-Rem_Exercise\n",
    "print(f'Information gain of Exercise =' ,round(IG_exercise,4))\n",
    "#Also entropy for family==No is 0 as it generates equal sets when split\n",
    "Ent_family= -((1/3 *np.log2(1/3)) +(2/3*np.log2(2/3)))\n",
    "print(f'Entropy of the Family =' ,round(Ent_family,4),' bits')\n",
    "Rem_family = ((3/5)*(Ent_family))\n",
    "print(f'Remainder of the Family =' ,round(Rem_family,4),' bits')\n",
    "IG_family = Ent_Risk-Rem_family\n",
    "print(f'Information gain of Family =' ,round(IG_family,5),'~=',round(IG_family,4))"
   ]
  },
  {
   "cell_type": "markdown",
   "id": "3fc11eb6",
   "metadata": {},
   "source": [
    "EXERCISE feature has the highest information gain of the descriptive features in Bootstrap Sample A"
   ]
  },
  {
   "cell_type": "markdown",
   "id": "a8ca24d1",
   "metadata": {},
   "source": [
    "##### B) Entropy Calculation for Bootstrap Sample B(SMOKER, OBESE)"
   ]
  },
  {
   "cell_type": "code",
   "execution_count": 18,
   "id": "8985c12d",
   "metadata": {},
   "outputs": [
    {
     "name": "stdout",
     "output_type": "stream",
     "text": [
      "Entropy of the data set Risk = 0.7219  bits\n",
      "Entropy of the Smoker = 0  bits\n",
      "Entropy of the Smoker = 0  bits\n",
      "Information gain of Smoker = 0.7219\n",
      "Entropy of the Obese = 0.9183  bits\n",
      "Remainder of the Obese = 0.551  bits\n",
      "Information gain of Obese = 0.171\n"
     ]
    }
   ],
   "source": [
    "#Sample B has the same target feature distribution as Sample A\n",
    "Ent_Risk= -((1/5 *np.log2(1/5)) +(4/5*np.log2(4/5)))\n",
    "print(f'Entropy of the data set Risk =' ,round(Ent_Risk,4),' bits')\n",
    "#As splitting on Smoker generate equal sets, Entropy for smoker is 0.\n",
    "#Remainder(Smoker) = 0\n",
    "Ent_Smoker=0\n",
    "Rem_Smoker=0\n",
    "print(f'Entropy of the Smoker =' ,Ent_Smoker,' bits')\n",
    "print(f'Entropy of the Smoker =' ,Rem_Smoker,' bits')\n",
    "IG_Smoker = Ent_Risk-Rem_Smoker\n",
    "print(f'Information gain of Smoker =' ,round(IG_Smoker,4))\n",
    "#Entropy for Obese=Ture is 0 since this is a pure split.  \n",
    "Ent_obese= -((1/3 *np.log2(1/3)) +(2/3*np.log2(2/3)))\n",
    "print(f'Entropy of the Obese =' ,round(Ent_obese,4),' bits')\n",
    "Rem_obese = ((3/5)*(Ent_obese))\n",
    "print(f'Remainder of the Obese =' ,round(Rem_obese,4),' bits')\n",
    "IG_obese = Ent_Risk-Rem_obese\n",
    "print(f'Information gain of Obese =' ,round(IG_obese,4))"
   ]
  },
  {
   "cell_type": "markdown",
   "id": "1398800b",
   "metadata": {},
   "source": [
    "SMOKER feature has the highest information gain of the descriptive features in Bootstrap Sample B"
   ]
  },
  {
   "cell_type": "markdown",
   "id": "4a2180e9",
   "metadata": {},
   "source": [
    "##### C) Entropy Calculation for Bootstrap Sample C(OBESE, FAMILY)"
   ]
  },
  {
   "cell_type": "code",
   "execution_count": 19,
   "id": "b6e8e7c9",
   "metadata": {},
   "outputs": [
    {
     "name": "stdout",
     "output_type": "stream",
     "text": [
      "Entropy of the data set Risk = 0.971  bits\n",
      "Entropy of Obese = 0.9183  bits\n",
      "Remainder of Obese = 0.551  bits\n",
      "Information gain of Obese = 0.42\n",
      "Entropy of the Family = 1.0\n",
      "Remainder of Family = 0.8  bits\n",
      "Information gain of Family = 0.171\n"
     ]
    }
   ],
   "source": [
    "Ent_Risk= -((2/5 *np.log2(2/5)) +(3/5*np.log2(3/5)))\n",
    "print(f'Entropy of the data set Risk =' ,round(Ent_Risk,4),' bits')\n",
    "#Entropy(ObesEnt_true)is 0 since this is a pure split.\n",
    "Ent_obese= -((1/3 *np.log2(1/3)) +(2/3*np.log2(2/3)))\n",
    "print(f'Entropy of Obese =' ,round(Ent_obese,4),' bits')\n",
    "Rem_obese = ((3/5)*(Ent_obese))\n",
    "print(f'Remainder of Obese =' ,round(Rem_obese,4),' bits')\n",
    "IG_obese = Ent_Risk-Rem_obese\n",
    "print(f'Information gain of Obese =' ,round(IG_obese,4))\n",
    "#Family_Entropy(no) is 0 as there is only one value left . \n",
    "Ent_fam= -((2/4 *np.log2(2/4)) +(2/4*np.log2(2/4)))\n",
    "print(f'Entropy of the Family =' ,round(Ent_fam,4))\n",
    "Rem_fam = ((4/5)*(Ent_fam))\n",
    "print(f'Remainder of Family =' ,round(Rem_fam,4),' bits')\n",
    "IG_fam = Ent_Risk-Rem_fam\n",
    "print(f'Information gain of Family =' ,round(IG_fam,4))"
   ]
  },
  {
   "cell_type": "markdown",
   "id": "0385dc77",
   "metadata": {},
   "source": [
    "OBESE feature has the highest information gain of the descriptive features in Bootstrap Sample C, Obsese will be the root node with the majority target level within the partition: RISK=low and minority as RISK=high (False for low risk as the majority value and true for high risk)"
   ]
  },
  {
   "cell_type": "markdown",
   "id": "5569f80f",
   "metadata": {},
   "source": [
    "**5(b)**\n",
    "\n",
    "For EXERCISE=rarely, SMOKER=false, OBESE=true, FAMILY=yes, the random forest model created above will give\n",
    "\n",
    "Tree1: Exercise -> rarely gives RISK=high(in both entries) and\n",
    "\n",
    "Tree2: Smoke -> false gives RISK=low(in both entries)\n",
    "\n",
    "Tree3: Family -> yes, gives RISK=high(majority is high and one is low)\n",
    "\n",
    "So, looking at the results of the risk here, the majority of them labels RISK as high. <br>\n",
    "\n",
    "**Hence, RISK=high is the prediction that model will return for this query.**"
   ]
  },
  {
   "cell_type": "markdown",
   "id": "108f1451",
   "metadata": {},
   "source": [
    "#### Question 6"
   ]
  },
  {
   "cell_type": "markdown",
   "id": "cf0aac7e",
   "metadata": {},
   "source": [
    "**6(a)** <br>\n",
    "Information gain of these features have to be calculated in order to decide a feature as the root node of the tree."
   ]
  },
  {
   "cell_type": "code",
   "execution_count": 20,
   "id": "5bf27ffa",
   "metadata": {},
   "outputs": [
    {
     "name": "stdout",
     "output_type": "stream",
     "text": [
      "Calculaion of Entropies:\n",
      "Entropy of Cancer_Risk =  1.0  bits\n",
      "Entropy of D1 =  0.9183  bits\n",
      "Entropy of D2 =  0.9183  bits\n",
      "Entropy of D3 =  0.8113  bits\n",
      "Entropy of D4 =  0  bits\n",
      "Entropy of D5 =  0.971  bits\n",
      "Entropy of D6 =  0  bits\n"
     ]
    }
   ],
   "source": [
    "print('Calculaion of Entropies:')\n",
    "Ent_Cancer_Risk=-((3/6 *np.log2(3/6)) +(3/6*np.log2(3/6)))\n",
    "print(f'Entropy of Cancer_Risk = ',round(Ent_Cancer_Risk,4),' bits')\n",
    "Ent_D1=-((2/3 *np.log2(2/3)) +(1/3*np.log2(1/3)))\n",
    "print(f'Entropy of D1 = ',round(Ent_D1,4),' bits')\n",
    "Ent_D2=-((1/3 *np.log2(1/3)) +(2/3*np.log2(2/3)))\n",
    "print(f'Entropy of D2 = ',round(Ent_D2,4),' bits')\n",
    "Ent_D3=-((1/4 *np.log2(1/4)) +(3/4*np.log2(3/4)))\n",
    "print(f'Entropy of D3 = ',round(Ent_D3,4),' bits')\n",
    "Ent_D4=0\n",
    "print(f'Entropy of D4 = ',Ent_D4,' bits')\n",
    "Ent_D5=-((2/5 *np.log2(2/5)) +(3/5*np.log2(3/5)))\n",
    "print(f'Entropy of D5 = ',round(Ent_D5,4),' bits')\n",
    "Ent_D6=0\n",
    "print(f'Entropy of D6 = ',Ent_D6,' bits')"
   ]
  },
  {
   "cell_type": "code",
   "execution_count": 21,
   "id": "4f1ad751",
   "metadata": {},
   "outputs": [
    {
     "name": "stdout",
     "output_type": "stream",
     "text": [
      "Calculation of Remainder:\n",
      "Remainder of Obese =  0.9183  bits\n",
      "Remainder of smoker =  0.5409  bits\n",
      "Remainder of Drink alcohol =  0.8091  bits\n"
     ]
    }
   ],
   "source": [
    "print('Calculation of Remainder:')\n",
    "rem_obese=((3/6)*(Ent_D1) + (3/6)*(Ent_D2))\n",
    "print(f'Remainder of Obese = ',round(rem_obese,4),' bits')\n",
    "rem_smoker=((4/6)*(Ent_D3)+(4/8)*(2/6)*(Ent_D4))\n",
    "print(f'Remainder of smoker = ',round(rem_smoker,4),' bits')\n",
    "rem_drink_alcohol=((1/6)*(Ent_D6) + (5/6)*(Ent_D5))\n",
    "print(f'Remainder of Drink alcohol = ',round(rem_drink_alcohol,4),' bits')\n"
   ]
  },
  {
   "cell_type": "code",
   "execution_count": 22,
   "id": "dcd56caf",
   "metadata": {},
   "outputs": [
    {
     "name": "stdout",
     "output_type": "stream",
     "text": [
      "Calculation of Information Gain:\n",
      "Information Gain of Obese =  0.0817  bits\n",
      "Information Gain of smoker =  0.4591  bits\n",
      "Information Gain of drink alcohol =  0.1909  bits\n"
     ]
    }
   ],
   "source": [
    "print('Calculation of Information Gain:')\n",
    "IG_obese = Ent_Cancer_Risk-rem_obese\n",
    "print(f'Information Gain of Obese = ',round(IG_obese,4),' bits')\n",
    "IG_smoker = Ent_Cancer_Risk-rem_smoker\n",
    "print(f'Information Gain of smoker = ',round(IG_smoker,4),' bits')\n",
    "IG_drink_alcohol = Ent_Cancer_Risk-rem_drink_alcohol\n",
    "print(f'Information Gain of drink alcohol = ',round(IG_drink_alcohol,4),' bits')"
   ]
  },
  {
   "cell_type": "markdown",
   "id": "cbe182a9",
   "metadata": {},
   "source": [
    "we can see that the feature **SMOKER** has the highest information gain.<br>\n",
    "\n",
    "So, the ID3 algorithm will choose this feature as the one to be tested at theroot node of the tree.\n"
   ]
  },
  {
   "cell_type": "markdown",
   "id": "bad68fcc",
   "metadata": {},
   "source": [
    "**6(b)**"
   ]
  },
  {
   "cell_type": "markdown",
   "id": "1a5dcb24",
   "metadata": {},
   "source": [
    "A healthy diet, which includes consuming fruits and vegetables, has been related to lowering the risk of cancer. Furthermore, limiting the amount of alcohol consumption will also reudce the risk of cancer. Therefore, the dataset could be expanded to include attributes that record the patients' alcohol consumption, activity, and diet."
   ]
  },
  {
   "cell_type": "markdown",
   "id": "b88cd94e",
   "metadata": {},
   "source": [
    "#### Question 7"
   ]
  },
  {
   "cell_type": "markdown",
   "id": "d5e69814",
   "metadata": {},
   "source": [
    "**7(a)**\n",
    "In order to consider STUDENT feature better than the existing one,we have to calculate information gain of the STUDENT feature.\n",
    "Given that the Information gain of exisisting root node (age) is 0.247. To consider, STUDENT as alternative to age Information Gain of STUDENT feature should be more than the AGE feature."
   ]
  },
  {
   "cell_type": "code",
   "execution_count": 23,
   "id": "2bc7f416",
   "metadata": {},
   "outputs": [
    {
     "name": "stdout",
     "output_type": "stream",
     "text": [
      "Entropy of the datset Buys =0.9403 bits\n",
      "Remainder of Student =0.7885\n",
      "Information gain of Student =0.1518\n"
     ]
    }
   ],
   "source": [
    "Ent_Buys = -((5/14 *np.log2(5/14)) +(9/14*np.log2(9/14)))\n",
    "print(f'Entropy of the datset Buys ={Ent_Buys:.4f} bits')\n",
    "Rem_student = -(7/14*((4/7*np.log2(4/7))+(3/7*np.log2(3/7)))+(7/14*((6/7*np.log2(6/7))+(1/7*np.log2(1/7)))))\n",
    "print(f'Remainder of Student ={Rem_student:.4f}')\n",
    "IG_student = Ent_Buys-Rem_student\n",
    "print(f'Information gain of Student ={IG_student:.4f}')"
   ]
  },
  {
   "cell_type": "markdown",
   "id": "3582af77",
   "metadata": {},
   "source": [
    "The information gain for STUDENT is 0.1518 which is less then the 0.247 for AGE.\n",
    "Hence, **STUDENT is not a better feature to use at the root node.**"
   ]
  },
  {
   "cell_type": "markdown",
   "id": "70d61deb",
   "metadata": {},
   "source": [
    "**7(b)** <br>\n",
    "There is no need to calculate the Information Gain, as it will come out be 0.9403 (entropy and remiander will come out to be 0)\n",
    "I do not agree with the proposal as ID is just a unique identifier of each row and it is not a independent variable on which target variable is dependent.<br>\n",
    "\n",
    "Splitting data on the ID column does not provide any new information and training data performancme will deterioirate or in other words, because it actually contains no information,the resulting decision tree would be massively overfitted to the training data.Moreover, as ID is a continuous variable, it is almost impossible to divide it depending on the threshold value. We can see that there is no relationship betweeen the target variable and the ID feature. Information gain ratio is designed to solve the limitation of Information gain."
   ]
  },
  {
   "cell_type": "markdown",
   "id": "040acdc3",
   "metadata": {},
   "source": [
    "#### IRIS DATA QUESTION"
   ]
  },
  {
   "cell_type": "code",
   "execution_count": 24,
   "id": "a048fda8",
   "metadata": {},
   "outputs": [],
   "source": [
    "import numpy as np\n",
    "import pandas as pd\n",
    "import matplotlib.pyplot as plt\n",
    "%matplotlib inline\n",
    "import seaborn as sns\n",
    "from sklearn.tree import DecisionTreeClassifier\n",
    "from sklearn.model_selection import train_test_split\n",
    "from sklearn import tree\n",
    "import sklearn\n",
    "from sklearn.metrics import classification_report,confusion_matrix,accuracy_score\n",
    "import warnings\n",
    "warnings.filterwarnings(\"ignore\")#To ignore warnings"
   ]
  },
  {
   "cell_type": "markdown",
   "id": "eef465f0",
   "metadata": {},
   "source": [
    "###### Load Dataset"
   ]
  },
  {
   "cell_type": "code",
   "execution_count": 25,
   "id": "a19083f4",
   "metadata": {},
   "outputs": [],
   "source": [
    "from sklearn.datasets import load_iris\n",
    "iris_df = load_iris()"
   ]
  },
  {
   "cell_type": "markdown",
   "id": "6be23ee8",
   "metadata": {},
   "source": [
    "###### Exploring Dataset"
   ]
  },
  {
   "cell_type": "code",
   "execution_count": 26,
   "id": "9a0485e2",
   "metadata": {},
   "outputs": [
    {
     "name": "stdout",
     "output_type": "stream",
     "text": [
      "Rows, Columns of Training data (105, 2)\n",
      "Rows of Target variable 105\n"
     ]
    }
   ],
   "source": [
    "X = iris_df.data[:, 2:]\n",
    "Y = iris_df.target\n",
    "X_train, X_test, Y_train, Y_test = train_test_split(X, Y, test_size=0.3, random_state=0)\n",
    "print('Rows, Columns of Training data',X_train.shape)\n",
    "print('Rows of Target variable', Y_train.shape[0])"
   ]
  },
  {
   "cell_type": "markdown",
   "id": "67d5f6a8",
   "metadata": {},
   "source": [
    "#### Decision Tree Model"
   ]
  },
  {
   "cell_type": "code",
   "execution_count": 27,
   "id": "113abcc5",
   "metadata": {},
   "outputs": [],
   "source": [
    "Decision_Tree = DecisionTreeClassifier(criterion='gini',min_samples_split=1.0,max_depth=2)\n",
    "Decision_Tree.fit(X_train, Y_train)\n",
    "Y_pred = Decision_Tree.predict(X_test)"
   ]
  },
  {
   "cell_type": "markdown",
   "id": "7f6a0eed",
   "metadata": {},
   "source": [
    "###### Tree using Decision Tree Model"
   ]
  },
  {
   "cell_type": "code",
   "execution_count": 28,
   "id": "fc98cad9",
   "metadata": {},
   "outputs": [
    {
     "data": {
      "image/png": "[encoded data removed]",
      "text/plain": [
       "<Figure size 432x288 with 1 Axes>"
      ]
     },
     "metadata": {
      "needs_background": "light"
     },
     "output_type": "display_data"
    }
   ],
   "source": [
    "tree.plot_tree(Decision_Tree)\n",
    "sns.despine()"
   ]
  },
  {
   "cell_type": "code",
   "execution_count": 29,
   "id": "ee157ce0",
   "metadata": {},
   "outputs": [
    {
     "data": {
      "image/png": "[encoded data removed]",
      "text/plain": [
       "<Figure size 432x288 with 2 Axes>"
      ]
     },
     "metadata": {
      "needs_background": "light"
     },
     "output_type": "display_data"
    }
   ],
   "source": [
    "sklearn.metrics.plot_confusion_matrix(Decision_Tree,X_test,Y_test)\n",
    "sns.despine() #Confusion Matrix"
   ]
  },
  {
   "cell_type": "code",
   "execution_count": 30,
   "id": "90bb12c7",
   "metadata": {},
   "outputs": [
    {
     "name": "stdout",
     "output_type": "stream",
     "text": [
      "Classification report:\n",
      "              precision    recall  f1-score   support\n",
      "\n",
      "           0       1.00      1.00      1.00        16\n",
      "           1       0.00      0.00      0.00        18\n",
      "           2       0.38      1.00      0.55        11\n",
      "\n",
      "    accuracy                           0.60        45\n",
      "   macro avg       0.46      0.67      0.52        45\n",
      "weighted avg       0.45      0.60      0.49        45\n",
      "\n"
     ]
    }
   ],
   "source": [
    "print('Classification report:')\n",
    "print(classification_report(Y_test,Y_pred))"
   ]
  },
  {
   "cell_type": "code",
   "execution_count": 31,
   "id": "de293221",
   "metadata": {},
   "outputs": [
    {
     "name": "stdout",
     "output_type": "stream",
     "text": [
      "Confusion Matrix:\n",
      "[[16  0  0]\n",
      " [ 0  0 18]\n",
      " [ 0  0 11]]\n"
     ]
    }
   ],
   "source": [
    "print('Confusion Matrix:')\n",
    "print(confusion_matrix(Y_test,Y_pred))"
   ]
  },
  {
   "cell_type": "code",
   "execution_count": 32,
   "id": "d84e5576",
   "metadata": {},
   "outputs": [
    {
     "name": "stdout",
     "output_type": "stream",
     "text": [
      "Accuracy Score:\n",
      "0.6\n"
     ]
    }
   ],
   "source": [
    "print('Accuracy Score:')\n",
    "print(accuracy_score(Y_test,Y_pred))"
   ]
  },
  {
   "cell_type": "markdown",
   "id": "d1bbc296",
   "metadata": {},
   "source": [
    "#### Bagging with Decision Tree Classifier"
   ]
  },
  {
   "cell_type": "code",
   "execution_count": 33,
   "id": "23126f78",
   "metadata": {},
   "outputs": [
    {
     "name": "stdout",
     "output_type": "stream",
     "text": [
      "0.9777777777777777\n"
     ]
    }
   ],
   "source": [
    "from sklearn.ensemble import BaggingClassifier\n",
    "bag_Classifier = BaggingClassifier(\n",
    "    DecisionTreeClassifier(random_state=0), n_estimators=3,\n",
    "    max_samples=5, bootstrap=True, random_state=0)\n",
    "bag_Classifier.fit(X_train, Y_train)\n",
    "Y_pred = bag_Classifier.predict(X_test)\n",
    "print(accuracy_score(Y_test, Y_pred))"
   ]
  },
  {
   "cell_type": "code",
   "execution_count": 34,
   "id": "0412dce1",
   "metadata": {},
   "outputs": [
    {
     "data": {
      "image/png": "[encoded data removed]",
      "text/plain": [
       "<Figure size 432x288 with 2 Axes>"
      ]
     },
     "metadata": {
      "needs_background": "light"
     },
     "output_type": "display_data"
    }
   ],
   "source": [
    "sklearn.metrics.plot_confusion_matrix(bag_Classifier,X_test,Y_test)\n",
    "sns.despine() #Confusion Matrix"
   ]
  },
  {
   "cell_type": "code",
   "execution_count": 35,
   "id": "7cfc9416",
   "metadata": {},
   "outputs": [
    {
     "name": "stdout",
     "output_type": "stream",
     "text": [
      "Classification report:\n",
      "              precision    recall  f1-score   support\n",
      "\n",
      "           0       1.00      1.00      1.00        16\n",
      "           1       1.00      0.94      0.97        18\n",
      "           2       0.92      1.00      0.96        11\n",
      "\n",
      "    accuracy                           0.98        45\n",
      "   macro avg       0.97      0.98      0.98        45\n",
      "weighted avg       0.98      0.98      0.98        45\n",
      "\n",
      "Confusion Matrix:\n",
      "[[16  0  0]\n",
      " [ 0 17  1]\n",
      " [ 0  0 11]]\n",
      "Accuracy Score:\n",
      "0.9777777777777777\n"
     ]
    }
   ],
   "source": [
    "print('Classification report:')\n",
    "print(classification_report(Y_test,Y_pred))\n",
    "\n",
    "print('Confusion Matrix:')\n",
    "print(confusion_matrix(Y_test,Y_pred))\n",
    "\n",
    "print('Accuracy Score:')\n",
    "print(accuracy_score(Y_test,Y_pred))"
   ]
  },
  {
   "cell_type": "markdown",
   "id": "fe9a0961",
   "metadata": {},
   "source": [
    "**Bagging on top of Decision Tree Classifier as an ensemble algorithm,The accuracy has increased from 0.6 to 0.97**"
   ]
  },
  {
   "cell_type": "markdown",
   "id": "e85cba7d",
   "metadata": {},
   "source": [
    "#### RandomForestClassifier"
   ]
  },
  {
   "cell_type": "code",
   "execution_count": 36,
   "id": "c66b0cf4",
   "metadata": {},
   "outputs": [
    {
     "data": {
      "text/plain": [
       "0.9333333333333333"
      ]
     },
     "execution_count": 36,
     "metadata": {},
     "output_type": "execute_result"
    }
   ],
   "source": [
    "from sklearn.ensemble import RandomForestClassifier\n",
    "RF_Classifier = RandomForestClassifier(n_estimators=3, max_leaf_nodes=16,random_state=0)\n",
    "RF_Classifier.fit(X_train, Y_train)\n",
    "Y_pred_rf = RF_Classifier.predict(X_test)\n",
    "accuracy_score(Y_test, Y_pred_rf)"
   ]
  },
  {
   "cell_type": "code",
   "execution_count": 37,
   "id": "f95ddcf0",
   "metadata": {},
   "outputs": [
    {
     "data": {
      "image/png": "[encoded data removed]",
      "text/plain": [
       "<Figure size 432x288 with 2 Axes>"
      ]
     },
     "metadata": {
      "needs_background": "light"
     },
     "output_type": "display_data"
    }
   ],
   "source": [
    "sklearn.metrics.plot_confusion_matrix(RF_Classifier,X_test,Y_test)\n",
    "sns.despine() #Confusion Matrix"
   ]
  },
  {
   "cell_type": "code",
   "execution_count": 38,
   "id": "ed3ad8a3",
   "metadata": {},
   "outputs": [
    {
     "name": "stdout",
     "output_type": "stream",
     "text": [
      "Classification report:\n",
      "              precision    recall  f1-score   support\n",
      "\n",
      "           0       1.00      1.00      1.00        16\n",
      "           1       0.89      0.94      0.92        18\n",
      "           2       0.90      0.82      0.86        11\n",
      "\n",
      "    accuracy                           0.93        45\n",
      "   macro avg       0.93      0.92      0.93        45\n",
      "weighted avg       0.93      0.93      0.93        45\n",
      "\n",
      "Confusion Matrifx:\n",
      "[[16  0  0]\n",
      " [ 0 17  1]\n",
      " [ 0  2  9]]\n",
      "Accuracy Score:\n",
      "0.9333333333333333\n"
     ]
    }
   ],
   "source": [
    "print('Classification report:')\n",
    "print(classification_report(Y_test,Y_pred_rf))\n",
    "\n",
    "print('Confusion Matrifx:')\n",
    "print(confusion_matrix(Y_test,Y_pred_rf))\n",
    "\n",
    "print('Accuracy Score:')\n",
    "print(accuracy_score(Y_test,Y_pred_rf))"
   ]
  },
  {
   "cell_type": "markdown",
   "id": "c1c069f8",
   "metadata": {},
   "source": [
    "#### Bagging with Random Forest Classifier"
   ]
  },
  {
   "cell_type": "code",
   "execution_count": 39,
   "id": "2cb0dc83",
   "metadata": {},
   "outputs": [
    {
     "name": "stdout",
     "output_type": "stream",
     "text": [
      "0.8444444444444444\n"
     ]
    }
   ],
   "source": [
    "from sklearn.ensemble import BaggingClassifier\n",
    "bag_Classifier = BaggingClassifier(\n",
    "    RandomForestClassifier(random_state=0), n_estimators=3,\n",
    "    max_samples=5, bootstrap=True, random_state=0)\n",
    "bag_Classifier.fit(X_train, Y_train)\n",
    "Y_pred = bag_Classifier.predict(X_test)\n",
    "print(accuracy_score(Y_test, Y_pred))"
   ]
  },
  {
   "cell_type": "code",
   "execution_count": 40,
   "id": "b15a3be4",
   "metadata": {},
   "outputs": [
    {
     "data": {
      "image/png": "[encoded data removed]",
      "text/plain": [
       "<Figure size 432x288 with 2 Axes>"
      ]
     },
     "metadata": {
      "needs_background": "light"
     },
     "output_type": "display_data"
    }
   ],
   "source": [
    "sklearn.metrics.plot_confusion_matrix(bag_Classifier,X_test,Y_test)\n",
    "sns.despine() #Confusion Matrix"
   ]
  },
  {
   "cell_type": "code",
   "execution_count": 41,
   "id": "0ab04264",
   "metadata": {},
   "outputs": [
    {
     "name": "stdout",
     "output_type": "stream",
     "text": [
      "Classification report:\n",
      "              precision    recall  f1-score   support\n",
      "\n",
      "           0       1.00      1.00      1.00        16\n",
      "           1       1.00      0.61      0.76        18\n",
      "           2       0.61      1.00      0.76        11\n",
      "\n",
      "    accuracy                           0.84        45\n",
      "   macro avg       0.87      0.87      0.84        45\n",
      "weighted avg       0.90      0.84      0.84        45\n",
      "\n",
      "Confusion Matrix:\n",
      "[[16  0  0]\n",
      " [ 0 11  7]\n",
      " [ 0  0 11]]\n",
      "Accuracy Score:\n",
      "0.8444444444444444\n"
     ]
    }
   ],
   "source": [
    "print('Classification report:')\n",
    "print(classification_report(Y_test,Y_pred))\n",
    "\n",
    "print('Confusion Matrix:')\n",
    "print(confusion_matrix(Y_test,Y_pred))\n",
    "\n",
    "print('Accuracy Score:')\n",
    "print(accuracy_score(Y_test,Y_pred))"
   ]
  },
  {
   "cell_type": "markdown",
   "id": "0126c0bd",
   "metadata": {},
   "source": [
    "**With Bagging on top of Random Forest Classifer as ensemble algorithm, the accuracy score of the model has increased significantly to 1 from 0.93**"
   ]
  },
  {
   "cell_type": "markdown",
   "id": "857b2b03",
   "metadata": {},
   "source": [
    "#### AdaBoostClassifier with Decision Tree Classifier"
   ]
  },
  {
   "cell_type": "code",
   "execution_count": 42,
   "id": "f793b43b",
   "metadata": {},
   "outputs": [
    {
     "data": {
      "text/plain": [
       "<Figure size 432x288 with 0 Axes>"
      ]
     },
     "metadata": {},
     "output_type": "display_data"
    }
   ],
   "source": [
    "from sklearn.ensemble import AdaBoostClassifier\n",
    "from sklearn.ensemble import VotingClassifier\n",
    "Ada_classifier = AdaBoostClassifier(\n",
    "    DecisionTreeClassifier(max_depth=1), n_estimators=3,\n",
    "     learning_rate=0.5)\n",
    "Ada_classifier.fit(X_train, Y_train)\n",
    "sns.despine()"
   ]
  },
  {
   "cell_type": "code",
   "execution_count": 43,
   "id": "2a2924ef",
   "metadata": {},
   "outputs": [
    {
     "data": {
      "text/plain": [
       "1.0"
      ]
     },
     "execution_count": 43,
     "metadata": {},
     "output_type": "execute_result"
    }
   ],
   "source": [
    "y_pred_ada = Ada_classifier.predict(X_test)\n",
    "Ada_classifier.score(X_test,y_pred_ada)"
   ]
  },
  {
   "cell_type": "code",
   "execution_count": 44,
   "id": "f694dcaf",
   "metadata": {},
   "outputs": [
    {
     "data": {
      "image/png": "[encoded data removed]",
      "text/plain": [
       "<Figure size 432x288 with 2 Axes>"
      ]
     },
     "metadata": {
      "needs_background": "light"
     },
     "output_type": "display_data"
    }
   ],
   "source": [
    "sklearn.metrics.plot_confusion_matrix(Ada_classifier,X_test,Y_test)\n",
    "sns.despine() #Confusion Matrix"
   ]
  },
  {
   "cell_type": "code",
   "execution_count": 45,
   "id": "65c5beb3",
   "metadata": {},
   "outputs": [
    {
     "name": "stdout",
     "output_type": "stream",
     "text": [
      "Classification report:\n",
      "              precision    recall  f1-score   support\n",
      "\n",
      "           0       1.00      1.00      1.00        16\n",
      "           1       0.82      1.00      0.90        18\n",
      "           2       1.00      0.64      0.78        11\n",
      "\n",
      "    accuracy                           0.91        45\n",
      "   macro avg       0.94      0.88      0.89        45\n",
      "weighted avg       0.93      0.91      0.91        45\n",
      "\n",
      "Confusion Matrix:\n",
      "[[16  0  0]\n",
      " [ 0 18  0]\n",
      " [ 0  4  7]]\n",
      "Accuracy Score:\n",
      "0.9111111111111111\n"
     ]
    }
   ],
   "source": [
    "print('Classification report:')\n",
    "print(classification_report(Y_test,y_pred_ada))\n",
    "\n",
    "print('Confusion Matrix:')\n",
    "print(confusion_matrix(Y_test,y_pred_ada))\n",
    "\n",
    "print('Accuracy Score:')\n",
    "print(accuracy_score(Y_test,y_pred_ada))"
   ]
  },
  {
   "cell_type": "markdown",
   "id": "6d57e26e",
   "metadata": {},
   "source": [
    "**With Adaboost on top of Decision Tree Classifer as ensemble algorithm, the accuracy score of the model has increased significantly to 0.91 from 0.6**"
   ]
  },
  {
   "cell_type": "markdown",
   "id": "5867e85b",
   "metadata": {},
   "source": [
    "#### AdaBoost With Random Forest as Ensemble Model"
   ]
  },
  {
   "cell_type": "code",
   "execution_count": 46,
   "id": "42bd6345",
   "metadata": {},
   "outputs": [
    {
     "data": {
      "text/plain": [
       "0.9555555555555556"
      ]
     },
     "execution_count": 46,
     "metadata": {},
     "output_type": "execute_result"
    }
   ],
   "source": [
    "ada_rf = AdaBoostClassifier(RandomForestClassifier(random_state=0), random_state=0)\n",
    "ada_rf.fit(X_train, Y_train)\n",
    "Y_pred_ada_rf = ada_rf.predict(X_test)\n",
    "accuracy_score(Y_test, Y_pred_ada_rf)"
   ]
  },
  {
   "cell_type": "code",
   "execution_count": 47,
   "id": "49cb6bd5",
   "metadata": {},
   "outputs": [
    {
     "data": {
      "image/png": "[encoded data removed]",
      "text/plain": [
       "<Figure size 432x288 with 2 Axes>"
      ]
     },
     "metadata": {
      "needs_background": "light"
     },
     "output_type": "display_data"
    }
   ],
   "source": [
    "sklearn.metrics.plot_confusion_matrix(ada_rf,X_test,Y_test)\n",
    "sns.despine() #Confusion Matrix"
   ]
  },
  {
   "cell_type": "code",
   "execution_count": 48,
   "id": "8eaa588b",
   "metadata": {},
   "outputs": [
    {
     "name": "stdout",
     "output_type": "stream",
     "text": [
      "Classification report:\n",
      "              precision    recall  f1-score   support\n",
      "\n",
      "           0       1.00      1.00      1.00        16\n",
      "           1       0.94      0.94      0.94        18\n",
      "           2       0.91      0.91      0.91        11\n",
      "\n",
      "    accuracy                           0.96        45\n",
      "   macro avg       0.95      0.95      0.95        45\n",
      "weighted avg       0.96      0.96      0.96        45\n",
      "\n",
      "Confusion Matrix:\n",
      "[[16  0  0]\n",
      " [ 0 17  1]\n",
      " [ 0  1 10]]\n",
      "Accuracy Score:\n",
      "0.9555555555555556\n"
     ]
    }
   ],
   "source": [
    "print('Classification report:')\n",
    "print(classification_report(Y_test,Y_pred_ada_rf))\n",
    "\n",
    "print('Confusion Matrix:')\n",
    "print(confusion_matrix(Y_test,Y_pred_ada_rf))\n",
    "\n",
    "print('Accuracy Score:')\n",
    "print(accuracy_score(Y_test,Y_pred_ada_rf))"
   ]
  },
  {
   "cell_type": "markdown",
   "id": "a395b717",
   "metadata": {},
   "source": [
    "**With Adaboost on top of Decision Tree Classifer as ensemble algorithm, the accuracy score of the model has increased significantly to 1.0 from 0.93**"
   ]
  },
  {
   "cell_type": "markdown",
   "id": "4f311361",
   "metadata": {},
   "source": [
    "#### GradientBoostingClassifier"
   ]
  },
  {
   "cell_type": "code",
   "execution_count": 49,
   "id": "47116271",
   "metadata": {},
   "outputs": [
    {
     "data": {
      "text/plain": [
       "1.0"
      ]
     },
     "execution_count": 49,
     "metadata": {},
     "output_type": "execute_result"
    }
   ],
   "source": [
    "from sklearn.ensemble import GradientBoostingClassifier\n",
    "GB_classifier = GradientBoostingClassifier(n_estimators=3, learning_rate = 0.5, max_features=2, max_depth = 2, random_state = 0)\n",
    "GB_classifier.fit(X_train, Y_train)\n",
    "Y_pred_gb = GB_classifier.predict(X_test)\n",
    "GB_classifier.score(X_test,Y_pred_gb)"
   ]
  },
  {
   "cell_type": "code",
   "execution_count": 50,
   "id": "81f67e1c",
   "metadata": {},
   "outputs": [
    {
     "data": {
      "image/png": "[encoded data removed]",
      "text/plain": [
       "<Figure size 432x288 with 2 Axes>"
      ]
     },
     "metadata": {
      "needs_background": "light"
     },
     "output_type": "display_data"
    }
   ],
   "source": [
    "sklearn.metrics.plot_confusion_matrix(GB_classifier,X_test,Y_test)\n",
    "sns.despine() #Confusion Matrix.\n"
   ]
  },
  {
   "cell_type": "code",
   "execution_count": 51,
   "id": "e8520cd4",
   "metadata": {},
   "outputs": [
    {
     "name": "stdout",
     "output_type": "stream",
     "text": [
      "Classification report:\n",
      "              precision    recall  f1-score   support\n",
      "\n",
      "           0       1.00      1.00      1.00        16\n",
      "           1       1.00      0.94      0.97        18\n",
      "           2       0.92      1.00      0.96        11\n",
      "\n",
      "    accuracy                           0.98        45\n",
      "   macro avg       0.97      0.98      0.98        45\n",
      "weighted avg       0.98      0.98      0.98        45\n",
      "\n",
      "Confusion Matrix:\n",
      "[[16  0  0]\n",
      " [ 0 17  1]\n",
      " [ 0  0 11]]\n",
      "Accuracy Score:\n",
      "0.9777777777777777\n"
     ]
    }
   ],
   "source": [
    "print('Classification report:')\n",
    "print(classification_report(Y_test,Y_pred_gb))\n",
    "\n",
    "print('Confusion Matrix:')\n",
    "print(confusion_matrix(Y_test,Y_pred_gb))\n",
    "\n",
    "print('Accuracy Score:')\n",
    "print(accuracy_score(Y_test,Y_pred_gb))"
   ]
  },
  {
   "cell_type": "markdown",
   "id": "24fbb208",
   "metadata": {},
   "source": [
    "#### LogisticRegression"
   ]
  },
  {
   "cell_type": "code",
   "execution_count": 52,
   "id": "227bd176",
   "metadata": {},
   "outputs": [],
   "source": [
    "from sklearn.linear_model import LogisticRegression\n",
    "logistic=LogisticRegression(random_state=0,max_iter=10)\n",
    "logistic.fit(X_train, Y_train)\n",
    "Y_pred_log = logistic.predict(X_test)"
   ]
  },
  {
   "cell_type": "code",
   "execution_count": 53,
   "id": "f21c3af1",
   "metadata": {},
   "outputs": [
    {
     "data": {
      "image/png": "[encoded data removed]",
      "text/plain": [
       "<Figure size 432x288 with 2 Axes>"
      ]
     },
     "metadata": {
      "needs_background": "light"
     },
     "output_type": "display_data"
    }
   ],
   "source": [
    "sklearn.metrics.plot_confusion_matrix(logistic,X_test,Y_test)\n",
    "sns.despine() #Confusion Matrix.\n"
   ]
  },
  {
   "cell_type": "code",
   "execution_count": 54,
   "id": "81eb4e5c",
   "metadata": {},
   "outputs": [
    {
     "name": "stdout",
     "output_type": "stream",
     "text": [
      "Classification report:\n",
      "              precision    recall  f1-score   support\n",
      "\n",
      "           0       1.00      1.00      1.00        16\n",
      "           1       0.94      0.89      0.91        18\n",
      "           2       0.83      0.91      0.87        11\n",
      "\n",
      "    accuracy                           0.93        45\n",
      "   macro avg       0.92      0.93      0.93        45\n",
      "weighted avg       0.94      0.93      0.93        45\n",
      "\n",
      "Confusion Matrix:\n",
      "[[16  0  0]\n",
      " [ 0 16  2]\n",
      " [ 0  1 10]]\n",
      "Accuracy Score:\n",
      "0.9333333333333333\n"
     ]
    }
   ],
   "source": [
    "print('Classification report:')\n",
    "print(classification_report(Y_test,Y_pred_log))\n",
    "\n",
    "print('Confusion Matrix:')\n",
    "print(confusion_matrix(Y_test,Y_pred_log))\n",
    "\n",
    "print('Accuracy Score:')\n",
    "print(accuracy_score(Y_test,Y_pred_log))"
   ]
  },
  {
   "cell_type": "markdown",
   "id": "26a41134",
   "metadata": {},
   "source": [
    "#### Stacking Ensembling using Logistic Regression and Support Vector Machine"
   ]
  },
  {
   "cell_type": "code",
   "execution_count": 55,
   "id": "2c02dc50",
   "metadata": {},
   "outputs": [],
   "source": [
    "from sklearn.svm import SVC\n",
    "from sklearn.ensemble import StackingClassifier\n",
    "models = [('lr',LogisticRegression(random_state=0)),('svm',SVC(random_state=0))]\n",
    "stacking = StackingClassifier(estimators=models)\n",
    "stacking.fit(X_train, Y_train)\n",
    "Y_pred_stacking = stacking.predict(X_test)"
   ]
  },
  {
   "cell_type": "code",
   "execution_count": 56,
   "id": "6ee3f4f1",
   "metadata": {},
   "outputs": [
    {
     "data": {
      "image/png": "[encoded data removed]",
      "text/plain": [
       "<Figure size 432x288 with 2 Axes>"
      ]
     },
     "metadata": {
      "needs_background": "light"
     },
     "output_type": "display_data"
    }
   ],
   "source": [
    "sklearn.metrics.plot_confusion_matrix(stacking,X_test,Y_test)\n",
    "sns.despine() #Confusion Matrix."
   ]
  },
  {
   "cell_type": "code",
   "execution_count": 57,
   "id": "020a8e3f",
   "metadata": {},
   "outputs": [
    {
     "name": "stdout",
     "output_type": "stream",
     "text": [
      "Classification report:\n",
      "              precision    recall  f1-score   support\n",
      "\n",
      "           0       1.00      1.00      1.00        16\n",
      "           1       1.00      0.94      0.97        18\n",
      "           2       0.92      1.00      0.96        11\n",
      "\n",
      "    accuracy                           0.98        45\n",
      "   macro avg       0.97      0.98      0.98        45\n",
      "weighted avg       0.98      0.98      0.98        45\n",
      "\n",
      "Confusion Matrix:\n",
      "[[16  0  0]\n",
      " [ 0 17  1]\n",
      " [ 0  0 11]]\n",
      "Accuracy Score:\n",
      "0.9777777777777777\n"
     ]
    }
   ],
   "source": [
    "print('Classification report:')\n",
    "print(classification_report(Y_test,Y_pred_stacking))\n",
    "\n",
    "print('Confusion Matrix:')\n",
    "print(confusion_matrix(Y_test,Y_pred_stacking))\n",
    "\n",
    "print('Accuracy Score:')\n",
    "print(accuracy_score(Y_test,Y_pred_stacking))"
   ]
  },
  {
   "cell_type": "markdown",
   "id": "356653c7",
   "metadata": {},
   "source": [
    "**Observations**<br>\n",
    "For Decision Tree Classifer\n",
    "* Single model gave an accuracy of 0.6<br>\n",
    "* Bagging on top of Decision Tree Classifer gave 0.97<br>\n",
    "* Boosting on top of Decision Tree Classifier gave 0.97<br>\n",
    "For Random Forest Classifier\n",
    "* Single model gave an accuracy of 0.93<br>\n",
    "* Bagging on top of Random Forest Classifer gave an accuracy of 1 (It was able to label all the target class properly in the prediction set)<br>\n",
    "* Boosting on top of Random Forest Classifer gave an accuracy of 1 (It was able to label all the target class properly in the prediction set)<br>\n",
    "* For stacking ensembling technique, with Support Vector Machine and Logistic Regression, accuracy score increased from 0.93 to 0.97"
   ]
  },
  {
   "cell_type": "markdown",
   "id": "aa3e311b",
   "metadata": {},
   "source": [
    "**Conclusion**<br>\n",
    "Ensembling is to use multiple learning algorithms to obtain better predictive performance than could be obtained from any of the constituent learning algorithms alone.<br>\n",
    "**There are three types of Ensembling: Boosting, Bagging, and Stacking and I have implemented all of these in this notebook.\n",
    "After Performing Bagging, Boosting, and Stacking on top of underlying machine learning models which in this case are Decision Tree Classifer and Random Forest Classifier improved the overall predictive performance.**"
   ]
  }
 ],
 "metadata": {
  "kernelspec": {
   "display_name": "Python 3 (ipykernel)",
   "language": "python",
   "name": "python3"
  },
  "language_info": {
   "codemirror_mode": {
    "name": "ipython",
    "version": 3
   },
   "file_extension": ".py",
   "mimetype": "text/x-python",
   "name": "python",
   "nbconvert_exporter": "python",
   "pygments_lexer": "ipython3",
   "version": "3.9.13"
  }
 },
 "nbformat": 4,
 "nbformat_minor": 5
}
