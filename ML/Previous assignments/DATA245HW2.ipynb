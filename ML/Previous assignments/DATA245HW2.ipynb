{
 "cells": [
  {
   "cell_type": "code",
   "execution_count": 1,
   "id": "f72ad289",
   "metadata": {},
   "outputs": [],
   "source": [
    "import numpy as np"
   ]
  },
  {
   "cell_type": "markdown",
   "id": "1e24ee07",
   "metadata": {},
   "source": [
    "3(a). Entropy"
   ]
  },
  {
   "cell_type": "code",
   "execution_count": 3,
   "id": "b803fb46",
   "metadata": {},
   "outputs": [
    {
     "name": "stdout",
     "output_type": "stream",
     "text": [
      "Annual Income Entropy = 1.2988 bits\n"
     ]
    }
   ],
   "source": [
    "AnnualIncome_ent= -((2/8 *np.log2(2/8)) +(5/8*np.log2(5/8)) +(1/8*np.log2(1/8)))\n",
    "print(f'Annual Income Entropy = {AnnualIncome_ent:.4f} bits')"
   ]
  },
  {
   "cell_type": "markdown",
   "id": "eb8a5dea",
   "metadata": {},
   "source": [
    "(b). Gini index\n",
    "\n",
    "#Gini Index Target feature being Annual Income\n"
   ]
  },
  {
   "cell_type": "code",
   "execution_count": 6,
   "id": "bc331a92",
   "metadata": {},
   "outputs": [
    {
     "name": "stdout",
     "output_type": "stream",
     "text": [
      "Gini Index  = 0.5312\n"
     ]
    }
   ],
   "source": [
    "GiniIndex= 1-((2/8)**2 +(5/8) **2 + (1/8)**2) \n",
    "print(f'Gini Index  = {GiniIndex:.4f}')"
   ]
  },
  {
   "cell_type": "markdown",
   "id": "0b4286b5",
   "metadata": {},
   "source": [
    "(c)."
   ]
  },
  {
   "cell_type": "markdown",
   "id": "d41e2bca",
   "metadata": {},
   "source": [
    "The Threshold needs to be calculated.\n",
    "\n",
    "The data should be sorted in ascending order of ages.\n",
    "\n",
    "ID AGE ANNUAL INCOME\n",
    "\n",
    "3 18 25K\n",
    "\n",
    "6 24 25K\n",
    "\n",
    "4 28 25K–50K\n",
    "\n",
    "5 37 25K–50K\n",
    "\n",
    "1 39 25K–50K\n",
    "\n",
    "8 40 50K\n",
    "\n",
    "2 50 25K–50K\n",
    "\n",
    "7 52 25K–50K\n",
    "\n",
    "Annual income can be splitted into three ranges:\n",
    "      First threshold : Age (24+28)/2= >26;\n",
    "      Second threshold : Age (40+39)/2= >39.5;\n",
    "      Third threshold : Age 40-50= >45;\n",
    "      from above results we can say that (>26) has the highest information gain and hence the best threshold.\n",
    "      \n",
    "\n",
    "\n"
   ]
  },
  {
   "cell_type": "code",
   "execution_count": 8,
   "id": "e28f50e5",
   "metadata": {},
   "outputs": [
    {
     "name": "stdout",
     "output_type": "stream",
     "text": [
      "E1 Entropy=0\n",
      "E2 Entropy = 0.6500 bits\n",
      "E3 Entropy = 0.9710 bits\n",
      "E4 Entropy = 0.9183 bits\n",
      "E5 Entropy = 1.4591 bits\n",
      "E6 Entropy=0\n",
      "Remainder of E1 & E2 = 0.4875 bits\n",
      "Remainder of E3 & E4=0.9512 bits\n",
      "Remainder of E5 & E6=1.0944 bits\n",
      "E1 E2 information gain =0.8113 bits\n",
      "E3 E4 Information Gain =0.3476 bits\n",
      "E5 E6 Information gain=0.2044 bits\n"
     ]
    }
   ],
   "source": [
    "## overall entropy for the dataset is 1.2988 bits\n",
    "\n",
    "#Entropy\n",
    "print(f'E1 Entropy=0')\n",
    "E2=-((5/6 *np.log2(5/6)) +(1/6*np.log2(1/6)))\n",
    "print(f'E2 Entropy = {E2:.4f} bits')\n",
    "E3=-((2/5 *np.log2(2/5)) +(3/5*np.log2(3/5)))\n",
    "print(f'E3 Entropy = {E3:.4f} bits')\n",
    "E4=-((2/3 *np.log2(2/3)) +(1/3*np.log2(1/3)))\n",
    "print(f'E4 Entropy = {E4:.4f} bits')\n",
    "E5=-((2/6 *np.log2(2/6)) +(3/6*np.log2(3/6))+(1/6 *np.log2(1/6)))\n",
    "print(f'E5 Entropy = {E5:.4f} bits')\n",
    "print(f'E6 Entropy=0')\n",
    "\n",
    "#Remainder\n",
    "remainder_E1E2=((6/8)*(E2) + (2/8)*(0))\n",
    "print(f'Remainder of E1 & E2 = {remainder_E1E2:.4f} bits')\n",
    "remainder_E3E4=((3/8)*(E4) + (5/8)*(E3))\n",
    "print(f'Remainder of E3 & E4={remainder_E3E4:.4f} bits')\n",
    "remainder_E5E6=((2/8)*(0) + (6/8)*(E5))\n",
    "print(f'Remainder of E5 & E6={remainder_E5E6:.4f} bits')\n",
    "\n",
    "#Information Gain\n",
    "ig_E1E2 = 1.2988-remainder_E1E2\n",
    "print(f'E1 E2 information gain ={ig_E1E2:.4f} bits')\n",
    "ig_E3E4 = 1.2988-remainder_E3E4\n",
    "print(f'E3 E4 Information Gain ={ig_E3E4:.4f} bits')\n",
    "ig_E5E6 = 1.2988-remainder_E5E6\n",
    "print(f'E5 E6 Information gain={ig_E5E6:.4f} bits')"
   ]
  },
  {
   "cell_type": "markdown",
   "id": "11c8e7ae",
   "metadata": {},
   "source": [
    "(d). Information gain based on entropy\n"
   ]
  },
  {
   "cell_type": "code",
   "execution_count": 9,
   "id": "e4ccf76b",
   "metadata": {},
   "outputs": [
    {
     "name": "stdout",
     "output_type": "stream",
     "text": [
      "Entropy of Bachelor=0\n",
      "Entropy of HighSchool=1.0000 bits\n",
      "Entropy of Doctrate=0\n",
      "Entropy of Never_Married=0.9183 bits\n",
      "Entropy of Married=0.8113 bits\n",
      "Entropy of Divorced=0\n",
      "Entropy of transport=0\n",
      "Entropy of Professional=0.9183 bits\n",
      "Entropy of Agriculture=1.0000 bits\n",
      "Entropy of Armed Force=0\n",
      "Remainder of Education=0.5000 bits\n",
      "Remainder of marital status=0.7500 bits\n",
      "Remainder of occupation=0.5944 bits\n",
      "Information Gain of Education=0.7988 bits\n",
      "Information Gain of marital status=0.5488 bits\n",
      "Information Gain of occupation=0.7044 bits\n"
     ]
    }
   ],
   "source": [
    "print(f'Entropy of Bachelor=0')\n",
    "entropy_highschool=-((2/4 *np.log2(2/4)) +(2/4*np.log2(2/4)))\n",
    "print(f'Entropy of HighSchool={entropy_highschool:.4f} bits')\n",
    "print(f'Entropy of Doctrate=0')\n",
    "entropy_Never_Married=-((2/3 *np.log2(2/3)) +(1/3*np.log2(1/3)))\n",
    "print(f'Entropy of Never_Married={entropy_Never_Married:.4f} bits')\n",
    "entropy_Married=-((3/4 *np.log2(3/4)) +(1/4*np.log2(1/4)))\n",
    "print(f'Entropy of Married={entropy_Married:.4f} bits')\n",
    "print(f'Entropy of Divorced=0')\n",
    "print(f'Entropy of transport=0')\n",
    "entropy_Professional=-((2/3 *np.log2(2/3)) +(1/3*np.log2(1/3)))\n",
    "print(f'Entropy of Professional={entropy_Professional:.4f} bits')\n",
    "entropy_Agriculture=-((1/2 *np.log2(1/2)) +(1/2*np.log2(1/2)))\n",
    "print(f'Entropy of Agriculture={entropy_Agriculture:.4f} bits')\n",
    "print(f'Entropy of Armed Force=0')\n",
    "\n",
    "##Remainder\n",
    "remainder_Education=((4/8)*(entropy_highschool) + (3/8)*(0)+(1/8)*(0))\n",
    "print(f'Remainder of Education={remainder_Education:.4f} bits')\n",
    "remainder_marital_status=((3/8)*(entropy_Never_Married)+(4/8)*(entropy_Married)+(1/8)*(0))\n",
    "print(f'Remainder of marital status={remainder_marital_status:.4f} bits')\n",
    "remainder_occupation=((2/8)*(0) + (3/8)*(entropy_Professional)+(2/8)*(entropy_Agriculture)+(1/8)*(0))\n",
    "print(f'Remainder of occupation={remainder_occupation:.4f} bits')\n",
    "\n",
    "##Information Gain\n",
    "ig_Education = 1.2988-remainder_Education\n",
    "print(f'Information Gain of Education={ig_Education:.4f} bits')\n",
    "ig_marital_status = 1.2988-remainder_marital_status\n",
    "print(f'Information Gain of marital status={ig_marital_status:.4f} bits')\n",
    "ig_occupation = 1.2988-remainder_occupation\n",
    "print(f'Information Gain of occupation={ig_occupation:.4f} bits')"
   ]
  },
  {
   "cell_type": "markdown",
   "id": "679f2c94",
   "metadata": {},
   "source": [
    "(e). Information gain ratio"
   ]
  },
  {
   "cell_type": "code",
   "execution_count": 10,
   "id": "270d72a3",
   "metadata": {},
   "outputs": [
    {
     "name": "stdout",
     "output_type": "stream",
     "text": [
      "Entropy for Education =1.4056 bits\n",
      "Entropy for Marital Status=1.4056 bits\n",
      "Entropy for Occupation =1.9056 bits\n",
      "Information Gain Ratio of Education =0.5683\n",
      "Information Gain Ratio of Marital Status =0.3904\n",
      "Information Gain Ratio of Occupation =0.3696\n"
     ]
    }
   ],
   "source": [
    "entropy_education= -((4/8 *np.log2(4/8)) +(3/8*np.log2(3/8)) +(1/8*np.log2(1/8)))\n",
    "print(f'Entropy for Education ={entropy_education:.4f} bits')\n",
    "entropy_marital_status= -((4/8 *np.log2(4/8)) +(3/8*np.log2(3/8)) +(1/8*np.log2(1/8)))\n",
    "print(f'Entropy for Marital Status={entropy_marital_status:.4f} bits')\n",
    "entropy_occupation= -((2/8 *np.log2(2/8)) +(3/8*np.log2(3/8)) +(1/8*np.log2(1/8))+(2/8*np.log2(2/8)))\n",
    "print(f'Entropy for Occupation ={entropy_occupation:.4f} bits')\n",
    "infogainratio_education=0.7988/entropy_education\n",
    "infogainratio_ms=0.5488/entropy_marital_status\n",
    "infogainratio_occupation=0.7044/entropy_occupation\n",
    "print(f'Information Gain Ratio of Education ={infogainratio_education:.4f}')\n",
    "print(f'Information Gain Ratio of Marital Status ={infogainratio_ms:.4f}')\n",
    "print(f'Information Gain Ratio of Occupation ={infogainratio_occupation:.4f}')"
   ]
  },
  {
   "cell_type": "markdown",
   "id": "a4b64e18",
   "metadata": {},
   "source": [
    "(f).Information gain using Gini Index"
   ]
  },
  {
   "cell_type": "code",
   "execution_count": 12,
   "id": "81f93204",
   "metadata": {},
   "outputs": [
    {
     "name": "stdout",
     "output_type": "stream",
     "text": [
      "Gini Index of Bachelor=0\n",
      "Gini Index of HighSchool=0.5000 bits\n",
      "Gini Index of Doctrate=0\n",
      "Gini Index of Never_Married=0.4444 bits\n",
      "Gini Index of Married=0.3750 bits\n",
      "Gini Index of Divorced=0\n",
      "Gini Index of transport=0\n",
      "Gini Index of Professional=0.4444 bits\n",
      "Gini Index of Agriculture=0.5000 bits\n",
      "Gini Index of Armed Force=0\n",
      "Remainder of Education=0.2500 bits\n",
      "Remainder of marital status=0.3542 bits\n",
      "Remainder of occupation=0.2917 bits\n",
      "Information Gain of Education=0.2812 bits\n",
      "Information Gain of marital status=0.1770 bits\n",
      "Information Gain of occupation=0.2395 bits\n"
     ]
    }
   ],
   "source": [
    "# GiniIndex for the whole dataset is 0.3512\n",
    "print(f'Gini Index of Bachelor=0')\n",
    "GI_highschool= 1-((2/4)**2 +(2/4) **2)\n",
    "print(f'Gini Index of HighSchool={GI_highschool:.4f} bits')\n",
    "print(f'Gini Index of Doctrate=0')\n",
    "GI_Never_Married=1-((1/3)**2 +(2/3) **2)\n",
    "print(f'Gini Index of Never_Married={GI_Never_Married:.4f} bits')\n",
    "GI_Married=1-((3/4)**2 +(1/4) **2)\n",
    "print(f'Gini Index of Married={GI_Married:.4f} bits')\n",
    "print(f'Gini Index of Divorced=0')\n",
    "print(f'Gini Index of transport=0')\n",
    "GI_Professional=1-((1/3)**2 +(2/3) **2)\n",
    "print(f'Gini Index of Professional={GI_Professional:.4f} bits')\n",
    "GI_Agriculture= 1-((2/4)**2 +(2/4) **2)\n",
    "print(f'Gini Index of Agriculture={GI_Agriculture:.4f} bits')\n",
    "print(f'Gini Index of Armed Force=0')\n",
    "\n",
    "##Remainder\n",
    "Rem_Education=((4/8)*(GI_highschool) + (3/8)*(0)+(1/8)*(0))\n",
    "print(f'Remainder of Education={Rem_Education:.4f} bits')\n",
    "Rem_marital_status=((3/8)*(GI_Never_Married)+(4/8)*(GI_Married)+(1/8)*(0))\n",
    "print(f'Remainder of marital status={Rem_marital_status:.4f} bits')\n",
    "Rem_occupation=((2/8)*(0) + (3/8)*(GI_Professional)+(2/8)*(GI_Agriculture)+(1/8)*(0))\n",
    "print(f'Remainder of occupation={Rem_occupation:.4f} bits')\n",
    "\n",
    "##Information Gain\n",
    "IG_Education = 0.5312-Rem_Education\n",
    "print(f'Information Gain of Education={IG_Education:.4f} bits')\n",
    "IG_marital_status = 0.5312-Rem_marital_status\n",
    "print(f'Information Gain of marital status={IG_marital_status:.4f} bits')\n",
    "IG_occupation = 0.5312-Rem_occupation\n",
    "print(f'Information Gain of occupation={IG_occupation:.4f} bits')\n"
   ]
  },
  {
   "cell_type": "markdown",
   "id": "379e06f8",
   "metadata": {},
   "source": [
    "4.\n",
    "Tree pruning: Identification and removal of subtrees in a decision tree that is likely to be caused by noise or sample variance in the training set. A subtree that has overfitted is pruned and replaced by a leaf node that makes predictions using the majority of the target feature level of the dataset formed by combining all of the nodes of the subtree.\n",
    "\n",
    "The chest pain and blood pressure descriptive characteristics are considered when predicting heart disease, which is a binary target. In order to perform algorithmic pruning, one should start by analyzing the blood pressure tree, since this is a bottom-up, left-to-right process.\n",
    "\n",
    "It is the subtree under the blood pressure node that is considered first by the pruning algorithm. We calculate the majority target level for each node using square brackets, and we calculate the number of pruning set errors resulting from predictions returned by the node within parentheses. A root node in this subtree returns false, causing 0 pruning set errors. The two leaf nodes in this subtree contain two errors. Due to the fact that there are more errors associated with leaf nodes than root nodes, this subtree will be pruned.\n",
    "\n",
    "According to the given dataset, the \"high blood pressure\" error node is true twice, but it is incorrect according to the given dataset. Due to the low blood pressure, there are two false results, so the error rate for the leaf nodes is 2+0 = 2. With regard to the Chest pain subtree and the Blood Pressure node, we can see that the subtree returns false and the Blood Pressure node's error rate is 0. Considering that the leaf node error rate is higher than the root node error rate, the subtree Blood Pressure needs to be trimmed.\n",
    "\n",
    "In the pruning set, three errors occur due to the root node returning true as a prediction. Unlike this tree, each leaf node contains no errors. The leaf nodes of this tree are less likely to contain faults than the root nodes, so trimming is not required. This decision tree will be returned by the pruning algorithm once all non-leaf nodes in the tree have been tested\n",
    "\n",
    "It can be seen that the Chest Pain tree root node predicts true for all cases regardless of whether the dataset indicates true or false, resulting in an error rate of 3. Since each of the leaf nodes is made up of 0 errors, the error rate for leaf nodes will also be 0. A decision tree will not be pruned since the root node has a higher error rate than the lead nodes\n",
    "\n",
    "\n",
    "\n"
   ]
  },
  {
   "cell_type": "markdown",
   "id": "98404f57",
   "metadata": {},
   "source": [
    "5. Sample A"
   ]
  },
  {
   "cell_type": "code",
   "execution_count": 13,
   "id": "e337a51c",
   "metadata": {},
   "outputs": [
    {
     "name": "stdout",
     "output_type": "stream",
     "text": [
      "Entropy of the data set Risk =0.7219 bits\n",
      "Remainder of the Exercise = 0 bits\n",
      "Information gain of Exercise =0.7219\n",
      "Entropy of the Family =0.9183 bits\n",
      "Remainder of the Family =0.5510 bits\n",
      "Information gain of Family =0.1710\n"
     ]
    }
   ],
   "source": [
    "entropy_setrisk= -((1/5 *np.log2(1/5)) +(4/5*np.log2(4/5)))\n",
    "print(f'Entropy of the data set Risk ={entropy_setrisk:.4f} bits')\n",
    "#Entropy(Exercise) = 0 (Since this is a pure split between Daily, Weekly and rarely and hence there is high probability of 1 so 0 entropy)\n",
    "#Rem(Exercise) = 0\n",
    "print(f'Remainder of the Exercise = 0 bits')\n",
    "infogain_exercise = entropy_setrisk-0\n",
    "print(f'Information gain of Exercise ={infogain_exercise:.4f}')\n",
    "#Family_Entropy(no) is 0 since this is a pure split. \n",
    "entropy_family= -((1/3 *np.log2(1/3)) +(2/3*np.log2(2/3)))\n",
    "print(f'Entropy of the Family ={entropy_family:.4f} bits')\n",
    "remainder_family = ((3/5)*(entropy_family))\n",
    "print(f'Remainder of the Family ={remainder_family:.4f} bits')\n",
    "infogain_family = entropy_setrisk-remainder_family\n",
    "print(f'Information gain of Family ={infogain_family:.4f}')"
   ]
  },
  {
   "cell_type": "markdown",
   "id": "0a036372",
   "metadata": {},
   "source": [
    "Sample B"
   ]
  },
  {
   "cell_type": "code",
   "execution_count": 16,
   "id": "7c080717",
   "metadata": {},
   "outputs": [
    {
     "name": "stdout",
     "output_type": "stream",
     "text": [
      "Entropy of the data set Risk =0.7219 bits\n",
      "Remainder of the data set Risk = 0 bits\n",
      "Information gain of Smoker =0.7219\n",
      "Entropy of the Obese =0.9183 bits\n",
      "Remainder of the Obese =0.5510 bits\n",
      "Information gain of Obese =0.1710\n"
     ]
    }
   ],
   "source": [
    "entropy_setrisk= -((1/5 *np.log2(1/5)) +(4/5*np.log2(4/5)))\n",
    "print(f'Entropy of the data set Risk ={entropy_setrisk:.4f} bits')\n",
    "#Entropy(Smoker) = 0 (Since this is a pure split between true and false and hence there is high probability of 1 so 0 entropy)\n",
    "#Remainder(Smoker) = 0\n",
    "print(f'Remainder of the data set Risk = 0 bits')\n",
    "infogain_Smoker = entropy_setrisk-0\n",
    "print(f'Information gain of Smoker ={infogain_Smoker:.4f}')\n",
    "#Entropy(true) is 0 since this is a pure split.  \n",
    "entropy_obese= -((1/3 *np.log2(1/3)) +(2/3*np.log2(2/3)))\n",
    "print(f'Entropy of the Obese ={entropy_obese:.4f} bits')\n",
    "remainder_obese = ((3/5)*(entropy_obese))\n",
    "print(f'Remainder of the Obese ={remainder_obese:.4f} bits')\n",
    "infogain_obese = entropy_setrisk-remainder_obese\n",
    "print(f'Information gain of Obese ={infogain_obese:.4f}')"
   ]
  },
  {
   "cell_type": "markdown",
   "id": "07614287",
   "metadata": {},
   "source": [
    "As the Information gain of Smoker is higher than of Obese, Smoker will be the root node. Also we can observe that splitting the data on Smoker gives pure sets so the decision tree is most efficient."
   ]
  },
  {
   "cell_type": "markdown",
   "id": "5c9ecdfd",
   "metadata": {},
   "source": [
    "Sample C"
   ]
  },
  {
   "cell_type": "code",
   "execution_count": 17,
   "id": "40d01ef5",
   "metadata": {},
   "outputs": [
    {
     "name": "stdout",
     "output_type": "stream",
     "text": [
      "Entropy of the data set Risk =0.7219 bits\n",
      "Entropy of Obese =0.9183 bits\n",
      "Remainder of Obese =0.5510 bits\n",
      "Information gain of Obese =0.1710\n",
      "Entropy of the Family =1.0000 bits\n",
      "Remainder of Family =0.8000 bits\n",
      "Information gain of Family =-0.0781\n"
     ]
    }
   ],
   "source": [
    "entropy_setRisk= -((2/5 *np.log2(2/5)) +(3/5*np.log2(3/5)))\n",
    "print(f'Entropy of the data set Risk ={entropy_setrisk:.4f} bits')\n",
    "#Entropy(Obese_true)is 0 since this is a pure split.\n",
    "entropyset_obese= -((1/3 *np.log2(1/3)) +(2/3*np.log2(2/3)))\n",
    "print(f'Entropy of Obese ={entropy_obese:.4f} bits')\n",
    "remainder_obese = ((3/5)*(entropy_obese))\n",
    "print(f'Remainder of Obese ={remainder_obese:.4f} bits')\n",
    "infogain_obese = entropy_setrisk-remainder_obese\n",
    "print(f'Information gain of Obese ={infogain_obese:.4f}')\n",
    "#Family_Entropy(no) is 0 as there is only one value left . \n",
    "entropy_fam= -((2/4 *np.log2(2/4)) +(2/4*np.log2(2/4)))\n",
    "print(f'Entropy of the Family ={entropy_fam:.4f} bits')\n",
    "remainder_fam = ((4/5)*(entropy_fam))\n",
    "print(f'Remainder of Family ={remainder_fam:.4f} bits')\n",
    "infogain_fam = entropy_setrisk-remainder_fam\n",
    "print(f'Information gain of Family ={infogain_fam:.4f}')"
   ]
  },
  {
   "cell_type": "markdown",
   "id": "a0bdf5b2",
   "metadata": {},
   "source": [
    "information gain of Obese > Family \n",
    "\n",
    "Therefore, obese is the root node."
   ]
  },
  {
   "cell_type": "markdown",
   "id": "1e08e35e",
   "metadata": {},
   "source": [
    "5(b)."
   ]
  },
  {
   "cell_type": "markdown",
   "id": "c6232f53",
   "metadata": {},
   "source": [
    "\n",
    "\n",
    "EXERCISE=rarely, SMOKER=false, OBESE=true, FAMILY=yes\n",
    "\n",
    "If we check this query by Comparing the data set.\n",
    "\n",
    "Exercise = rarely gives risk -> high (in both entries) and\n",
    "\n",
    "Smoke = false gives risk -> low(in both entries)\n",
    "\n",
    "Family = yes, gives risk -> high (majority is high and one is low)\n",
    "\n",
    "As 2/3 resulted in High, the query executed will be high."
   ]
  },
  {
   "cell_type": "markdown",
   "id": "e4b31499",
   "metadata": {},
   "source": [
    "6(a)."
   ]
  },
  {
   "cell_type": "code",
   "execution_count": 20,
   "id": "dec194f5",
   "metadata": {},
   "outputs": [
    {
     "name": "stdout",
     "output_type": "stream",
     "text": [
      "Entropy of Cancer_Risk = 1.0\n",
      "Entropy of D1 = 0.9183 bits\n",
      "Entropy of D2 = 0.9183 bits\n",
      "Entropy of D3 = 0.8113 bits\n",
      "Entropy of D4 = 0\n",
      "Entropy of D5 = 0.9710 bits\n",
      "Entropy of D6 = 0\n",
      "Remainder of Obese = 0.9183 bits\n",
      "Remainder of smoker = 0.5409 bits\n",
      "Remainder of Drink alcohol = 0.8091 bits\n",
      "Information Gain of Obese = 0.0817 bits\n",
      "Information Gain of smoker = 0.4591 bits\n",
      "Information Gain of drink alcohol = 0.1909 bits\n"
     ]
    }
   ],
   "source": [
    "#Here we need to calculate the information gain to find out which descriptive features are selected by the ID3 algorithm.\n",
    "entropy_Cancer_Risk=-((3/6 *np.log2(3/6)) +(3/6*np.log2(3/6)))\n",
    "print(f'Entropy of Cancer_Risk = {entropy_Cancer_Risk}')\n",
    "entropy_D1=-((2/3 *np.log2(2/3)) +(1/3*np.log2(1/3)))\n",
    "print(f'Entropy of D1 = {entropy_D1:.4f} bits')\n",
    "entropy_D2=-((1/3 *np.log2(1/3)) +(2/3*np.log2(2/3)))\n",
    "print(f'Entropy of D2 = {entropy_D2:.4f} bits')\n",
    "entropy_D3=-((1/4 *np.log2(1/4)) +(3/4*np.log2(3/4)))\n",
    "print(f'Entropy of D3 = {entropy_D3:.4f} bits')\n",
    "print(f'Entropy of D4 = 0')\n",
    "entropy_D5=-((2/5 *np.log2(2/5)) +(3/5*np.log2(3/5)))\n",
    "print(f'Entropy of D5 = {entropy_D5:.4f} bits')\n",
    "print(f'Entropy of D6 = 0')\n",
    "remainder_obese=((3/6)*(entropy_D1) + (3/6)*(entropy_D1))\n",
    "print(f'Remainder of Obese = {remainder_obese:.4f} bits')\n",
    "remainder_smoker=((4/6)*(entropy_D3)+(4/8)*(2/6)*(0))\n",
    "print(f'Remainder of smoker = {remainder_smoker:.4f} bits')\n",
    "remainder_drink_alcohol=((1/6)*(0) + (5/6)*(entropy_D5))\n",
    "print(f'Remainder of Drink alcohol = {remainder_drink_alcohol:.4f} bits')\n",
    "infogain_obese = entropy_Cancer_Risk-remainder_obese\n",
    "print(f'Information Gain of Obese = {infogain_obese:.4f} bits')\n",
    "infogain_smoker = entropy_Cancer_Risk-remainder_smoker\n",
    "print(f'Information Gain of smoker = {infogain_smoker:.4f} bits')\n",
    "infogain_drink_alcohol = entropy_Cancer_Risk-remainder_drink_alcohol\n",
    "print(f'Information Gain of drink alcohol = {infogain_drink_alcohol:.4f} bits')"
   ]
  },
  {
   "cell_type": "markdown",
   "id": "cf9855fa",
   "metadata": {},
   "source": [
    "Smoker node has the highest information gain, so the root node is smoker."
   ]
  },
  {
   "cell_type": "markdown",
   "id": "52f9b979",
   "metadata": {},
   "source": [
    "6(b)\n",
    "\n",
    "The Two features that can reduce the Cancer risk is Family History and Physical Exercise.\n",
    "\n",
    "(i)Family History: It comprises of whether the family had a history of cancer, Which generation had cancer and all those details\n",
    "\n",
    "(ii)Physical Exercise: Frequency of the Exercise/Physical activity will play an Key role, It helps to lower the risk."
   ]
  },
  {
   "cell_type": "code",
   "execution_count": 21,
   "id": "82189a6e",
   "metadata": {},
   "outputs": [
    {
     "name": "stdout",
     "output_type": "stream",
     "text": [
      "Entropy of Buys =0.9403 bits\n",
      "Remainder of Student =0.7885\n",
      "Information gain of Student =0.1518\n"
     ]
    }
   ],
   "source": [
    "entropy_Buys = -((5/14 *np.log2(5/14)) +(9/14*np.log2(9/14)))\n",
    "print(f'Entropy of Buys ={entropy_Buys:.4f} bits')\n",
    "remainder_student = -(7/14*((4/7*np.log2(4/7))+(3/7*np.log2(3/7)))+(7/14*((6/7*np.log2(6/7))+(1/7*np.log2(1/7)))))\n",
    "print(f'Remainder of Student ={remainder_student:.4f}')\n",
    "infogain_student = entropy_Buys-remainder_student\n",
    "print(f'Information gain of Student ={infogain_student:.4f}')"
   ]
  },
  {
   "cell_type": "markdown",
   "id": "a0e410cf",
   "metadata": {},
   "source": [
    "Information gain of student < age ;\n",
    "Age feature should be used as root node."
   ]
  },
  {
   "cell_type": "markdown",
   "id": "41092970",
   "metadata": {},
   "source": [
    "7(b) As ID is not a descriptive feature,It cant predict the Target Feature as ID has unique values.\n",
    "\n",
    "We cant Choose ID to Split the dataset as the values are unique, It doesnt provide new information.\n",
    "\n",
    "It is also Continous value, So it will be difficult based on the threshold and it doesnt provide any new Characteristics/Information."
   ]
  },
  {
   "cell_type": "markdown",
   "id": "5e89dd20",
   "metadata": {},
   "source": [
    "# coding assignment"
   ]
  },
  {
   "cell_type": "code",
   "execution_count": 23,
   "id": "e5f5c888",
   "metadata": {},
   "outputs": [],
   "source": [
    "import numpy as np\n",
    "import pandas as pd\n",
    "import matplotlib.pyplot as plt\n",
    "%matplotlib inline\n",
    "import seaborn as sns\n",
    "from sklearn.datasets import load_iris\n",
    "from sklearn.tree import DecisionTreeClassifier\n",
    "from sklearn.model_selection import train_test_split\n",
    "from sklearn import tree\n",
    "from sklearn.metrics import classification_report,confusion_matrix,accuracy_score"
   ]
  },
  {
   "cell_type": "code",
   "execution_count": 24,
   "id": "5d31bc89",
   "metadata": {},
   "outputs": [],
   "source": [
    "df_iris = load_iris()"
   ]
  },
  {
   "cell_type": "code",
   "execution_count": 25,
   "id": "03a939f5",
   "metadata": {},
   "outputs": [
    {
     "name": "stdout",
     "output_type": "stream",
     "text": [
      "(105, 2)\n",
      "(105,)\n"
     ]
    }
   ],
   "source": [
    "X = df_iris.data[:, 2:]\n",
    "y = df_iris.target\n",
    "X_train, X_test, y_train, y_test = train_test_split(X, y, test_size=0.3, random_state=42)\n",
    "print(X_train.shape)\n",
    "print(y_train.shape)"
   ]
  },
  {
   "cell_type": "code",
   "execution_count": 26,
   "id": "1477a3a8",
   "metadata": {},
   "outputs": [
    {
     "data": {
      "image/png": "[encoded data removed]",
      "text/plain": [
       "<Figure size 432x288 with 1 Axes>"
      ]
     },
     "metadata": {
      "needs_background": "light"
     },
     "output_type": "display_data"
    }
   ],
   "source": [
    "D_model = DecisionTreeClassifier(criterion='gini',min_samples_split=1.0,max_depth=2)\n",
    "D_model.fit(X_train, y_train)\n",
    "tree.plot_tree(D_model)\n",
    "y_pred = D_model.predict(X_test)"
   ]
  },
  {
   "cell_type": "code",
   "execution_count": 27,
   "id": "77519384",
   "metadata": {},
   "outputs": [
    {
     "name": "stdout",
     "output_type": "stream",
     "text": [
      "Classification report:               precision    recall  f1-score   support\n",
      "\n",
      "           0       1.00      1.00      1.00        19\n",
      "           1       0.50      1.00      0.67        13\n",
      "           2       0.00      0.00      0.00        13\n",
      "\n",
      "    accuracy                           0.71        45\n",
      "   macro avg       0.50      0.67      0.56        45\n",
      "weighted avg       0.57      0.71      0.61        45\n",
      "\n",
      "Confusion Matrix: [[19  0  0]\n",
      " [ 0 13  0]\n",
      " [ 0 13  0]]\n",
      "Accuracy Score 0.7111111111111111\n"
     ]
    },
    {
     "name": "stderr",
     "output_type": "stream",
     "text": [
      "/opt/anaconda3/lib/python3.9/site-packages/sklearn/metrics/_classification.py:1318: UndefinedMetricWarning: Precision and F-score are ill-defined and being set to 0.0 in labels with no predicted samples. Use `zero_division` parameter to control this behavior.\n",
      "  _warn_prf(average, modifier, msg_start, len(result))\n",
      "/opt/anaconda3/lib/python3.9/site-packages/sklearn/metrics/_classification.py:1318: UndefinedMetricWarning: Precision and F-score are ill-defined and being set to 0.0 in labels with no predicted samples. Use `zero_division` parameter to control this behavior.\n",
      "  _warn_prf(average, modifier, msg_start, len(result))\n",
      "/opt/anaconda3/lib/python3.9/site-packages/sklearn/metrics/_classification.py:1318: UndefinedMetricWarning: Precision and F-score are ill-defined and being set to 0.0 in labels with no predicted samples. Use `zero_division` parameter to control this behavior.\n",
      "  _warn_prf(average, modifier, msg_start, len(result))\n"
     ]
    }
   ],
   "source": [
    "print(f'Classification report: {classification_report(y_test,y_pred)}')\n",
    "print(f'Confusion Matrix: {confusion_matrix(y_test,y_pred)}')\n",
    "print('Accuracy Score',accuracy_score(y_test,y_pred))"
   ]
  },
  {
   "cell_type": "code",
   "execution_count": 28,
   "id": "d5d5fc85",
   "metadata": {},
   "outputs": [
    {
     "name": "stdout",
     "output_type": "stream",
     "text": [
      "0.9555555555555556\n"
     ]
    }
   ],
   "source": [
    "from sklearn.ensemble import BaggingClassifier\n",
    "bagg_clasifier = BaggingClassifier(\n",
    "    DecisionTreeClassifier(random_state=42), n_estimators=3,\n",
    "    max_samples=5, bootstrap=True, random_state=42)\n",
    "bagg_clasifier.fit(X_train, y_train)\n",
    "y_pred = bagg_clasifier.predict(X_test)\n",
    "print(accuracy_score(y_test, y_pred))"
   ]
  },
  {
   "cell_type": "markdown",
   "id": "795077e1",
   "metadata": {},
   "source": [
    "# Random forest classifier"
   ]
  },
  {
   "cell_type": "code",
   "execution_count": 29,
   "id": "d1ba2db5",
   "metadata": {},
   "outputs": [
    {
     "data": {
      "text/plain": [
       "0.9777777777777777"
      ]
     },
     "execution_count": 29,
     "metadata": {},
     "output_type": "execute_result"
    }
   ],
   "source": [
    "from sklearn.ensemble import RandomForestClassifier\n",
    "randomf_model = RandomForestClassifier(n_estimators=3, max_leaf_nodes=16, random_state=42)\n",
    "randomf_model.fit(X_train, y_train)\n",
    "y_pred_randomf = randomf_model.predict(X_test)\n",
    "accuracy_score(y_test, y_pred_randomf)"
   ]
  },
  {
   "cell_type": "code",
   "execution_count": 30,
   "id": "2f4baebc",
   "metadata": {},
   "outputs": [
    {
     "name": "stdout",
     "output_type": "stream",
     "text": [
      "sepal length (cm) 0.0991356374197223\n",
      "sepal width (cm) 0.026347649815575597\n",
      "petal length (cm) 0.4266968256966252\n",
      "petal width (cm) 0.44781988706807696\n"
     ]
    },
    {
     "data": {
      "text/plain": [
       "array([0.09913564, 0.02634765, 0.42669683, 0.44781989])"
      ]
     },
     "execution_count": 30,
     "metadata": {},
     "output_type": "execute_result"
    }
   ],
   "source": [
    "rnd_clf = RandomForestClassifier(n_estimators=500, random_state=40)\n",
    "rnd_clf.fit(df_iris[\"data\"], df_iris[\"target\"])\n",
    "for name, score in zip(df_iris[\"feature_names\"], rnd_clf.feature_importances_):\n",
    "    print(name, score)\n",
    "\n",
    "rnd_clf.feature_importances_"
   ]
  },
  {
   "cell_type": "markdown",
   "id": "861e694f",
   "metadata": {},
   "source": [
    "# Listed color map"
   ]
  },
  {
   "cell_type": "code",
   "execution_count": 31,
   "id": "8d89bf88",
   "metadata": {},
   "outputs": [],
   "source": [
    "from matplotlib.colors import ListedColormap\n",
    "\n",
    "def decision_boundary_plot(clf, X, y, axes=[0.8, 2.45, -1, 1.5], alpha=0.5, contour=True):\n",
    "    x11 = np.linspace(axes[0], axes[1], 100)\n",
    "    x22 = np.linspace(axes[2], axes[3], 100)\n",
    "    x1, x2 = np.meshgrid(x11, x22)\n",
    "    X_new = np.c_[x1.ravel(), x2.ravel()]\n",
    "    y_pred = clf.predict(X_new).reshape(x1.shape)\n",
    "    custom_cmap = ListedColormap(['#98ffff','#98ccff','#9899ff'])\n",
    "    plt.contourf(x1, x2, y_pred, alpha=0.2, cmap=custom_cmap)\n",
    "    if contour:\n",
    "        custom_cmap2 = ListedColormap(['#7d7d58','#4c4c7f','#507d50'])\n",
    "        plt.contour(x1, x2, y_pred, cmap=custom_cmap2, alpha=0.8)\n",
    "    plt.plot(X[:, 0][y==0], X[:, 1][y==0], \"yo\", alpha=alpha)\n",
    "    plt.plot(X[:, 0][y==1], X[:, 1][y==1], \"bs\", alpha=alpha)\n",
    "    plt.axis(axes)\n",
    "    plt.xlabel(r\"$x_1$\", fontsize=18)\n",
    "    plt.ylabel(r\"$x_2$\", fontsize=18, rotation=0)"
   ]
  },
  {
   "cell_type": "code",
   "execution_count": 32,
   "id": "fefc3c74",
   "metadata": {},
   "outputs": [
    {
     "data": {
      "image/png": "[encoded data removed]",
      "text/plain": [
       "<Figure size 720x360 with 2 Axes>"
      ]
     },
     "metadata": {
      "needs_background": "light"
     },
     "output_type": "display_data"
    }
   ],
   "source": [
    "fix, axes = plt.subplots(ncols=2, figsize=(10,5), sharey=True)\n",
    "plt.sca(axes[0])\n",
    "decision_boundary_plot(D_model, X, y)\n",
    "plt.title(\"Decision Tree without Bagging\", fontsize=14)\n",
    "plt.sca(axes[1])\n",
    "decision_boundary_plot(bagg_clasifier, X, y)\n",
    "plt.title(\"Decision Trees with Bagging\", fontsize=14)\n",
    "plt.ylabel(\"\")\n",
    "plt.show()"
   ]
  },
  {
   "cell_type": "markdown",
   "id": "e8374641",
   "metadata": {},
   "source": [
    "# Ada Boost classifier"
   ]
  },
  {
   "cell_type": "code",
   "execution_count": 33,
   "id": "a0351a61",
   "metadata": {},
   "outputs": [
    {
     "data": {
      "text/plain": [
       "AdaBoostClassifier(base_estimator=DecisionTreeClassifier(max_depth=1),\n",
       "                   learning_rate=0.5, n_estimators=3)"
      ]
     },
     "execution_count": 33,
     "metadata": {},
     "output_type": "execute_result"
    }
   ],
   "source": [
    "from sklearn.ensemble import AdaBoostClassifier\n",
    "from sklearn.ensemble import VotingClassifier\n",
    "from sklearn.svm import SVC\n",
    "Adab_model = AdaBoostClassifier(\n",
    "    DecisionTreeClassifier(max_depth=1), n_estimators=3,\n",
    "     learning_rate=0.5)\n",
    "Adab_model.fit(X_train, y_train)"
   ]
  },
  {
   "cell_type": "code",
   "execution_count": 34,
   "id": "91410be9",
   "metadata": {},
   "outputs": [
    {
     "data": {
      "text/plain": [
       "1.0"
      ]
     },
     "execution_count": 34,
     "metadata": {},
     "output_type": "execute_result"
    }
   ],
   "source": [
    "y_pred_adab = Adab_model.predict(X_test)\n",
    "Adab_model.score(X_test,y_pred_adab)"
   ]
  },
  {
   "cell_type": "code",
   "execution_count": 35,
   "id": "8f510006",
   "metadata": {},
   "outputs": [
    {
     "data": {
      "image/png": "[encoded data removed]",
      "text/plain": [
       "<Figure size 432x288 with 1 Axes>"
      ]
     },
     "metadata": {
      "needs_background": "light"
     },
     "output_type": "display_data"
    }
   ],
   "source": [
    "decision_boundary_plot(Adab_model, X, y)"
   ]
  },
  {
   "cell_type": "code",
   "execution_count": 36,
   "id": "9ba3e1b7",
   "metadata": {},
   "outputs": [
    {
     "data": {
      "image/png": "[encoded data removed]",
      "text/plain": [
       "<Figure size 720x288 with 2 Axes>"
      ]
     },
     "metadata": {
      "needs_background": "light"
     },
     "output_type": "display_data"
    }
   ],
   "source": [
    "m = len(X_train)\n",
    "\n",
    "fix, axes = plt.subplots(ncols=2, figsize=(10,4), sharey=True)\n",
    "for subplot, learning_rate in ((0, 1), (1, 0.5)):\n",
    "    sample_weights = np.ones(m)\n",
    "    plt.sca(axes[subplot])\n",
    "    for i in range(5):\n",
    "        svm_clf = SVC(kernel=\"rbf\", C=0.05, gamma=1, random_state=42)\n",
    "        svm_clf.fit(X_train, y_train, sample_weight=sample_weights)\n",
    "        y_pred = svm_clf.predict(X_train)\n",
    "        sample_weights[y_pred != y_train] *= (1 + learning_rate)\n",
    "        decision_boundary_plot(svm_clf, X, y, alpha=0.2)\n",
    "        plt.title(\"learning_rate = {}\".format(learning_rate), fontsize=16)\n",
    "    if subplot == 0:\n",
    "        plt.text(-0.7, -0.65, \"1\", fontsize=14)\n",
    "        plt.text(-0.6, -0.10, \"2\", fontsize=14)\n",
    "        plt.text(-0.5,  0.10, \"3\", fontsize=14)\n",
    "        plt.text(-0.4,  0.55, \"4\", fontsize=14)\n",
    "        plt.text(-0.3,  0.90, \"5\", fontsize=14)\n",
    "    else:\n",
    "        plt.ylabel(\"\")\n",
    "\n",
    "plt.show()"
   ]
  },
  {
   "cell_type": "markdown",
   "id": "ed84470b",
   "metadata": {},
   "source": [
    "# Gradient Boosting Classifier"
   ]
  },
  {
   "cell_type": "code",
   "execution_count": 37,
   "id": "87babd58",
   "metadata": {},
   "outputs": [
    {
     "data": {
      "text/plain": [
       "1.0"
      ]
     },
     "execution_count": 37,
     "metadata": {},
     "output_type": "execute_result"
    }
   ],
   "source": [
    "from sklearn.ensemble import GradientBoostingClassifier\n",
    "gb = GradientBoostingClassifier(n_estimators=3, learning_rate = 0.5, max_features=2, max_depth = 2, random_state = 0)\n",
    "gb.fit(X_train, y_train)\n",
    "y_pred_gb = gb.predict(X_test)\n",
    "gb.score(X_test,y_pred_gb)"
   ]
  },
  {
   "cell_type": "code",
   "execution_count": 38,
   "id": "b3acd4d5",
   "metadata": {},
   "outputs": [
    {
     "data": {
      "image/png": "[encoded data removed]",
      "text/plain": [
       "<Figure size 432x288 with 1 Axes>"
      ]
     },
     "metadata": {
      "needs_background": "light"
     },
     "output_type": "display_data"
    }
   ],
   "source": [
    "decision_boundary_plot(gb,X,y)"
   ]
  },
  {
   "cell_type": "code",
   "execution_count": null,
   "id": "09160f17",
   "metadata": {},
   "outputs": [],
   "source": []
  }
 ],
 "metadata": {
  "kernelspec": {
   "display_name": "Python 3 (ipykernel)",
   "language": "python",
   "name": "python3"
  },
  "language_info": {
   "codemirror_mode": {
    "name": "ipython",
    "version": 3
   },
   "file_extension": ".py",
   "mimetype": "text/x-python",
   "name": "python",
   "nbconvert_exporter": "python",
   "pygments_lexer": "ipython3",
   "version": "3.9.12"
  }
 },
 "nbformat": 4,
 "nbformat_minor": 5
}
