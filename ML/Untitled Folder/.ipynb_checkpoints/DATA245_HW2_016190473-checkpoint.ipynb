{
 "cells": [
  {
   "cell_type": "markdown",
   "id": "730e3ee1",
   "metadata": {},
   "source": [
    "## Dharma Teja Kolluri - 016190473 - HW2"
   ]
  },
  {
   "cell_type": "markdown",
   "id": "a84278df",
   "metadata": {},
   "source": [
    "### Chapter 4, Ex-3"
   ]
  },
  {
   "cell_type": "code",
   "execution_count": 2,
   "id": "64223ebc",
   "metadata": {},
   "outputs": [],
   "source": [
    "import numpy as np\n",
    "import pandas as pd\n",
    "import matplotlib.pyplot as plt\n",
    "%matplotlib inline\n",
    "import seaborn as sns"
   ]
  },
  {
   "cell_type": "markdown",
   "id": "7b0346f4",
   "metadata": {},
   "source": [
    "#### a) Calculate the entropy for this dataset"
   ]
  },
  {
   "cell_type": "markdown",
   "id": "3c20a78b",
   "metadata": {},
   "source": [
    "Ans: To calculte the entropy, we use following formula: -Σp(x)log p(x). From the above question, Age, Education, Maritial status and Occupation are descriptive features whereas Annual income is target feature. From the above formula, p(x) is the probability of each level such as <25k is 2/8, 25k-50k is 5/8 and >50k is 1/8."
   ]
  },
  {
   "cell_type": "code",
   "execution_count": 4,
   "id": "b9aa77d4",
   "metadata": {},
   "outputs": [
    {
     "name": "stdout",
     "output_type": "stream",
     "text": [
      "Entropy of the dataset is  1.2988  bits\n"
     ]
    }
   ],
   "source": [
    "Entropy= -((2/8 *np.log2(2/8)) +(5/8*np.log2(5/8)) +(1/8*np.log2(1/8)))\n",
    "print (\"Entropy of the dataset is \",round(Entropy,4),\" bits\" )"
   ]
  },
  {
   "cell_type": "markdown",
   "id": "937363dd",
   "metadata": {},
   "source": [
    "#### b) Calculate the Gini index for this dataset."
   ]
  },
  {
   "cell_type": "markdown",
   "id": "cd11afa3",
   "metadata": {},
   "source": [
    "Ans: Gini Index can be calculated using the following formula: Σp(x) p(1-x)"
   ]
  },
  {
   "cell_type": "code",
   "execution_count": 8,
   "id": "b62c5378",
   "metadata": {},
   "outputs": [
    {
     "name": "stdout",
     "output_type": "stream",
     "text": [
      "Gini index for the dataset is  0.53125\n"
     ]
    }
   ],
   "source": [
    "gini_index = (((2/8)*(6/8))+ ((5/8)*(3/8))+((1/8)*(7/8)))\n",
    "print(\"Gini index for the dataset is \", gini_index)"
   ]
  },
  {
   "cell_type": "markdown",
   "id": "21c1f463",
   "metadata": {},
   "source": [
    "#### c) When building a decision tree, the easiest way to handle a continuous feature is to define a threshold around which splits will be made. What would be the optimal threshold to split the continuous AGE feature (use information gain based on entropy as the feature selection measure)?\n"
   ]
  },
  {
   "cell_type": "markdown",
   "id": "1566e259",
   "metadata": {},
   "source": [
    "Ans: From the above question, to split the data based on AGE feature, it is best to consider threshold as AGE is continous feature. We need to sort the data first based on the age: \n",
    "\n",
    "ID AGE ANNUAL INCOME\n",
    "\n",
    "3  18    25K\n",
    "\n",
    "6  24    25K\n",
    "\n",
    "4  28   25K–50K\n",
    "\n",
    "5  37   25K–50K\n",
    "\n",
    "1  39   25K–50K\n",
    "\n",
    "8  40    50K\n",
    "\n",
    "2  50   25K–50K+\n",
    "\n",
    "7  52   25K–50K\n",
    "\n",
    "We can split the above data into 3 thresholds such as 1) Age (24+28)/2= >26 (2) (40+39)= >39.5 (3) (40-50)= >45"
   ]
  },
  {
   "cell_type": "code",
   "execution_count": 14,
   "id": "1c008df1",
   "metadata": {},
   "outputs": [
    {
     "name": "stdout",
     "output_type": "stream",
     "text": [
      "Entropy Calculation:\n",
      "E1 Entropy=0\n",
      "E2 Entropy = , 0.65 bits\n",
      "E3 Entropy = , 0.971 bits\n",
      "E4 Entropy = , 0.9183 bits\n",
      "E5 Entropy = , 1.4591 bits\n",
      "E6 Entropy=0\n",
      " \n",
      "Remainder Calculation: \n",
      "Remainder of E1 & E2 =  0.4875 bits\n",
      "Remainder of E3 & E4 =  0.9512 bits\n",
      "Remainder of E5 & E6 =  1.0944 bits\n",
      " \n",
      "Information gain Calculation: \n",
      "E1 E2 information gain =  0.8113 bits\n",
      "E3 E4 information gain =  0.3476 bits\n",
      "E5 E6 information gain =  0.2044 bits\n"
     ]
    }
   ],
   "source": [
    "## Entropy of the overall dataset has been calculated in the above question which is 1.2988\n",
    "\n",
    "print(\"Entropy Calculation:\")\n",
    "print(\"E1 Entropy=0\")\n",
    "E2=-((5/6 *np.log2(5/6)) +(1/6*np.log2(1/6)))\n",
    "print(\"E2 Entropy = ,\", round(E2,4), \"bits\")\n",
    "E3=-((2/5 *np.log2(2/5)) +(3/5*np.log2(3/5)))\n",
    "print(\"E3 Entropy = ,\", round(E3,4), \"bits\")\n",
    "E4=-((2/3 *np.log2(2/3)) +(1/3*np.log2(1/3)))\n",
    "print(\"E4 Entropy = ,\", round(E4,4), \"bits\")\n",
    "E5=-((2/6 *np.log2(2/6)) +(3/6*np.log2(3/6))+(1/6 *np.log2(1/6)))\n",
    "print(\"E5 Entropy = ,\", round(E5,4), \"bits\")\n",
    "print(\"E6 Entropy=0\")\n",
    "print(\" \");\n",
    "print(\"Remainder Calculation: \")\n",
    "rem_E1_E2=((6/8)*(E2) + (2/8)*(0))\n",
    "print(\"Remainder of E1 & E2 = \", round(rem_E1_E2,4), \"bits\")\n",
    "rem_E3_E4=((3/8)*(E4) + (5/8)*(E3))\n",
    "print(\"Remainder of E3 & E4 = \", round(rem_E3_E4,4), \"bits\")\n",
    "rem_E5_E6=((2/8)*(0) + (6/8)*(E5))\n",
    "print(\"Remainder of E5 & E6 = \", round(rem_E5_E6,4), \"bits\")\n",
    "print(\" \");\n",
    "print(\"Information gain Calculation: \")\n",
    "info_gain_E1_E2 = 1.2988-rem_E1_E2\n",
    "print(\"E1 E2 information gain = \",round(info_gain_E1_E2,4), \"bits\")\n",
    "info_gain_E3_E4 = 1.2988-rem_E3_E4\n",
    "print(\"E3 E4 information gain = \",round(info_gain_E3_E4,4), \"bits\")\n",
    "info_gain_E5_E6 = 1.2988-rem_E5_E6\n",
    "print(\"E5 E6 information gain = \",round(info_gain_E5_E6,4), \"bits\")"
   ]
  },
  {
   "cell_type": "markdown",
   "id": "8b4d4fd7",
   "metadata": {},
   "source": [
    "From the above information, we can say that the threshold >26 age has highest information gain."
   ]
  },
  {
   "cell_type": "markdown",
   "id": "5c2a96ca",
   "metadata": {},
   "source": [
    "#### d) Calculate information gain (based on entropy) for the EDUCATION, MARITAL STATUS, and OCCUPATION features."
   ]
  },
  {
   "cell_type": "code",
   "execution_count": 18,
   "id": "644e3c53",
   "metadata": {},
   "outputs": [
    {
     "name": "stdout",
     "output_type": "stream",
     "text": [
      "Entropy  of Education: \n",
      "Entropy of Bachelor=  0\n",
      "Entropy of HighSchool=  1.0 bits\n",
      "Entropy of Doctrate=  0\n",
      " \n",
      "Entropy  of Marital Status: \n",
      "Entropy of Never_Married=  0.9183  bits\n",
      "Entropy of Married=  0.8113  bits\n",
      "Entropy of Divorced=  0\n",
      " \n",
      "Entropy  of Occupation: \n",
      "Entropy of transport=  0\n",
      "Entropy of Professional=  0.9183  bits\n",
      "Entropy of Agriculture= 1.0  bits\n",
      "Entropy of Armed Force=  0\n",
      " \n",
      "Remainder calculation of EDUCATION, MARITAL STATUS, and OCCUPATION features\n",
      "Remainder of Education=  0.5  bits\n",
      "Remainder of marital status= 0.75  bits\n",
      "Remainder of occupation= 0.5944  bits\n",
      " \n",
      "Information Gain based on Entropy: \n",
      "Information Gain of Education= 0.7988  bits\n",
      "Information Gain of marital status= 0.5488  bits\n",
      "Information Gain of occupation= 0.7044  bits\n"
     ]
    }
   ],
   "source": [
    "print(\"Entropy  of Education: \")\n",
    "E_bachelor=0\n",
    "print(\"Entropy of Bachelor= \",E_bachelor)\n",
    "E_highschool=-((2/4 *np.log2(2/4)) +(2/4*np.log2(2/4)))\n",
    "print(\"Entropy of HighSchool= \",round(E_highschool,4), \"bits\")\n",
    "E_doctrate=0\n",
    "print(\"Entropy of Doctrate= \",E_doctrate)\n",
    "print(\" \")\n",
    "print(\"Entropy  of Marital Status: \")\n",
    "E_Never_Married=-((2/3 *np.log2(2/3)) +(1/3*np.log2(1/3)))\n",
    "print(\"Entropy of Never_Married= \" ,round(E_Never_Married,4),\" bits\")\n",
    "E_Married=-((3/4 *np.log2(3/4)) +(1/4*np.log2(1/4)))\n",
    "print(\"Entropy of Married= \" ,round(E_Married,4),\" bits\")\n",
    "E_Divorced=0\n",
    "print(\"Entropy of Divorced= \",E_Divorced)\n",
    "print(\" \")\n",
    "print(\"Entropy  of Occupation: \")\n",
    "E_transport=0\n",
    "print(\"Entropy of transport= \",E_transport)\n",
    "E_Professional=-((2/3 *np.log2(2/3)) +(1/3*np.log2(1/3)))\n",
    "print(\"Entropy of Professional= \" ,round(E_Professional,4),\" bits\")\n",
    "E_Agriculture=-((1/2 *np.log2(1/2)) +(1/2*np.log2(1/2)))\n",
    "print(\"Entropy of Agriculture=\" ,round(E_Agriculture,4),\" bits\")\n",
    "E_ArmedForce=0\n",
    "print(\"Entropy of Armed Force= \",E_ArmedForce)\n",
    "print(\" \")\n",
    "print(\"Remainder calculation of EDUCATION, MARITAL STATUS, and OCCUPATION features\")\n",
    "rem_Edu=((4/8)*(E_highschool) + (3/8)*(E_bachelor)+(1/8)*(E_doctrate))\n",
    "print(\"Remainder of Education= \" ,round(rem_Edu,4),\" bits\")\n",
    "rem_mar_status=((3/8)*(E_Never_Married)+(4/8)*(E_Married)+(1/8)*(E_Divorced))\n",
    "print(\"Remainder of marital status=\" ,round(rem_mar_status,4),\" bits\")\n",
    "rem_occ=((2/8)*(E_transport) + (3/8)*(E_Professional)+(2/8)*(E_Agriculture)+(1/8)*(E_ArmedForce))\n",
    "print(\"Remainder of occupation=\" ,round(rem_occ,4),\" bits\")\n",
    "print(\" \")\n",
    "print(\"Information Gain based on Entropy: \")\n",
    "info_gain_Education = 1.2988-rem_Edu\n",
    "print(\"Information Gain of Education=\" ,round(info_gain_Education,4),\" bits\")\n",
    "info_gain_mar_status = 1.2988-rem_mar_status\n",
    "print(\"Information Gain of marital status=\" ,round(info_gain_mar_status,4),\" bits\")\n",
    "info_gain_occ = 1.2988-rem_occ\n",
    "print(\"Information Gain of occupation=\" ,round(info_gain_occ,4),\" bits\")"
   ]
  },
  {
   "cell_type": "markdown",
   "id": "6ec73e3b",
   "metadata": {},
   "source": [
    "#### e) Calculate the information gain ratio (based on entropy) for EDUCATION, MARITAL STATUS, and OCCUPATION features"
   ]
  },
  {
   "cell_type": "markdown",
   "id": "49940b27",
   "metadata": {},
   "source": [
    "Ans: Information Gain ratio can be calculated with following formula: Information gain/Entropy. Since we already have the values of information gain, we have to calculate the entropy for the whole feature."
   ]
  },
  {
   "cell_type": "code",
   "execution_count": 19,
   "id": "f6be7f8a",
   "metadata": {},
   "outputs": [
    {
     "name": "stdout",
     "output_type": "stream",
     "text": [
      "Entropy Calculation for whole features: \n",
      "Entropy for Education = 1.4056   bits\n",
      "Entropy for Marital Status= 1.4056   bits\n",
      "Entropy for Occupation = 1.9056   bits\n",
      " \n",
      "Information Gain Ratio for Education, Marital Status and Occupation features: \n",
      "Information Gain Ratio of Education = 0.5683\n",
      "Information Gain Ratio of Marital Status = 0.3904\n",
      "Information Gain Ratio of Occupation = 0.3696\n"
     ]
    }
   ],
   "source": [
    "print(\"Entropy Calculation for whole features: \")\n",
    "E_edu= -((4/8 *np.log2(4/8)) +(3/8*np.log2(3/8)) +(1/8*np.log2(1/8)))\n",
    "print(\"Entropy for Education =\" ,round(E_edu,4),\"  bits\")\n",
    "E_mar_status= -((4/8 *np.log2(4/8)) +(3/8*np.log2(3/8)) +(1/8*np.log2(1/8)))\n",
    "print(\"Entropy for Marital Status=\" ,round(E_mar_status,4),\"  bits\")\n",
    "E_occ= -((2/8 *np.log2(2/8)) +(3/8*np.log2(3/8)) +(1/8*np.log2(1/8))+(2/8*np.log2(2/8)))\n",
    "print(\"Entropy for Occupation =\" ,round(E_occ,4),\"  bits\")\n",
    "print(\" \")\n",
    "print(\"Information Gain Ratio for Education, Marital Status and Occupation features: \")\n",
    "info_gain_ratio_edu=round(info_gain_Education,4)/E_edu\n",
    "print(\"Information Gain Ratio of Education =\" ,round(info_gain_ratio_edu,4))\n",
    "info_gain_ratio_mar_status=round(info_gain_mar_status,4)/E_mar_status\n",
    "print(\"Information Gain Ratio of Marital Status =\" ,round(info_gain_ratio_mar_status,4))\n",
    "info_gain_ratio_occ=round(info_gain_occ,4)/E_occ\n",
    "print(\"Information Gain Ratio of Occupation =\" ,round(info_gain_ratio_occ,4))"
   ]
  },
  {
   "cell_type": "markdown",
   "id": "1f019827",
   "metadata": {},
   "source": [
    "#### f) Calculate information gain using the Gini index for the EDUCATION, MARITAL STATUS, and OCCUPATION features."
   ]
  },
  {
   "cell_type": "code",
   "execution_count": 22,
   "id": "87564156",
   "metadata": {},
   "outputs": [
    {
     "name": "stdout",
     "output_type": "stream",
     "text": [
      "Gini Index of Bachelor=0\n",
      "Gini Index of HighSchool= 0.5   bits\n",
      "Gini Index of Doctrate=0\n",
      "Gini Index of Never_Married= 0.4444   bits\n",
      "Gini Index of Married= 0.375   bits\n",
      "Gini Index of Divorced=0\n",
      "Gini Index of transport=0\n",
      "Gini Index of Professional= 0.4444   bits\n",
      "Gini Index of Agriculture= 0.5   bits\n",
      "Gini Index of Armed Force=0\n",
      " \n",
      "Remainder calculation of each feature: \n",
      "Remainder of Education= 0.25  bits\n",
      "Remainder of marital status= 0.3542  bits\n",
      "Remainder of occupation= 0.2917  bits\n",
      " \n",
      "Information gain using the GINI Index for Education, Maritial Status and Occupation: \n",
      "Information Gain of Education= 0.2812  bits\n",
      "Information Gain of marital status= 0.177  bits\n",
      "Information Gain of occupation= 0.2395  bits\n"
     ]
    }
   ],
   "source": [
    "# We know that the GINI Index for the whole data set is 0.53125. We have to calculate the GINI Index for each feature\n",
    "print(\"Gini Index of Bachelor=0\")\n",
    "GI_highschool= ((2/4)*(2/4) +(2/4) *(2/4))\n",
    "print(\"Gini Index of HighSchool=\" ,round(GI_highschool,4),\"  bits\")\n",
    "print(\"Gini Index of Doctrate=0\")\n",
    "GI_Never_Married=((1/3)*(2/3) +(2/3)*(1/3))\n",
    "print(\"Gini Index of Never_Married=\" ,round(GI_Never_Married,4),\"  bits\")\n",
    "GI_Married=((3/4)*(1/4) +(1/4)*(3/4))\n",
    "print(\"Gini Index of Married=\" ,round(GI_Married,4),\"  bits\")\n",
    "print(\"Gini Index of Divorced=0\")\n",
    "print(\"Gini Index of transport=0\")\n",
    "GI_Professional=((1/3)*(2/3) +(2/3)*(1/3))\n",
    "print(\"Gini Index of Professional=\" ,round(GI_Professional,4),\"  bits\")\n",
    "GI_Agriculture= ((2/4)*(2/4) +(2/4)*(2/4))\n",
    "print(\"Gini Index of Agriculture=\" ,round(GI_Agriculture,4),\"  bits\")\n",
    "print(\"Gini Index of Armed Force=0\")\n",
    "print(\" \")\n",
    "print(\"Remainder calculation of each feature: \")\n",
    "rem_edu=((4/8)*(GI_highschool) + (3/8)*(0)+(1/8)*(0))\n",
    "print(\"Remainder of Education=\" ,round(rem_edu,4),\" bits\")\n",
    "rem_mar_status=((3/8)*(GI_Never_Married)+(4/8)*(GI_Married)+(1/8)*(0))\n",
    "print(\"Remainder of marital status=\" ,round(rem_mar_status,4),\" bits\")\n",
    "rem_occ=((2/8)*(0) + (3/8)*(GI_Professional)+(2/8)*(GI_Agriculture)+(1/8)*(0))\n",
    "print(\"Remainder of occupation=\" ,round(rem_occ,4),\" bits\")\n",
    "print(\" \")\n",
    "print(\"Information gain using the GINI Index for Education, Maritial Status and Occupation: \")\n",
    "info_gain_edu = 0.5312-rem_edu\n",
    "print(\"Information Gain of Education=\" ,round(info_gain_edu,4),\" bits\")\n",
    "info_mar_status = 0.5312-rem_mar_status\n",
    "print(\"Information Gain of marital status=\" ,round(info_mar_status,4),\" bits\")\n",
    "info_gain_occ = 0.5312-rem_occ\n",
    "print(\"Information Gain of occupation=\" ,round(info_gain_occ,4),\" bits\")"
   ]
  },
  {
   "cell_type": "markdown",
   "id": "795e7a00",
   "metadata": {},
   "source": [
    "### Exercise 4"
   ]
  },
  {
   "cell_type": "markdown",
   "id": "38f2d40e",
   "metadata": {},
   "source": [
    "Pruning is a technique that will eliminate the nodes that doesn't classify the false return values. In short, this technique will provide the right tree for target true cases by eliminating the false cases.\n",
    "\n",
    "In the question, decision tree is given for heart disease prediction task. The target feature is having the heart disease based upon the features Chest Pain and Blood pressure. It is also given that the algorithm is applied in a bottom-up, left-to-right approach.\n",
    "\n",
    "The section of the decision tree located beneath the node corresponding to blood pressure will be the initial focus of the pruning algorithm. The black nodes in the diagram indicate the extent of this subtree. The values enclosed in square brackets indicate the majority class for each node, with the goal level being reached at that particular node. The figures enclosed in round brackets indicate the number of errors produced in the pruning set as a consequence of the predictions made by each node. The topmost node of this branch returns a negative result, leading to no errors in the pruning set. However, the combined number of errors in the two lower-level nodes of this branch is two. Since the number of errors resulting from the leaf nodes is greater than the number of errors resulting from the root node, the algorithm will perform pruning on this subtree.\n",
    "\n",
    "The decision tree model predicts true at the root node, leading to 3 errors on the pruning set. However, each of the leaf nodes produces zero errors. Due to the low error rate in the leaf nodes, the decision tree will not be pruned, despite the higher error rate at the root node. The algorithm has traversed all the non-leaf nodes in the tree, and the decision tree depicted in the image will be the final result returned by the pruning algorithm."
   ]
  },
  {
   "cell_type": "markdown",
   "id": "270fa2bd",
   "metadata": {},
   "source": [
    "### Exercise 5"
   ]
  },
  {
   "cell_type": "markdown",
   "id": "78e38eba",
   "metadata": {},
   "source": [
    "#### a) \n",
    "#### Information Gain calculation for Bootstrap Sample A <br>\n",
    "In this Data set, we can observe that the entropy of exercise is 0 as the values in Exercise generate the equal sets. So Remainder value is also 0 for Exercise feature. In Family feature, value 'No' has equal sets which means that the entropy is 0 for that value as well."
   ]
  },
  {
   "cell_type": "code",
   "execution_count": 6,
   "id": "9e71877c",
   "metadata": {},
   "outputs": [
    {
     "name": "stdout",
     "output_type": "stream",
     "text": [
      "Entropy of the Sample A data set for target feature Risk =  0.7219  bits\n",
      "Entropy of the Exercise is  0  bits\n",
      "Remainder of the Exercise =  0  bits\n",
      "Information gain of Exercise = 0.7219\n",
      " \n",
      "Entropy of the Family =  0.9183  bits\n",
      "Remainder of the Family = 0.551  bits\n",
      "Information gain of Family =  0.171\n"
     ]
    }
   ],
   "source": [
    "E_Risk= -((1/5 *np.log2(1/5)) +(4/5*np.log2(4/5)))\n",
    "print(\"Entropy of the Sample A data set for target feature Risk = \",round(E_Risk,4),\" bits\")\n",
    "E_exer=0\n",
    "rem_exer=0\n",
    "print(\"Entropy of the Exercise is \",E_exer, \" bits\")\n",
    "print(\"Remainder of the Exercise = \",rem_exer,\" bits\")\n",
    "info_gain_exer = E_Risk-rem_exer\n",
    "print(\"Information gain of Exercise =\" ,round(info_gain_exer,4))\n",
    "print(\" \")\n",
    "E_family= -((1/3 *np.log2(1/3)) +(2/3*np.log2(2/3)))\n",
    "print(\"Entropy of the Family = \" ,round(E_family,4),\" bits\")\n",
    "rem_family = ((3/5)*(E_family))\n",
    "print(\"Remainder of the Family =\" ,round(rem_family,4),\" bits\")\n",
    "info_gain_family = E_Risk-rem_family\n",
    "print(\"Information gain of Family = \" ,round(info_gain_family,4))"
   ]
  },
  {
   "cell_type": "markdown",
   "id": "cbf13647",
   "metadata": {},
   "source": [
    "As we can see that Information gain of Exercise is 0.7219 which is greater than the information gain of Family. "
   ]
  },
  {
   "cell_type": "markdown",
   "id": "5092cf2f",
   "metadata": {},
   "source": [
    "#### Information Gain calculation for Bootstrap Sample B <br>\n",
    "In this Data set, we can observe that the entropy of Smoker is 0 as the values in Exercise generate the equal sets. So Remainder value is also 0 for Smoker feature. In Obese feature, value 'true' has equal sets which means that the entropy is 0 for that value as well. So we will calculate entropy of 'False' values from Obese feature"
   ]
  },
  {
   "cell_type": "code",
   "execution_count": 8,
   "id": "c3b878ed",
   "metadata": {},
   "outputs": [
    {
     "name": "stdout",
     "output_type": "stream",
     "text": [
      "Entropy of the data set Risk = 0.7219  bits\n",
      "Entropy of the Smoker = 0  bits\n",
      "Entropy of the Smoker = 0  bits\n",
      "Information gain of Smoker = 0.7219\n",
      " \n",
      "Entropy of the Obese = 0.9183  bits\n",
      "Remainder of the Obese = 0.551  bits\n",
      "Information gain of Obese = 0.171\n"
     ]
    }
   ],
   "source": [
    "E_Risk= -((1/5 *np.log2(1/5)) +(4/5*np.log2(4/5)))\n",
    "print(\"Entropy of the data set Risk =\" ,round(E_Risk,4),\" bits\")\n",
    "E_Smoker=0\n",
    "Rem_Smoker=0\n",
    "print(\"Entropy of the Smoker =\" ,E_Smoker,\" bits\")\n",
    "print(f\"Entropy of the Smoker =\" ,Rem_Smoker,\" bits\")\n",
    "info_gain_Smoker = E_Risk-Rem_Smoker\n",
    "print(\"Information gain of Smoker =\" ,round(info_gain_Smoker,4))  \n",
    "print(\" \")\n",
    "E_obese= -((1/3 *np.log2(1/3)) +(2/3*np.log2(2/3)))\n",
    "print(\"Entropy of the Obese =\" ,round(E_obese,4),\" bits\")\n",
    "Rem_obese = ((3/5)*(E_obese))\n",
    "print(\"Remainder of the Obese =\" ,round(Rem_obese,4),\" bits\")\n",
    "info_gain_obese = E_Risk-Rem_obese\n",
    "print(\"Information gain of Obese =\" ,round(info_gain_obese,4))"
   ]
  },
  {
   "cell_type": "markdown",
   "id": "75e7351e",
   "metadata": {},
   "source": [
    "As we can see that Information gain of Smoker is 0.7219 which is greater than the information gain of Obese."
   ]
  },
  {
   "cell_type": "markdown",
   "id": "2aea4b76",
   "metadata": {},
   "source": [
    "#### Information gain calculation for Bootstrap Sample C"
   ]
  },
  {
   "cell_type": "markdown",
   "id": "0f55f28c",
   "metadata": {},
   "source": [
    "In this data set, we can observe the true values for Obese gives Risk as high which can be termed as Entropy value 0. And for the value of no in Family , the risk is high which is only one set of value."
   ]
  },
  {
   "cell_type": "code",
   "execution_count": 10,
   "id": "dd404809",
   "metadata": {},
   "outputs": [
    {
     "name": "stdout",
     "output_type": "stream",
     "text": [
      "Entropy of the data set Risk = 0.971  bits\n",
      "Entropy of Obese = 0.9183  bits\n",
      "Remainder of Obese = 0.551  bits\n",
      "Information gain of Obese = 0.42\n",
      "\n",
      "Entropy of the Family = 1.0\n",
      "Remainder of Family = 0.8  bits\n",
      "Information gain of Family = 0.171\n"
     ]
    }
   ],
   "source": [
    "E_Risk= -((2/5 *np.log2(2/5)) +(3/5*np.log2(3/5)))\n",
    "print(\"Entropy of the data set Risk =\" ,round(E_Risk,4),\" bits\")\n",
    "E_obese= -((1/3 *np.log2(1/3)) +(2/3*np.log2(2/3)))\n",
    "print(\"Entropy of Obese =\" ,round(E_obese,4),\" bits\")\n",
    "Rem_obese = ((3/5)*(E_obese))\n",
    "print(\"Remainder of Obese =\" ,round(Rem_obese,4),\" bits\")\n",
    "info_gain_obese = E_Risk-Rem_obese\n",
    "print(\"Information gain of Obese =\" ,round(info_gain_obese,4))\n",
    "print(\"\")\n",
    "E_fam= -((2/4 *np.log2(2/4)) +(2/4*np.log2(2/4)))\n",
    "print(\"Entropy of the Family =\" ,round(E_fam,4))\n",
    "Rem_family = ((4/5)*(E_fam))\n",
    "print(\"Remainder of Family =\" ,round(Rem_family,4),\" bits\")\n",
    "info_gain_family = E_Risk-Rem_family\n",
    "print(\"Information gain of Family =\" ,round(info_gain_family,4))"
   ]
  },
  {
   "cell_type": "markdown",
   "id": "e69f5af5",
   "metadata": {},
   "source": [
    "As we can see that Information gain of Obese is 0.42 which is greater than the information gain of Family."
   ]
  },
  {
   "cell_type": "markdown",
   "id": "fa882da6",
   "metadata": {},
   "source": [
    "#### b)"
   ]
  },
  {
   "cell_type": "markdown",
   "id": "98081b0e",
   "metadata": {},
   "source": [
    "EXERCISE=rarely, SMOKER=false, OBESE=true, FAMILY=yes\n",
    "\n",
    "From the given data set, \n",
    "If Exercie is 'rarely', Risk is 'High' in both cases.\n",
    "If Smoker is 'false', Risk is 'Low' in both cases.\n",
    "If Obese is 'true', Risk is 'High' in both cases.\n",
    "If Family is 'yes', Risk is 'High' in two cases and 'Low' in one case\n",
    "\n",
    "From the above results, it is highly likely to get the Risk as 'High' for the above values."
   ]
  },
  {
   "cell_type": "markdown",
   "id": "4594ac67",
   "metadata": {},
   "source": [
    "### Exercise 6"
   ]
  },
  {
   "cell_type": "markdown",
   "id": "0cc20fb3",
   "metadata": {},
   "source": [
    "#### a) Which of the descriptive features will the ID3 decision tree induction algorithm choose as the feature for the root node of the decision tree?"
   ]
  },
  {
   "cell_type": "markdown",
   "id": "bcf8441f",
   "metadata": {},
   "source": [
    "Ans: Root node should be the feature that has highest information gain. So we need to find the highest information gain for the features Obese, Smoker and Drinks Alcohol"
   ]
  },
  {
   "cell_type": "code",
   "execution_count": 3,
   "id": "2718f6c9",
   "metadata": {},
   "outputs": [
    {
     "name": "stdout",
     "output_type": "stream",
     "text": [
      "Entropy Values:\n",
      "Entropy of Cancer_Risk =  1.0  bits\n",
      "Entropy of Obese for True value =  0.9183  bits\n",
      "Entropy of Obese for False value =  0.9183  bits\n",
      "Entropy of Smoker true value =  0.8113  bits\n",
      "Entropy of Smoker false value =  0  bits\n",
      "Entropy of Alcohol true value =  0.971  bits\n",
      "Entropy of Alcohol false value =  0  bits\n",
      "\n",
      "Remainder values: \n",
      "Remainder of Obese =  0.9183  bits\n",
      "Remainder of smoker =  0.5409  bits\n",
      "Remainder of Drink alcohol =  0.8091  bits\n",
      " \n",
      "Information Gain values:\n",
      "Information Gain of Obese =  0.0817  bits\n",
      "Information Gain of smoker =  0.4591  bits\n",
      "Information Gain of drink alcohol =  0.1909  bits\n"
     ]
    }
   ],
   "source": [
    "print(\"Entropy Values:\")\n",
    "E_risk=-((3/6 *np.log2(3/6)) +(3/6*np.log2(3/6)))\n",
    "print(\"Entropy of Cancer_Risk = \",round(E_risk,4),\" bits\")\n",
    "E_obese_true=-((2/3 *np.log2(2/3)) +(1/3*np.log2(1/3)))\n",
    "print(\"Entropy of Obese for True value = \",round(E_obese_true,4),\" bits\")\n",
    "E_obese_false=-((1/3 *np.log2(1/3)) +(2/3*np.log2(2/3)))\n",
    "print(\"Entropy of Obese for False value = \",round(E_obese_false,4),\" bits\")\n",
    "E_smoker_true=-((1/4 *np.log2(1/4)) +(3/4*np.log2(3/4)))\n",
    "print(\"Entropy of Smoker true value = \",round(E_smoker_true,4),\" bits\")\n",
    "E_smoker_false=0\n",
    "print(\"Entropy of Smoker false value = \",round(E_smoker_false,4),\" bits\")\n",
    "E_alco_true=-((2/5 *np.log2(2/5)) +(3/5*np.log2(3/5)))\n",
    "print(\"Entropy of Alcohol true value = \",round(E_alco_true,4),\" bits\")\n",
    "E_alco_false=0\n",
    "print(f\"Entropy of Alcohol false value = \",E_alco_false,\" bits\")\n",
    "print(\"\")\n",
    "print(\"Remainder values: \")\n",
    "rem_obese=((3/6)*(E_obese_true) + (3/6)*(E_obese_false))\n",
    "print(\"Remainder of Obese = \",round(rem_obese,4),\" bits\")\n",
    "rem_smoker=((4/6)*(E_smoker_true)+(2/6)*(E_smoker_false))\n",
    "print(\"Remainder of smoker = \",round(rem_smoker,4),\" bits\")\n",
    "rem_alco=((1/6)*(E_alco_false) + (5/6)*(E_alco_true))\n",
    "print(\"Remainder of Drink alcohol = \",round(rem_alco,4),\" bits\")\n",
    "print(\" \")\n",
    "print(\"Information Gain values:\")\n",
    "info_gain_obese = E_risk-rem_obese\n",
    "print(\"Information Gain of Obese = \",round(info_gain_obese,4),\" bits\")\n",
    "info_gain_smoker = E_risk-rem_smoker\n",
    "print(\"Information Gain of smoker = \",round(info_gain_smoker,4),\" bits\")\n",
    "info_gain_alco = E_risk-rem_alco\n",
    "print(f\"Information Gain of drink alcohol = \",round(info_gain_alco,4),\" bits\")"
   ]
  },
  {
   "cell_type": "markdown",
   "id": "64121413",
   "metadata": {},
   "source": [
    "From the above Information gain values, we can clearly observe that the information gain value of Smoker feature is the highest and it should be used as root node for the decision tree."
   ]
  },
  {
   "cell_type": "markdown",
   "id": "03735711",
   "metadata": {},
   "source": [
    "#### b)"
   ]
  },
  {
   "cell_type": "markdown",
   "id": "ad378814",
   "metadata": {},
   "source": [
    "Ans: Some of the features that can be included in this dataset to indicate the Cancer risk could be as follows: <br>\n",
    "i) Alcohol consumption period such as daily, weekly or occassionally. <br>\n",
    "ii) Regular health check ups like if they are taking any check ups once in a year or in 6 months or none. <br>\n",
    "iii) Physical Exercise could be the potential feature to know the frequency of the the exercises."
   ]
  },
  {
   "cell_type": "markdown",
   "id": "b0e86813",
   "metadata": {},
   "source": [
    "### Exercise 7"
   ]
  },
  {
   "cell_type": "markdown",
   "id": "14000900",
   "metadata": {},
   "source": [
    "#### a) "
   ]
  },
  {
   "cell_type": "markdown",
   "id": "47f9a0b8",
   "metadata": {},
   "source": [
    "Ans: From the question, we can see that the root node for the tree is AGE. But if the Student feature should to be made as Root node, then the information gain should be greater for Student feature than the AGE feature which is 0.247. That means we have to find out the information gain for AGE and STUDENT feature to find out which is better feature as root node. "
   ]
  },
  {
   "cell_type": "code",
   "execution_count": 6,
   "id": "c90cb407",
   "metadata": {},
   "outputs": [
    {
     "name": "stdout",
     "output_type": "stream",
     "text": [
      "Entropy of the datset Buys =  0.9403 bits\n",
      "Entropy of the dataset Student for no value is  0.9852  bits\n",
      "Entropy of the dataset Student for yes value is  0.5917  bits\n",
      "Remainder of Student =  0.7885\n",
      "Information gain of Student =  0.1518\n"
     ]
    }
   ],
   "source": [
    "E_Buys = -((5/14 *np.log2(5/14)) +(9/14*np.log2(9/14)))\n",
    "print(\"Entropy of the datset Buys = \", round(E_Buys,4), \"bits\")\n",
    "E_stud_no = -((4/7*np.log2(4/7))+(3/7*np.log2(3/7)))\n",
    "print(\"Entropy of the dataset Student for no value is \", round(E_stud_no,4),\" bits\")\n",
    "E_stud_yes = -((6/7*np.log2(6/7))+(1/7*np.log2(1/7)))\n",
    "print(\"Entropy of the dataset Student for yes value is \", round(E_stud_yes,4),\" bits\")\n",
    "Rem_student = (7/14*(E_stud_no))+(7/14*(E_stud_yes))\n",
    "print(\"Remainder of Student = \", round(Rem_student,4))\n",
    "info_gain_student = E_Buys-Rem_student\n",
    "print(\"Information gain of Student = \",round(info_gain_student,4))"
   ]
  },
  {
   "cell_type": "markdown",
   "id": "4b9f4361",
   "metadata": {},
   "source": [
    "Since the value of information gain for student is 0.1518 which is less than AGE information gain, it is not advised to replace STUDENT feature as root node for AGE feature."
   ]
  },
  {
   "cell_type": "markdown",
   "id": "8095ac90",
   "metadata": {},
   "source": [
    "#### b)"
   ]
  },
  {
   "cell_type": "markdown",
   "id": "65a29070",
   "metadata": {},
   "source": [
    "Ans: We cannot consider ID as a descriptive field as it is used only to represent the rows with unique continous numbers. And also it is not useful to calculate the entropy or information gain as each id has each value of target feature. As it is continous value, it is not possible to divide it into threshold value."
   ]
  },
  {
   "cell_type": "markdown",
   "id": "966445d4",
   "metadata": {},
   "source": [
    "### Coding Assignment"
   ]
  },
  {
   "cell_type": "code",
   "execution_count": 14,
   "id": "278493c0",
   "metadata": {},
   "outputs": [],
   "source": [
    "import numpy as np\n",
    "import pandas as pd\n",
    "import matplotlib.pyplot as plt\n",
    "%matplotlib inline\n",
    "import seaborn as sns \n",
    "from sklearn.tree import DecisionTreeClassifier\n",
    "from sklearn.model_selection import train_test_split\n",
    "from sklearn import tree\n",
    "import sklearn\n",
    "from sklearn.metrics import classification_report,confusion_matrix,accuracy_score\n",
    "import warnings\n",
    "warnings.filterwarnings(\"ignore\")#To ignore warnings\n",
    "import graphviz\n",
    "from sklearn.ensemble import BaggingClassifier\n",
    "from sklearn.ensemble import AdaBoostClassifier, GradientBoostingClassifier\n",
    "from mlxtend.classifier import EnsembleVoteClassifier\n",
    "from xgboost import XGBClassifier\n",
    "from sklearn.ensemble import RandomForestClassifier\n",
    "from sklearn.ensemble import StackingClassifier\n",
    "from sklearn.linear_model import LogisticRegression"
   ]
  },
  {
   "cell_type": "code",
   "execution_count": 4,
   "id": "54a32764",
   "metadata": {},
   "outputs": [],
   "source": [
    "from sklearn.datasets import load_iris\n",
    "data_iris = load_iris()"
   ]
  },
  {
   "cell_type": "markdown",
   "id": "93832616",
   "metadata": {},
   "source": [
    "### Data Exploration"
   ]
  },
  {
   "cell_type": "code",
   "execution_count": 5,
   "id": "5eda7164",
   "metadata": {},
   "outputs": [
    {
     "data": {
      "text/plain": [
       "['sepal length (cm)',\n",
       " 'sepal width (cm)',\n",
       " 'petal length (cm)',\n",
       " 'petal width (cm)']"
      ]
     },
     "execution_count": 5,
     "metadata": {},
     "output_type": "execute_result"
    }
   ],
   "source": [
    "data_iris.feature_names"
   ]
  },
  {
   "cell_type": "code",
   "execution_count": 6,
   "id": "23d0cea0",
   "metadata": {},
   "outputs": [
    {
     "data": {
      "text/plain": [
       "array(['setosa', 'versicolor', 'virginica'], dtype='<U10')"
      ]
     },
     "execution_count": 6,
     "metadata": {},
     "output_type": "execute_result"
    }
   ],
   "source": [
    "data_iris.target_names"
   ]
  },
  {
   "cell_type": "code",
   "execution_count": 7,
   "id": "56b82d36",
   "metadata": {},
   "outputs": [
    {
     "name": "stdout",
     "output_type": "stream",
     "text": [
      "Rows, Columns of Training data (105, 2)\n",
      "Rows of Target variable 105\n"
     ]
    }
   ],
   "source": [
    "X = data_iris.data[:, 2:]\n",
    "Y = data_iris.target\n",
    "X_train, X_test, Y_train, Y_test = train_test_split(X, Y, test_size=0.3, random_state=42)\n",
    "print(\"Rows, Columns of Training data\",X_train.shape)\n",
    "print(\"Rows of Target variable\", Y_train.shape[0])"
   ]
  },
  {
   "cell_type": "markdown",
   "id": "8c5992e5",
   "metadata": {},
   "source": [
    "### Decision Tree Classification"
   ]
  },
  {
   "cell_type": "code",
   "execution_count": 8,
   "id": "7fd967f9",
   "metadata": {},
   "outputs": [
    {
     "data": {
      "text/plain": [
       "[Text(0.5, 0.75, 'X[1] <= 0.8\\ngini = 0.664\\nsamples = 105\\nvalue = [31, 37, 37]'),\n",
       " Text(0.25, 0.25, 'gini = 0.0\\nsamples = 31\\nvalue = [31, 0, 0]'),\n",
       " Text(0.75, 0.25, 'gini = 0.5\\nsamples = 74\\nvalue = [0, 37, 37]')]"
      ]
     },
     "execution_count": 8,
     "metadata": {},
     "output_type": "execute_result"
    },
    {
     "data": {
      "image/png": "[encoded data removed]",
      "text/plain": [
       "<Figure size 640x480 with 1 Axes>"
      ]
     },
     "metadata": {},
     "output_type": "display_data"
    }
   ],
   "source": [
    "Iris_dt = DecisionTreeClassifier(criterion='gini',min_samples_split=1.0,max_depth=2)\n",
    "Iris_dt.fit(X_train, Y_train)\n",
    "Y_pred= Iris_dt.predict(X_test)\n",
    "tree.plot_tree(Iris_dt)"
   ]
  },
  {
   "cell_type": "markdown",
   "id": "d4d31026",
   "metadata": {},
   "source": [
    "### Classification and Accuracy Report of Decision Tree classifier"
   ]
  },
  {
   "cell_type": "code",
   "execution_count": 9,
   "id": "72747337",
   "metadata": {},
   "outputs": [
    {
     "name": "stdout",
     "output_type": "stream",
     "text": [
      "Classification report:\n",
      "              precision    recall  f1-score   support\n",
      "\n",
      "           0       1.00      1.00      1.00        19\n",
      "           1       0.50      1.00      0.67        13\n",
      "           2       0.00      0.00      0.00        13\n",
      "\n",
      "    accuracy                           0.71        45\n",
      "   macro avg       0.50      0.67      0.56        45\n",
      "weighted avg       0.57      0.71      0.61        45\n",
      "\n",
      " \n",
      "Accuracy Score:\n",
      "71.11111111111111\n"
     ]
    }
   ],
   "source": [
    "print(\"Classification report:\")\n",
    "print(classification_report(Y_test,Y_pred))\n",
    "print(\" \")\n",
    "print(\"Accuracy Score:\")\n",
    "print(accuracy_score(Y_test,Y_pred)*100)"
   ]
  },
  {
   "cell_type": "markdown",
   "id": "68f57511",
   "metadata": {},
   "source": [
    "#### Ensembling techniques are used to improve the accuracy scores of the model. Some of the important techniques are Bagging, Boosting and Stacking. We can see each of the technique and their accuracy rates in the below code."
   ]
  },
  {
   "cell_type": "markdown",
   "id": "8169afec",
   "metadata": {},
   "source": [
    "#### Bagging with decision tree classifier"
   ]
  },
  {
   "cell_type": "code",
   "execution_count": 10,
   "id": "1909344a",
   "metadata": {},
   "outputs": [],
   "source": [
    "irs_bag_Classifier = BaggingClassifier(\n",
    "    DecisionTreeClassifier(random_state=0), n_estimators=3,\n",
    "    max_samples=5, bootstrap=True, random_state=0)\n",
    "irs_bag_Classifier.fit(X_train, Y_train)\n",
    "Y_pred = irs_bag_Classifier.predict(X_test)"
   ]
  },
  {
   "cell_type": "markdown",
   "id": "c6108abd",
   "metadata": {},
   "source": [
    "#### Classification and Accuracy Report of Decision Tree classifier with Bagging "
   ]
  },
  {
   "cell_type": "code",
   "execution_count": 11,
   "id": "a8bf7cda",
   "metadata": {},
   "outputs": [
    {
     "name": "stdout",
     "output_type": "stream",
     "text": [
      "Classification report:\n",
      "              precision    recall  f1-score   support\n",
      "\n",
      "           0       1.00      1.00      1.00        19\n",
      "           1       1.00      0.85      0.92        13\n",
      "           2       0.87      1.00      0.93        13\n",
      "\n",
      "    accuracy                           0.96        45\n",
      "   macro avg       0.96      0.95      0.95        45\n",
      "weighted avg       0.96      0.96      0.96        45\n",
      "\n",
      " \n",
      "Accuracy Score:\n",
      "95.55555555555556\n"
     ]
    }
   ],
   "source": [
    "print(\"Classification report:\")\n",
    "print(classification_report(Y_test,Y_pred))\n",
    "print(\" \")\n",
    "print(\"Accuracy Score:\")\n",
    "print(accuracy_score(Y_test,Y_pred)*100)"
   ]
  },
  {
   "cell_type": "markdown",
   "id": "8b3ed862",
   "metadata": {},
   "source": [
    "From the above Bagging classification, we can see that the accuracy score is 95 which is higher than the Decision Tree classification."
   ]
  },
  {
   "cell_type": "markdown",
   "id": "57da14f4",
   "metadata": {},
   "source": [
    "#### Ensembling Boosting techniques using Ada Classifier, Gradient Boosting and XG Boosting classsifier"
   ]
  },
  {
   "cell_type": "code",
   "execution_count": 13,
   "id": "2b72ac19",
   "metadata": {},
   "outputs": [
    {
     "name": "stdout",
     "output_type": "stream",
     "text": [
      "AdaBoost Classifier:\n",
      "Classification report for AdaBoost Classifier:\n",
      "              precision    recall  f1-score   support\n",
      "\n",
      "           0       1.00      1.00      1.00        19\n",
      "           1       1.00      1.00      1.00        13\n",
      "           2       1.00      1.00      1.00        13\n",
      "\n",
      "    accuracy                           1.00        45\n",
      "   macro avg       1.00      1.00      1.00        45\n",
      "weighted avg       1.00      1.00      1.00        45\n",
      "\n",
      " \n",
      "Accuracy Score for AdaBoost Classifier:\n",
      "100.0\n",
      " \n",
      "Gradient Boost Classifier:\n",
      "Classification report of Gradient Boosting Classifier:\n",
      "              precision    recall  f1-score   support\n",
      "\n",
      "           0       1.00      1.00      1.00        19\n",
      "           1       1.00      1.00      1.00        13\n",
      "           2       1.00      1.00      1.00        13\n",
      "\n",
      "    accuracy                           1.00        45\n",
      "   macro avg       1.00      1.00      1.00        45\n",
      "weighted avg       1.00      1.00      1.00        45\n",
      "\n",
      " \n",
      "Accuracy Score for Gradient Boosting Classifier:\n",
      "100.0\n",
      " \n",
      "XG Boost Classifier: \n",
      "Classification report for XG Boost Classifier:\n",
      "              precision    recall  f1-score   support\n",
      "\n",
      "           0       1.00      1.00      1.00        19\n",
      "           1       1.00      1.00      1.00        13\n",
      "           2       1.00      1.00      1.00        13\n",
      "\n",
      "    accuracy                           1.00        45\n",
      "   macro avg       1.00      1.00      1.00        45\n",
      "weighted avg       1.00      1.00      1.00        45\n",
      "\n",
      " \n",
      "Accuracy Score for XG Boost Classifier:\n",
      "100.0\n"
     ]
    }
   ],
   "source": [
    "Ada_classifier = AdaBoostClassifier(DecisionTreeClassifier(max_depth=1), n_estimators=3,learning_rate=0.5)\n",
    "Ada_classifier.fit(X_train, Y_train)\n",
    "Y_pred_ada = Ada_classifier.predict(X_test)\n",
    "print(\"AdaBoost Classifier:\")\n",
    "print(\"Classification report for AdaBoost Classifier:\")\n",
    "print(classification_report(Y_test,Y_pred_ada))\n",
    "print(\" \")\n",
    "print(\"Accuracy Score for AdaBoost Classifier:\")\n",
    "print(accuracy_score(Y_test,Y_pred_ada)*100)\n",
    "print(\" \")\n",
    "GB_classifier = GradientBoostingClassifier(n_estimators=3, learning_rate = 0.5, max_features=2, max_depth = 2, random_state = 0)\n",
    "GB_classifier.fit(X_train, Y_train)\n",
    "Y_pred_gb = GB_classifier.predict(X_test)\n",
    "print(\"Gradient Boost Classifier:\")\n",
    "print(\"Classification report of Gradient Boosting Classifier:\")\n",
    "print(classification_report(Y_test,Y_pred_gb))\n",
    "print(\" \")\n",
    "print(\"Accuracy Score for Gradient Boosting Classifier:\")\n",
    "print(accuracy_score(Y_test,Y_pred_gb)*100)\n",
    "print(\" \")\n",
    "XGB_classifier = XGBClassifier(n_estimators=3, learning_rate = 0.5, max_depth = 2, random_state = 0)\n",
    "XGB_classifier.fit(X_train, Y_train)\n",
    "Y_pred_xgb = XGB_classifier.predict(X_test)\n",
    "print(\"XG Boost Classifier: \")\n",
    "print(\"Classification report for XG Boost Classifier:\")\n",
    "print(classification_report(Y_test,Y_pred_xgb))\n",
    "print(\" \")\n",
    "print(\"Accuracy Score for XG Boost Classifier:\")\n",
    "print(accuracy_score(Y_test,Y_pred_xgb)*100)"
   ]
  },
  {
   "cell_type": "markdown",
   "id": "d1656cf2",
   "metadata": {},
   "source": [
    "From the above accuracy scores from various boosting classifiers, we can say that ensembling helps in improvement of accuracy scores in which all these cases have 100 accuracy rate which is quite high"
   ]
  },
  {
   "cell_type": "markdown",
   "id": "db9be2f4",
   "metadata": {},
   "source": [
    "### Ensembling Stacking Techniques"
   ]
  },
  {
   "cell_type": "code",
   "execution_count": 16,
   "id": "0e6e5981",
   "metadata": {},
   "outputs": [
    {
     "name": "stdout",
     "output_type": "stream",
     "text": [
      "Stacking Classifier using the models Random Forest, XG Boost Classifier and Logistic regression: \n",
      "Classification report for Stacking Classifier:\n",
      "              precision    recall  f1-score   support\n",
      "\n",
      "           0       1.00      1.00      1.00        19\n",
      "           1       1.00      1.00      1.00        13\n",
      "           2       1.00      1.00      1.00        13\n",
      "\n",
      "    accuracy                           1.00        45\n",
      "   macro avg       1.00      1.00      1.00        45\n",
      "weighted avg       1.00      1.00      1.00        45\n",
      "\n",
      " \n",
      "Accuracy Score for Stacking Classifier:\n",
      "100.0\n"
     ]
    }
   ],
   "source": [
    "rf_classifier= RandomForestClassifier(n_estimators=3,random_state=0)\n",
    "XGB_classifier = XGBClassifier(n_estimators=3, learning_rate = 0.5, max_depth = 2, random_state = 0)\n",
    "log_reg_classifier = LogisticRegression(random_state=0)\n",
    "estimator = [\n",
    "     ('rf', rf_classifier),\n",
    "     ('xgb', XGB_classifier),\n",
    "     ('lg_reg', log_reg_classifier)\n",
    "]\n",
    "stacking_classifier = StackingClassifier(estimators=estimator)\n",
    "stacking_classifier.fit(X_train, Y_train)\n",
    "Y_pred_stacking = stacking_classifier.predict(X_test)\n",
    "print(\"Stacking Classifier using the models Random Forest, XG Boost Classifier and Logistic regression: \")\n",
    "print(\"Classification report for Stacking Classifier:\")\n",
    "print(classification_report(Y_test,Y_pred_stacking))\n",
    "print(\" \")\n",
    "print(\"Accuracy Score for Stacking Classifier:\")\n",
    "print(accuracy_score(Y_test,Y_pred_stacking)*100)"
   ]
  },
  {
   "cell_type": "markdown",
   "id": "a4596d00",
   "metadata": {},
   "source": [
    "From the above values, we can see that the accuracy value is coming as 100 using Stacking ensembling technique as we have already seen that XB Boost is having the 100% accuracy which could be the same that has been depicted above."
   ]
  },
  {
   "cell_type": "code",
   "execution_count": null,
   "id": "e588476d",
   "metadata": {},
   "outputs": [],
   "source": []
  }
 ],
 "metadata": {
  "kernelspec": {
   "display_name": "Python 3 (ipykernel)",
   "language": "python",
   "name": "python3"
  },
  "language_info": {
   "codemirror_mode": {
    "name": "ipython",
    "version": 3
   },
   "file_extension": ".py",
   "mimetype": "text/x-python",
   "name": "python",
   "nbconvert_exporter": "python",
   "pygments_lexer": "ipython3",
   "version": "3.9.13"
  }
 },
 "nbformat": 4,
 "nbformat_minor": 5
}
